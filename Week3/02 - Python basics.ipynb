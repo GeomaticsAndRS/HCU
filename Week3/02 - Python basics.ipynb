{
 "metadata": {
  "name": "",
  "signature": "sha256:a0193d1964fad39e981feab5d5fde553e829b6a5ccfeaac620db1a4dca0a7854"
 },
 "nbformat": 3,
 "nbformat_minor": 0,
 "worksheets": [
  {
   "cells": [
    {
     "cell_type": "heading",
     "level": 1,
     "metadata": {},
     "source": [
      "Python basics"
     ]
    },
    {
     "cell_type": "markdown",
     "metadata": {},
     "source": [
      "Nikolay Koldunov\n",
      "\n",
      "\n",
      "koldunovn@gmail.com"
     ]
    },
    {
     "cell_type": "markdown",
     "metadata": {},
     "source": [
      "This is part of [**Python for Geosciences**](https://github.com/koldunovn/python_for_geosciences) notes."
     ]
    },
    {
     "cell_type": "markdown",
     "metadata": {},
     "source": [
      "================"
     ]
    },
    {
     "cell_type": "heading",
     "level": 2,
     "metadata": {},
     "source": [
      "Variables"
     ]
    },
    {
     "cell_type": "markdown",
     "metadata": {},
     "source": [
      "Python uses [duck typing](http://en.wikipedia.org/wiki/Duck_typing)"
     ]
    },
    {
     "cell_type": "markdown",
     "metadata": {},
     "source": [
      "Variable - is a facility for storing data. The current value of the variable is the data actially stored in the variable."
     ]
    },
    {
     "cell_type": "heading",
     "level": 3,
     "metadata": {},
     "source": [
      "Int"
     ]
    },
    {
     "cell_type": "code",
     "collapsed": false,
     "input": [
      "a = 10"
     ],
     "language": "python",
     "metadata": {},
     "outputs": []
    },
    {
     "cell_type": "code",
     "collapsed": false,
     "input": [
      "a"
     ],
     "language": "python",
     "metadata": {},
     "outputs": []
    },
    {
     "cell_type": "code",
     "collapsed": false,
     "input": [
      "type(a)"
     ],
     "language": "python",
     "metadata": {},
     "outputs": []
    },
    {
     "cell_type": "heading",
     "level": 3,
     "metadata": {},
     "source": [
      "Float"
     ]
    },
    {
     "cell_type": "code",
     "collapsed": false,
     "input": [
      "z = 10.\n",
      "z"
     ],
     "language": "python",
     "metadata": {},
     "outputs": []
    },
    {
     "cell_type": "code",
     "collapsed": false,
     "input": [
      "type(z)"
     ],
     "language": "python",
     "metadata": {},
     "outputs": []
    },
    {
     "cell_type": "heading",
     "level": 3,
     "metadata": {},
     "source": [
      "Exercise"
     ]
    },
    {
     "cell_type": "markdown",
     "metadata": {},
     "source": [
      "calculate $a+b$, where $a=2$, $b = 3$"
     ]
    },
    {
     "cell_type": "code",
     "collapsed": false,
     "input": [],
     "language": "python",
     "metadata": {},
     "outputs": []
    },
    {
     "cell_type": "markdown",
     "metadata": {},
     "source": [
      "$$a^2 + \\sqrt{b}$$\n",
      "$$c = a^2 + \\sqrt{b}$$\n",
      "$$c = \\sqrt{a^2 + \\sqrt{b}}$$"
     ]
    },
    {
     "cell_type": "heading",
     "level": 3,
     "metadata": {},
     "source": [
      "Legal names "
     ]
    },
    {
     "cell_type": "markdown",
     "metadata": {},
     "source": [
      "Legal names consist of any combination of letters and digits, starting with a letter. \n",
      "\n",
      "These are allowable:\n",
      "\n",
      "    LatLon, Lat2Lon, l5, L2, z25c5\n",
      "\n",
      "These are not allowable:\n",
      "\n",
      "    Lat-Lon, 2Lat, %x, @sign\n",
      "\n",
      "Use names that reflect the values they represent."
     ]
    },
    {
     "cell_type": "heading",
     "level": 3,
     "metadata": {},
     "source": [
      "String"
     ]
    },
    {
     "cell_type": "code",
     "collapsed": false,
     "input": [
      "b = '2'\n",
      "b"
     ],
     "language": "python",
     "metadata": {},
     "outputs": []
    },
    {
     "cell_type": "markdown",
     "metadata": {},
     "source": [
      "Some operations are not allowed on different types:"
     ]
    },
    {
     "cell_type": "code",
     "collapsed": false,
     "input": [
      "a+b"
     ],
     "language": "python",
     "metadata": {},
     "outputs": []
    },
    {
     "cell_type": "markdown",
     "metadata": {},
     "source": [
      "But some of them are allowed:"
     ]
    },
    {
     "cell_type": "code",
     "collapsed": false,
     "input": [
      "a*b"
     ],
     "language": "python",
     "metadata": {},
     "outputs": []
    },
    {
     "cell_type": "markdown",
     "metadata": {},
     "source": [
      "Might be a source of confusion :)"
     ]
    },
    {
     "cell_type": "markdown",
     "metadata": {},
     "source": [
      "String variables can be combined:"
     ]
    },
    {
     "cell_type": "code",
     "collapsed": false,
     "input": [
      "c = ' guys walk into a bar'\n",
      "c"
     ],
     "language": "python",
     "metadata": {},
     "outputs": []
    },
    {
     "cell_type": "code",
     "collapsed": false,
     "input": [
      "b+c"
     ],
     "language": "python",
     "metadata": {},
     "outputs": []
    },
    {
     "cell_type": "markdown",
     "metadata": {},
     "source": [
      "In order to include variable of another type in to string you have to convert it:"
     ]
    },
    {
     "cell_type": "code",
     "collapsed": false,
     "input": [
      "str(a)+c"
     ],
     "language": "python",
     "metadata": {},
     "outputs": []
    },
    {
     "cell_type": "heading",
     "level": 2,
     "metadata": {},
     "source": [
      "Everything is an object"
     ]
    },
    {
     "cell_type": "markdown",
     "metadata": {},
     "source": [
      "In IPython you can get the list of object's methods and attributes by typing dot and pressing TAB:"
     ]
    },
    {
     "cell_type": "code",
     "collapsed": false,
     "input": [
      "c."
     ],
     "language": "python",
     "metadata": {},
     "outputs": []
    },
    {
     "cell_type": "markdown",
     "metadata": {},
     "source": [
      "Methods are basically default functions that can be applied to our variable:"
     ]
    },
    {
     "cell_type": "code",
     "collapsed": false,
     "input": [
      "c.upper()"
     ],
     "language": "python",
     "metadata": {},
     "outputs": []
    },
    {
     "cell_type": "code",
     "collapsed": false,
     "input": [
      "c.title()"
     ],
     "language": "python",
     "metadata": {},
     "outputs": []
    },
    {
     "cell_type": "code",
     "collapsed": false,
     "input": [
      "c.count('a')"
     ],
     "language": "python",
     "metadata": {},
     "outputs": []
    },
    {
     "cell_type": "code",
     "collapsed": false,
     "input": [
      "c.find('into')"
     ],
     "language": "python",
     "metadata": {},
     "outputs": []
    },
    {
     "cell_type": "markdown",
     "metadata": {},
     "source": [
      "If you need help on method in IPython type something like:"
     ]
    },
    {
     "cell_type": "code",
     "collapsed": false,
     "input": [
      "c.find?"
     ],
     "language": "python",
     "metadata": {},
     "outputs": []
    },
    {
     "cell_type": "markdown",
     "metadata": {},
     "source": [
      "Or open bracket and press TAB:"
     ]
    },
    {
     "cell_type": "code",
     "collapsed": false,
     "input": [
      "c.find("
     ],
     "language": "python",
     "metadata": {},
     "outputs": []
    },
    {
     "cell_type": "heading",
     "level": 3,
     "metadata": {},
     "source": [
      "Exercise"
     ]
    },
    {
     "cell_type": "markdown",
     "metadata": {},
     "source": [
      "* Create variables with your name and word Hi, and print out \"Hi, Name\"\n",
      "* Make your name apear in all capital letters\n"
     ]
    },
    {
     "cell_type": "heading",
     "level": 2,
     "metadata": {},
     "source": [
      "Lists"
     ]
    },
    {
     "cell_type": "markdown",
     "metadata": {},
     "source": [
      "There are several other interesting variable types in Python, but the one we would need the most is the list."
     ]
    },
    {
     "cell_type": "markdown",
     "metadata": {},
     "source": [
      "In order to create list put coma separated values in square brackets:"
     ]
    },
    {
     "cell_type": "code",
     "collapsed": false,
     "input": [
      "l = [1,2,3,4,5]\n",
      "l"
     ],
     "language": "python",
     "metadata": {},
     "outputs": []
    },
    {
     "cell_type": "markdown",
     "metadata": {},
     "source": [
      "Sort of similar to Matlab variables, but not exactly."
     ]
    },
    {
     "cell_type": "markdown",
     "metadata": {},
     "source": [
      "Values in list can be any type:"
     ]
    },
    {
     "cell_type": "code",
     "collapsed": false,
     "input": [
      "l = ['one', 'two', 'three', 'four', 'five']\n",
      "l"
     ],
     "language": "python",
     "metadata": {},
     "outputs": []
    },
    {
     "cell_type": "markdown",
     "metadata": {},
     "source": [
      "Combined"
     ]
    },
    {
     "cell_type": "code",
     "collapsed": false,
     "input": [
      "l = ['one', 2, 'three', 4.0, 3+2]\n",
      "l"
     ],
     "language": "python",
     "metadata": {},
     "outputs": []
    },
    {
     "cell_type": "markdown",
     "metadata": {},
     "source": [
      "Any type means ANY type:"
     ]
    },
    {
     "cell_type": "code",
     "collapsed": false,
     "input": [
      "l = ['one', 2, 'three', [1,2,3,4,5], 3+2]\n",
      "l"
     ],
     "language": "python",
     "metadata": {},
     "outputs": []
    },
    {
     "cell_type": "markdown",
     "metadata": {},
     "source": [
      "You can access list values by index:"
     ]
    },
    {
     "cell_type": "code",
     "collapsed": false,
     "input": [
      "l[0]"
     ],
     "language": "python",
     "metadata": {},
     "outputs": []
    },
    {
     "cell_type": "markdown",
     "metadata": {},
     "source": [
      "Oh, yes, indexing starts with zero, so for Matlab users the zero is the new one :) See discussion on the matter [here](http://en.wikipedia.org/wiki/Zero-based_numbering)."
     ]
    },
    {
     "cell_type": "code",
     "collapsed": false,
     "input": [
      "l[1]"
     ],
     "language": "python",
     "metadata": {},
     "outputs": []
    },
    {
     "cell_type": "markdown",
     "metadata": {},
     "source": [
      "Let's have a look at the 4th element of our list:"
     ]
    },
    {
     "cell_type": "code",
     "collapsed": false,
     "input": [
      "l[3]"
     ],
     "language": "python",
     "metadata": {},
     "outputs": []
    },
    {
     "cell_type": "markdown",
     "metadata": {},
     "source": [
      "It's also a list, and its values can be accessed by indexes as well:"
     ]
    },
    {
     "cell_type": "code",
     "collapsed": false,
     "input": [
      "l[3][4]"
     ],
     "language": "python",
     "metadata": {},
     "outputs": []
    },
    {
     "cell_type": "markdown",
     "metadata": {},
     "source": [
      "You also can acces multiple elements of the list using slices:"
     ]
    },
    {
     "cell_type": "code",
     "collapsed": false,
     "input": [
      "l[1:3]"
     ],
     "language": "python",
     "metadata": {},
     "outputs": []
    },
    {
     "cell_type": "markdown",
     "metadata": {},
     "source": [
      "Slice will start with the first slice index and go up to but not including the second slice index. "
     ]
    },
    {
     "cell_type": "code",
     "collapsed": false,
     "input": [
      "l[3]"
     ],
     "language": "python",
     "metadata": {},
     "outputs": []
    },
    {
     "cell_type": "heading",
     "level": 2,
     "metadata": {},
     "source": [
      "Control Structures"
     ]
    },
    {
     "cell_type": "heading",
     "level": 3,
     "metadata": {},
     "source": [
      "For loop:"
     ]
    },
    {
     "cell_type": "markdown",
     "metadata": {},
     "source": [
      "This loop will print all elements from the list *l*"
     ]
    },
    {
     "cell_type": "code",
     "collapsed": false,
     "input": [
      "l = ['one', 2, 'three', [1,2,3,4,5], 3+2]\n",
      "\n",
      "for element in l:\n",
      "    print element"
     ],
     "language": "python",
     "metadata": {},
     "outputs": []
    },
    {
     "cell_type": "markdown",
     "metadata": {},
     "source": [
      "Two interesting thins here. First: indentation, it's in the code, you must use it, otherwise code will not work:"
     ]
    },
    {
     "cell_type": "code",
     "collapsed": false,
     "input": [
      "for element in l:\n",
      "print element"
     ],
     "language": "python",
     "metadata": {},
     "outputs": []
    },
    {
     "cell_type": "markdown",
     "metadata": {},
     "source": [
      "Second - you can iterate through the elements of the list. There is an option to iterate through a bunch of numbers as we used to in Matlab:"
     ]
    },
    {
     "cell_type": "code",
     "collapsed": false,
     "input": [
      "for index in range(5):\n",
      "    print(l[index])"
     ],
     "language": "python",
     "metadata": {},
     "outputs": []
    },
    {
     "cell_type": "markdown",
     "metadata": {},
     "source": [
      "where *range* is just generating a list with sequence of numbers:"
     ]
    },
    {
     "cell_type": "code",
     "collapsed": false,
     "input": [
      "range(5)"
     ],
     "language": "python",
     "metadata": {},
     "outputs": []
    },
    {
     "cell_type": "heading",
     "level": 3,
     "metadata": {},
     "source": [
      "Branches"
     ]
    },
    {
     "cell_type": "markdown",
     "metadata": {},
     "source": [
      "We are not going to use branches too much, but this is how they look like just as another example of indentation use:"
     ]
    },
    {
     "cell_type": "code",
     "collapsed": false,
     "input": [
      "x = -1\n",
      "if x > 0:\n",
      "   print \"Melting\"\n",
      "elif x == 0:\n",
      "   print \"Zero\"\n",
      "else:\n",
      "   print \"Freezing\""
     ],
     "language": "python",
     "metadata": {},
     "outputs": []
    },
    {
     "cell_type": "heading",
     "level": 3,
     "metadata": {},
     "source": [
      "Exercise"
     ]
    },
    {
     "cell_type": "markdown",
     "metadata": {},
     "source": [
      "    99 Bottles of beer on the wall,\n",
      "    99 Bottles of beer,\n",
      "    Take one down and pass it around,\n",
      "    98 Bottles of beer on the wall.\n",
      "    \u2026.\n",
      "    \u2026.\n",
      "    3 Bottles of beer on the wall,\n",
      "    3 Bottles of beer,\n",
      "    Take one down and pass it around,\n",
      "    2 Bottles of beer on the wall.\n",
      "    \n",
      "    2 Bottles of beer on the wall,\n",
      "    2 Bottles of beer,\n",
      "    Take one down and pass it around,\n",
      "    1 Bottles of beer on the wall.\n",
      "    \n",
      "    1 Bottles of beer on the wall,\n",
      "    1 Bottles of beer,\n",
      "    Take one down and pass it around,\n",
      "    No more bottles of beer on the wall!"
     ]
    },
    {
     "cell_type": "code",
     "collapsed": false,
     "input": [
      "bottles = range(99, 0, -1)"
     ],
     "language": "python",
     "metadata": {},
     "outputs": []
    },
    {
     "cell_type": "markdown",
     "metadata": {},
     "source": [
      "##Functions"
     ]
    },
    {
     "cell_type": "code",
     "collapsed": false,
     "input": [
      "def sq(x):\n",
      "    r = x**2\n",
      "    return r"
     ],
     "language": "python",
     "metadata": {},
     "outputs": []
    },
    {
     "cell_type": "code",
     "collapsed": false,
     "input": [
      "sq(5)"
     ],
     "language": "python",
     "metadata": {},
     "outputs": []
    },
    {
     "cell_type": "code",
     "collapsed": false,
     "input": [
      "def myad(a,b):\n",
      "    r = a+b\n",
      "    return r"
     ],
     "language": "python",
     "metadata": {},
     "outputs": []
    },
    {
     "cell_type": "code",
     "collapsed": false,
     "input": [
      "myad(5,5)"
     ],
     "language": "python",
     "metadata": {},
     "outputs": []
    },
    {
     "cell_type": "code",
     "collapsed": false,
     "input": [
      "def hello(Name):\n",
      "    print('Hello '+Name)"
     ],
     "language": "python",
     "metadata": {},
     "outputs": []
    },
    {
     "cell_type": "code",
     "collapsed": false,
     "input": [
      "hello('Nikolay')"
     ],
     "language": "python",
     "metadata": {},
     "outputs": []
    },
    {
     "cell_type": "markdown",
     "metadata": {},
     "source": [
      "###Exercise\n",
      "\n",
      "Covert  $^{\\circ}$F to $^{\\circ}$C and back\n",
      "\n",
      "\u00b0C = (\u00b0F \u2212 32) \u00d7 5/9\n",
      "\n",
      "\u00b0F = \u00b0C \u00d7 9/5 + 32"
     ]
    },
    {
     "cell_type": "heading",
     "level": 3,
     "metadata": {},
     "source": [
      "Modules"
     ]
    },
    {
     "cell_type": "markdown",
     "metadata": {},
     "source": [
      "Pure python does not do much. Even IPython with *pylab* enabled can do only limited number of things. To do some specific tasks you need to import modules. Here I am going to demonstrate several ways to do so."
     ]
    },
    {
     "cell_type": "markdown",
     "metadata": {},
     "source": [
      "The most common one is to import complete library. In this example we import *urllib2* - a library for opening URLs using a variety of protocols."
     ]
    },
    {
     "cell_type": "code",
     "collapsed": false,
     "input": [
      "import urllib2"
     ],
     "language": "python",
     "metadata": {},
     "outputs": []
    },
    {
     "cell_type": "markdown",
     "metadata": {},
     "source": [
      "Here we get information from some ftp site. Note how function *urlopen* is called. We have to use name of the library, then dot, then name of the function from the library:"
     ]
    },
    {
     "cell_type": "code",
     "collapsed": false,
     "input": [
      "response = urllib2.urlopen('https://www.hcu-hamburg.de/en/')\n",
      "html = response.read()\n",
      "html.splitlines()[0:20]"
     ],
     "language": "python",
     "metadata": {},
     "outputs": []
    },
    {
     "cell_type": "code",
     "collapsed": false,
     "input": [
      "response = urllib2.urlopen('ftp://ftp.zmaw.de/')\n",
      "html = response.read()\n",
      "html.splitlines()"
     ],
     "language": "python",
     "metadata": {},
     "outputs": []
    },
    {
     "cell_type": "markdown",
     "metadata": {},
     "source": [
      "Another option is to import it like this:"
     ]
    },
    {
     "cell_type": "code",
     "collapsed": false,
     "input": [
      "from urllib2 import *"
     ],
     "language": "python",
     "metadata": {},
     "outputs": []
    },
    {
     "cell_type": "markdown",
     "metadata": {},
     "source": [
      "In this case all functions will be imported in to the name-space and you can use *urlopen* directly, without typing the name of the library first:"
     ]
    },
    {
     "cell_type": "code",
     "collapsed": false,
     "input": [
      "response = urlopen('ftp://ftp.zmaw.de/')\n",
      "html = response.read()\n",
      "html.splitlines()"
     ],
     "language": "python",
     "metadata": {},
     "outputs": []
    },
    {
     "cell_type": "markdown",
     "metadata": {},
     "source": [
      "But generally I think it's a bad idea, because your name-space is populated by things that you don't really need and it's hard to tell where the function comes from."
     ]
    },
    {
     "cell_type": "code",
     "collapsed": true,
     "input": [
      "whos"
     ],
     "language": "python",
     "metadata": {},
     "outputs": []
    },
    {
     "cell_type": "markdown",
     "metadata": {},
     "source": [
      "You can import only function that you need:"
     ]
    },
    {
     "cell_type": "code",
     "collapsed": false,
     "input": [
      "from urllib2 import urlopen"
     ],
     "language": "python",
     "metadata": {},
     "outputs": []
    },
    {
     "cell_type": "code",
     "collapsed": false,
     "input": [
      "response = urlopen('ftp://ftp.zmaw.de/')\n",
      "html = response.read()\n",
      "html.splitlines()"
     ],
     "language": "python",
     "metadata": {},
     "outputs": []
    },
    {
     "cell_type": "markdown",
     "metadata": {},
     "source": [
      "Or import library as alias in order to avoid extensive typing:"
     ]
    },
    {
     "cell_type": "code",
     "collapsed": false,
     "input": [
      "import urllib2 as ul"
     ],
     "language": "python",
     "metadata": {},
     "outputs": []
    },
    {
     "cell_type": "code",
     "collapsed": false,
     "input": [
      "response = ul.urlopen('ftp://ftp.zmaw.de/')\n",
      "html = response.read()\n",
      "html.splitlines()"
     ],
     "language": "python",
     "metadata": {},
     "outputs": []
    },
    {
     "cell_type": "markdown",
     "metadata": {},
     "source": [
      "###Exercise"
     ]
    },
    {
     "cell_type": "markdown",
     "metadata": {},
     "source": [
      "Use [free currency convertion API](http://farebookings.blogspot.com.es/2013/11/currency-conversion-util.html) to write function tht converts one currency to another. \n",
      "\n",
      "Output should look like this:\n",
      "    \"1 USD is 0.8 EUR\"\n",
      "    \n",
      "Import library in a different way."
     ]
    },
    {
     "cell_type": "code",
     "collapsed": false,
     "input": [
      "import urllib2\n",
      "\n",
      "\n",
      "response = urllib2.urlopen('http://devel.farebookings.com/api/curconversor/USD/EUR/1/')\n",
      "response.read()"
     ],
     "language": "python",
     "metadata": {},
     "outputs": []
    },
    {
     "cell_type": "heading",
     "level": 2,
     "metadata": {},
     "source": [
      "Links:"
     ]
    },
    {
     "cell_type": "markdown",
     "metadata": {},
     "source": [
      "[Dive Into Python](http://www.diveintopython.net/index.html)"
     ]
    }
   ],
   "metadata": {}
  }
 ]
}