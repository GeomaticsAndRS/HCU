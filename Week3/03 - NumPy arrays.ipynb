{
 "metadata": {
  "name": "",
  "signature": "sha256:ad6094eff681fb4c72caa243eb3d594a1ed36837fc977a585d4dbc62e9f9a61c"
 },
 "nbformat": 3,
 "nbformat_minor": 0,
 "worksheets": [
  {
   "cells": [
    {
     "cell_type": "heading",
     "level": 1,
     "metadata": {},
     "source": [
      "NumPy arrays"
     ]
    },
    {
     "cell_type": "markdown",
     "metadata": {},
     "source": [
      "Nikolay Koldunov\n",
      "\n",
      "koldunovn@gmail.com"
     ]
    },
    {
     "cell_type": "markdown",
     "metadata": {},
     "source": [
      "================"
     ]
    },
    {
     "cell_type": "markdown",
     "metadata": {},
     "source": [
      "<img  height=\"100\" src=\"files/numpy.png\" >"
     ]
    },
    {
     "cell_type": "markdown",
     "metadata": {},
     "source": [
      "-    a powerful N-dimensional array object\n",
      "-    sophisticated (broadcasting) functions\n",
      "-    tools for integrating C/C++ and Fortran code\n",
      "-    useful linear algebra, Fourier transform, and random number capabilities\n"
     ]
    },
    {
     "cell_type": "code",
     "collapsed": false,
     "input": [
      "import numpy as np\n",
      "%matplotlib inline"
     ],
     "language": "python",
     "metadata": {},
     "outputs": []
    },
    {
     "cell_type": "code",
     "collapsed": false,
     "input": [
      "np.set_printoptions(precision=3 , suppress= True) # this is just to make the output look better"
     ],
     "language": "python",
     "metadata": {},
     "outputs": []
    },
    {
     "cell_type": "heading",
     "level": 2,
     "metadata": {},
     "source": [
      "Load data"
     ]
    },
    {
     "cell_type": "markdown",
     "metadata": {},
     "source": [
      "Load data in to a variable:"
     ]
    },
    {
     "cell_type": "code",
     "collapsed": false,
     "input": [
      "temp = np.loadtxt('Ham_3column.txt')"
     ],
     "language": "python",
     "metadata": {},
     "outputs": []
    },
    {
     "cell_type": "code",
     "collapsed": false,
     "input": [
      "temp"
     ],
     "language": "python",
     "metadata": {},
     "outputs": []
    },
    {
     "cell_type": "code",
     "collapsed": false,
     "input": [
      "temp.shape"
     ],
     "language": "python",
     "metadata": {},
     "outputs": []
    },
    {
     "cell_type": "markdown",
     "metadata": {},
     "source": [
      "<img  height=\"100\" src=\"files/anatomyarray.png\" >"
     ]
    },
    {
     "cell_type": "code",
     "collapsed": false,
     "input": [
      "temp.size"
     ],
     "language": "python",
     "metadata": {},
     "outputs": []
    },
    {
     "cell_type": "markdown",
     "metadata": {},
     "source": [
      "So it's a *row-major* order. Matlab and Fortran use *column-major* order for arrays."
     ]
    },
    {
     "cell_type": "code",
     "collapsed": false,
     "input": [
      "type(temp)"
     ],
     "language": "python",
     "metadata": {},
     "outputs": []
    },
    {
     "cell_type": "markdown",
     "metadata": {},
     "source": [
      "Numpy arrays are statically typed, which allow faster operations"
     ]
    },
    {
     "cell_type": "code",
     "collapsed": false,
     "input": [
      "temp.dtype"
     ],
     "language": "python",
     "metadata": {},
     "outputs": []
    },
    {
     "cell_type": "markdown",
     "metadata": {},
     "source": [
      "You can't assign value of different type to element of the numpy array:"
     ]
    },
    {
     "cell_type": "code",
     "collapsed": false,
     "input": [
      "temp[0,0] = 'Year'"
     ],
     "language": "python",
     "metadata": {},
     "outputs": []
    },
    {
     "cell_type": "markdown",
     "metadata": {},
     "source": [
      "Slicing works similarly to Matlab:"
     ]
    },
    {
     "cell_type": "code",
     "collapsed": false,
     "input": [
      "temp[0:5,:]"
     ],
     "language": "python",
     "metadata": {},
     "outputs": []
    },
    {
     "cell_type": "code",
     "collapsed": false,
     "input": [
      "temp[-5:-1,:]"
     ],
     "language": "python",
     "metadata": {},
     "outputs": []
    },
    {
     "cell_type": "markdown",
     "metadata": {},
     "source": [
      "One can look at the data. This is done by matplotlib module:"
     ]
    },
    {
     "cell_type": "code",
     "collapsed": false,
     "input": [
      "import matplotlib.pylab as plt\n",
      "plt.plot(temp[:,3])"
     ],
     "language": "python",
     "metadata": {},
     "outputs": []
    },
    {
     "cell_type": "heading",
     "level": 2,
     "metadata": {},
     "source": [
      "Index slicing"
     ]
    },
    {
     "cell_type": "markdown",
     "metadata": {},
     "source": [
      "In general it is similar to Matlab"
     ]
    },
    {
     "cell_type": "markdown",
     "metadata": {},
     "source": [
      "First 12 elements of **second** column (months). Remember that indexing starts with 0:"
     ]
    },
    {
     "cell_type": "code",
     "collapsed": false,
     "input": [
      "temp[0:12,2]"
     ],
     "language": "python",
     "metadata": {},
     "outputs": []
    },
    {
     "cell_type": "markdown",
     "metadata": {},
     "source": [
      "First raw:"
     ]
    },
    {
     "cell_type": "code",
     "collapsed": false,
     "input": [
      "temp[0,:]"
     ],
     "language": "python",
     "metadata": {},
     "outputs": []
    },
    {
     "cell_type": "markdown",
     "metadata": {},
     "source": [
      "##Exercise\n",
      "\n",
      " - Plot only first 1000 values\n",
      " - Plot last 1000 values\n"
     ]
    },
    {
     "cell_type": "markdown",
     "metadata": {},
     "source": [
      "We can create mask, selecting all raws where values in third raw (days) equals 10:"
     ]
    },
    {
     "cell_type": "code",
     "collapsed": false,
     "input": [
      "mask = (temp[:,2]==10)"
     ],
     "language": "python",
     "metadata": {},
     "outputs": []
    },
    {
     "cell_type": "markdown",
     "metadata": {},
     "source": [
      "Here we apply this mask and show only first 5 raws of the array:"
     ]
    },
    {
     "cell_type": "code",
     "collapsed": false,
     "input": [
      "temp[mask][:20,:]"
     ],
     "language": "python",
     "metadata": {},
     "outputs": []
    },
    {
     "cell_type": "markdown",
     "metadata": {},
     "source": [
      "You don't have to create separate variable for mask, but apply it directly. Here instead of first five rows I show five last rows:"
     ]
    },
    {
     "cell_type": "code",
     "collapsed": false,
     "input": [
      "temp[temp[:,2]==10][-5:,:]"
     ],
     "language": "python",
     "metadata": {},
     "outputs": []
    },
    {
     "cell_type": "markdown",
     "metadata": {},
     "source": [
      "You can combine conditions. In this case we select days from 10 to 12 (only first 10 elements are shown):"
     ]
    },
    {
     "cell_type": "code",
     "collapsed": false,
     "input": [
      "temp[(temp[:,2]>=10)&(temp[:,2]<=12)][0:10,:]"
     ],
     "language": "python",
     "metadata": {},
     "outputs": []
    },
    {
     "cell_type": "markdown",
     "metadata": {},
     "source": [
      "##Exercise\n",
      "\n",
      "    Select only summer months\n",
      "    Select only first half of the year\n"
     ]
    },
    {
     "cell_type": "heading",
     "level": 2,
     "metadata": {},
     "source": [
      "Basic operations"
     ]
    },
    {
     "cell_type": "markdown",
     "metadata": {},
     "source": [
      "Create example array from first 12 values of second column and perform some basic operations:"
     ]
    },
    {
     "cell_type": "code",
     "collapsed": false,
     "input": [
      "days = temp[0:12,2]\n",
      "days"
     ],
     "language": "python",
     "metadata": {},
     "outputs": []
    },
    {
     "cell_type": "code",
     "collapsed": false,
     "input": [
      "days+10"
     ],
     "language": "python",
     "metadata": {},
     "outputs": []
    },
    {
     "cell_type": "code",
     "collapsed": false,
     "input": [
      "days*20"
     ],
     "language": "python",
     "metadata": {},
     "outputs": []
    },
    {
     "cell_type": "code",
     "collapsed": false,
     "input": [
      "days*days"
     ],
     "language": "python",
     "metadata": {},
     "outputs": []
    },
    {
     "cell_type": "markdown",
     "metadata": {},
     "source": [
      "What's wrong with this figure?"
     ]
    },
    {
     "cell_type": "code",
     "collapsed": false,
     "input": [
      "plt.plot(temp[:100,3])"
     ],
     "language": "python",
     "metadata": {},
     "outputs": []
    },
    {
     "cell_type": "code",
     "collapsed": false,
     "input": [],
     "language": "python",
     "metadata": {},
     "outputs": []
    },
    {
     "cell_type": "code",
     "collapsed": false,
     "input": [],
     "language": "python",
     "metadata": {},
     "outputs": []
    },
    {
     "cell_type": "code",
     "collapsed": false,
     "input": [],
     "language": "python",
     "metadata": {},
     "outputs": []
    },
    {
     "cell_type": "markdown",
     "metadata": {},
     "source": [
      "##Exercise\n",
      "\n",
      "- Create new array that will contain only temperatures\n",
      "\n",
      "- Convert temperature to deg C\n",
      "\n",
      "- Convert all temperatures to deg F\n"
     ]
    },
    {
     "cell_type": "heading",
     "level": 2,
     "metadata": {},
     "source": [
      "Basic statistics"
     ]
    },
    {
     "cell_type": "markdown",
     "metadata": {},
     "source": [
      "Create *temp_values* that will contain only data values:"
     ]
    },
    {
     "cell_type": "code",
     "collapsed": false,
     "input": [
      "temp_values = temp[:,3]/10.\n",
      "temp_values"
     ],
     "language": "python",
     "metadata": {},
     "outputs": []
    },
    {
     "cell_type": "markdown",
     "metadata": {},
     "source": [
      "Simple statistics:"
     ]
    },
    {
     "cell_type": "code",
     "collapsed": false,
     "input": [
      "temp_values.min()"
     ],
     "language": "python",
     "metadata": {},
     "outputs": []
    },
    {
     "cell_type": "code",
     "collapsed": false,
     "input": [
      "temp_values.max()"
     ],
     "language": "python",
     "metadata": {},
     "outputs": []
    },
    {
     "cell_type": "code",
     "collapsed": false,
     "input": [
      "temp_values.mean()"
     ],
     "language": "python",
     "metadata": {},
     "outputs": []
    },
    {
     "cell_type": "code",
     "collapsed": false,
     "input": [
      "temp_values.std()"
     ],
     "language": "python",
     "metadata": {},
     "outputs": []
    },
    {
     "cell_type": "code",
     "collapsed": false,
     "input": [
      "temp_values.sum()"
     ],
     "language": "python",
     "metadata": {},
     "outputs": []
    },
    {
     "cell_type": "markdown",
     "metadata": {},
     "source": [
      "You can also use *sum* function:"
     ]
    },
    {
     "cell_type": "code",
     "collapsed": false,
     "input": [
      "np.sum(temp_values)"
     ],
     "language": "python",
     "metadata": {},
     "outputs": []
    },
    {
     "cell_type": "markdown",
     "metadata": {},
     "source": [
      "One can make operations on the subsets:"
     ]
    },
    {
     "cell_type": "markdown",
     "metadata": {},
     "source": [
      "##Exercise\n",
      "\n",
      "    Calculate mean for first 1000 values of temperature\n"
     ]
    },
    {
     "cell_type": "heading",
     "level": 2,
     "metadata": {},
     "source": [
      "Saving data"
     ]
    },
    {
     "cell_type": "markdown",
     "metadata": {},
     "source": [
      "You can save your data as a text file"
     ]
    },
    {
     "cell_type": "code",
     "collapsed": false,
     "input": [
      "np.savetxt('temp_only_values.csv',temp[:, 3]/10., fmt='%.4f')"
     ],
     "language": "python",
     "metadata": {},
     "outputs": []
    },
    {
     "cell_type": "markdown",
     "metadata": {},
     "source": [
      "Head of resulting file:"
     ]
    },
    {
     "cell_type": "code",
     "collapsed": false,
     "input": [
      "!head temp_only_values.csv"
     ],
     "language": "python",
     "metadata": {},
     "outputs": []
    },
    {
     "cell_type": "markdown",
     "metadata": {},
     "source": [
      "You can also save it as binary:"
     ]
    },
    {
     "cell_type": "code",
     "collapsed": false,
     "input": [
      "f=open('temp_only_values.bin', 'w')\n",
      "temp[:,3].tofile(f)\n",
      "f.close()"
     ],
     "language": "python",
     "metadata": {},
     "outputs": []
    },
    {
     "cell_type": "markdown",
     "metadata": {},
     "source": [
      "##Exercises\n",
      "\n",
      "* Select and plot only data for October\n",
      "* Calculate monthly means for years from 1990 to 1999 and plot them"
     ]
    },
    {
     "cell_type": "code",
     "collapsed": false,
     "input": [],
     "language": "python",
     "metadata": {},
     "outputs": []
    }
   ],
   "metadata": {}
  }
 ]
}