{
 "metadata": {
  "name": "",
  "signature": "sha256:385bbbaaf85f8160d928a31992e5ee4934dab8ccee5a4bf1e4f6de4dd63db15a"
 },
 "nbformat": 3,
 "nbformat_minor": 0,
 "worksheets": [
  {
   "cells": [
    {
     "cell_type": "code",
     "collapsed": false,
     "input": [
      "%matplotlib inline\n",
      "import matplotlib.pylab as plt\n",
      "import numpy as np\n",
      "from netCDF4 import Dataset, num2date\n",
      "from mpl_toolkits.basemap import Basemap\n",
      "import pandas as pd"
     ],
     "language": "python",
     "metadata": {},
     "outputs": []
    },
    {
     "cell_type": "code",
     "collapsed": false,
     "input": [
      "f = Dataset('air.sig995.1950.nc')\n",
      "air = f.variables['air']\n",
      "lat = f.variables['lat'][:]\n",
      "lon = f.variables['lon'][:]\n",
      "time = f.variables['time']"
     ],
     "language": "python",
     "metadata": {},
     "outputs": []
    },
    {
     "cell_type": "code",
     "collapsed": false,
     "input": [
      "lon, lat = np.meshgrid(lon, lat)"
     ],
     "language": "python",
     "metadata": {},
     "outputs": []
    },
    {
     "cell_type": "code",
     "collapsed": false,
     "input": [
      "m = Basemap(llcrnrlon=0,llcrnrlat=-90,urcrnrlon=360,urcrnrlat=90,projection='mill')\n",
      "x, y = m(lon, lat)"
     ],
     "language": "python",
     "metadata": {},
     "outputs": []
    },
    {
     "cell_type": "code",
     "collapsed": false,
     "input": [
      "m.drawcoastlines()\n",
      "m.contourf(x,y,air[0,:,:],levels=np.linspace(230,350,10), extend=\"both\");"
     ],
     "language": "python",
     "metadata": {},
     "outputs": []
    },
    {
     "cell_type": "markdown",
     "metadata": {},
     "source": [
      "Make the figure bigger"
     ]
    },
    {
     "cell_type": "code",
     "collapsed": false,
     "input": [
      "plt.figure(figsize=(10,7))\n",
      "m.drawcoastlines()\n",
      "m.contourf(x,y,air[0,:,:],levels=np.linspace(230,350,10), extend=\"both\");"
     ],
     "language": "python",
     "metadata": {},
     "outputs": []
    },
    {
     "cell_type": "code",
     "collapsed": false,
     "input": [
      "plt.figure(figsize=(10,7))\n",
      "m.drawcoastlines()\n",
      "m.contourf(x,y,air[0,:,:],levels=np.linspace(230,350,10), extend=\"both\");\n",
      "plt.colorbar( orientation='horizontal', pad=0.05)"
     ],
     "language": "python",
     "metadata": {},
     "outputs": []
    },
    {
     "cell_type": "markdown",
     "metadata": {},
     "source": [
      "##Links\n",
      "\n",
      " - [Basemap documentation](http://matplotlib.org/basemap/index.html)\n",
      " - [Basemap projections](http://matplotlib.org/basemap/users/mapsetup.html)"
     ]
    },
    {
     "cell_type": "markdown",
     "metadata": {},
     "source": [
      "##Exersise\n",
      "\n",
      " - put timestamp (date) of the data as a title (plt.title())"
     ]
    },
    {
     "cell_type": "code",
     "collapsed": false,
     "input": [],
     "language": "python",
     "metadata": {},
     "outputs": []
    },
    {
     "cell_type": "code",
     "collapsed": false,
     "input": [],
     "language": "python",
     "metadata": {},
     "outputs": []
    },
    {
     "cell_type": "code",
     "collapsed": false,
     "input": [
      "plt.figure(figsize=(10,7))\n",
      "m.fillcontinents(color='gray',lake_color='gray')\n",
      "m.drawcoastlines()\n",
      "m.drawparallels(np.arange(-80.,81.,20.), labels=[True,True,False,False])\n",
      "m.drawmeridians(np.arange(-180.,181.,40.), labels=[False,False,True,True])\n",
      "m.drawmapboundary(fill_color='white')\n",
      "m.contourf(x,y,air[0,:,:],levels=np.linspace(230,350,10), extend=\"both\");\n",
      "plt.colorbar( orientation='horizontal', pad=0.05)"
     ],
     "language": "python",
     "metadata": {},
     "outputs": []
    },
    {
     "cell_type": "code",
     "collapsed": false,
     "input": [
      "m = Basemap(projection='ortho',lat_0=45,lon_0=-100,resolution='l')\n",
      "x, y = m(lon, lat)"
     ],
     "language": "python",
     "metadata": {},
     "outputs": []
    },
    {
     "cell_type": "code",
     "collapsed": false,
     "input": [
      "fig = plt.figure(figsize=(15,7))\n",
      "#m.fillcontinents(color='gray',lake_color='gray')\n",
      "m.drawcoastlines()\n",
      "m.drawparallels(np.arange(-80.,81.,20.))\n",
      "m.drawmeridians(np.arange(-180.,181.,20.))\n",
      "m.drawmapboundary(fill_color='white')\n",
      "cs = m.contourf(x,y,air[0,:,:],20)\n",
      "plt.title('Monthly mean SAT')"
     ],
     "language": "python",
     "metadata": {},
     "outputs": []
    },
    {
     "cell_type": "code",
     "collapsed": false,
     "input": [
      "m = Basemap(llcrnrlon=-10,llcrnrlat=25,urcrnrlon=95,urcrnrlat=75,projection='mill', resolution='l')\n",
      "x, y = m(lon, lat)"
     ],
     "language": "python",
     "metadata": {},
     "outputs": []
    },
    {
     "cell_type": "code",
     "collapsed": false,
     "input": [
      "plt.figure(figsize=(10,7))\n",
      "m.drawcoastlines()\n",
      "m.contourf(x,y,air[0,:,:],levels=np.linspace(230,350,10), extend=\"both\");\n",
      "plt.colorbar( orientation='horizontal', pad=0.05)"
     ],
     "language": "python",
     "metadata": {},
     "outputs": []
    },
    {
     "cell_type": "markdown",
     "metadata": {},
     "source": [
      "Regional plot"
     ]
    },
    {
     "cell_type": "code",
     "collapsed": false,
     "input": [
      "m = Basemap(width=5000000,height=3000000,\n",
      "            resolution='l',projection='stere',\\\n",
      "            lat_ts=60,lat_0=50,lon_0=20)\n",
      "x, y = m(lon, lat)"
     ],
     "language": "python",
     "metadata": {},
     "outputs": []
    },
    {
     "cell_type": "code",
     "collapsed": false,
     "input": [
      "plt.figure(figsize=(10,7))\n",
      "m.drawcoastlines()\n",
      "m.contourf(x,y,air[0,:,:],levels=np.linspace(230,350,30), extend=\"both\");\n",
      "plt.colorbar( orientation='horizontal', pad=0.05)"
     ],
     "language": "python",
     "metadata": {},
     "outputs": []
    },
    {
     "cell_type": "markdown",
     "metadata": {},
     "source": [
      "We have to add cyclic point"
     ]
    },
    {
     "cell_type": "code",
     "collapsed": false,
     "input": [
      "from mpl_toolkits.basemap import addcyclic"
     ],
     "language": "python",
     "metadata": {},
     "outputs": []
    },
    {
     "cell_type": "markdown",
     "metadata": {},
     "source": [
      "It's only works with 1D lon data, so we have to load them again"
     ]
    },
    {
     "cell_type": "code",
     "collapsed": false,
     "input": [
      "lat = f.variables['lat'][:]\n",
      "lon = f.variables['lon'][:]"
     ],
     "language": "python",
     "metadata": {},
     "outputs": []
    },
    {
     "cell_type": "markdown",
     "metadata": {},
     "source": [
      "We add cyclic point to lons and also to our data"
     ]
    },
    {
     "cell_type": "code",
     "collapsed": false,
     "input": [
      "air_cycl, lons = addcyclic(air[:,:,:], lon)"
     ],
     "language": "python",
     "metadata": {},
     "outputs": []
    },
    {
     "cell_type": "code",
     "collapsed": false,
     "input": [
      "air_cycl.shape"
     ],
     "language": "python",
     "metadata": {},
     "outputs": []
    },
    {
     "cell_type": "code",
     "collapsed": false,
     "input": [
      "lon2, lat2 = np.meshgrid(lons, lat)"
     ],
     "language": "python",
     "metadata": {},
     "outputs": []
    },
    {
     "cell_type": "code",
     "collapsed": false,
     "input": [
      "lat2.shape"
     ],
     "language": "python",
     "metadata": {},
     "outputs": []
    },
    {
     "cell_type": "code",
     "collapsed": false,
     "input": [
      "m = Basemap(width=5000000,height=3000000,\n",
      "            resolution='l',projection='stere',\\\n",
      "            lat_ts=60,lat_0=50,lon_0=20)\n",
      "x, y = m(lon2, lat2)"
     ],
     "language": "python",
     "metadata": {},
     "outputs": []
    },
    {
     "cell_type": "code",
     "collapsed": false,
     "input": [
      "plt.figure(figsize=(10,7))\n",
      "m.drawcoastlines()\n",
      "m.contourf(x,y,air_cycl[0,:,:],levels=np.linspace(230,350,40), extend=\"both\");\n",
      "plt.colorbar( orientation='horizontal', pad=0.05)"
     ],
     "language": "python",
     "metadata": {},
     "outputs": []
    },
    {
     "cell_type": "code",
     "collapsed": false,
     "input": [],
     "language": "python",
     "metadata": {},
     "outputs": []
    },
    {
     "cell_type": "markdown",
     "metadata": {},
     "source": [
      "##Exersise\n",
      "\n",
      "Plot ETOPO5 data\n",
      "\n",
      "- import nessesary modules\n",
      "- open netCDF file etopo5.nc\n",
      "- copy variables from this file\n",
      "- look at the data using imshow\n",
      "- flip data upsidedown and look at it (use np.flipud)\n",
      "- Create subset of data, that covers only north Atlantic\n",
      "<img src=\"files/nAtl.png\">\n",
      "\n",
      "\n",
      "- create 2D versions of lon and lat (use np.meshgrid)\n",
      "- create basmeap map of this subset (you can use Miller Cylindrical Projection (projection='mill'))\n",
      "<img src=\"files/nAtl2.png\">\n",
      "\n",
      "- plot only ocean (or land), change color scale\n",
      "<img src=\"files/nAtl3.png\">\n",
      "\n",
      "- zoom to the northern part of Mid-Atlantic Ridge and make choose good color map to make its structures visible\n",
      "<img src=\"files/nAtl4.png\">\n",
      "\n",
      "- zoom closer and find the most craziest color map\n",
      "<img src=\"files/nAtl5.png\">"
     ]
    }
   ],
   "metadata": {}
  }
 ]
}