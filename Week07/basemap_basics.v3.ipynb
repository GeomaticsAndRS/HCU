{
 "metadata": {
  "kernelspec": {
   "display_name": "Python 2",
   "language": "python",
   "name": "python2"
  },
  "language_info": {
   "codemirror_mode": {
    "name": "ipython",
    "version": 2
   },
   "file_extension": ".py",
   "mimetype": "text/x-python",
   "name": "python",
   "nbconvert_exporter": "python",
   "pygments_lexer": "ipython2",
   "version": "2.7.10"
  },
  "name": ""
 },
 "nbformat": 3,
 "nbformat_minor": 0,
 "worksheets": [
  {
   "cells": [
    {
     "cell_type": "heading",
     "level": 1,
     "metadata": {},
     "source": [
      "Basemap"
     ]
    },
    {
     "cell_type": "markdown",
     "metadata": {},
     "source": [
      "- [Website](http://matplotlib.org/basemap/)\n",
      "- [Users Guide](http://matplotlib.org/basemap/users/index.html)"
     ]
    },
    {
     "cell_type": "code",
     "collapsed": true,
     "input": [
      "%matplotlib inline\n",
      "import matplotlib.pylab as plt\n",
      "import numpy as np\n",
      "from mpl_toolkits.basemap import Basemap\n",
      "from matplotlib import cm\n",
      "import pandas as pd\n",
      "#plt.rcParams['figure.figsize'] = 7, 8"
     ],
     "language": "python",
     "metadata": {},
     "outputs": [],
     "prompt_number": null
    },
    {
     "cell_type": "code",
     "collapsed": true,
     "input": [
      "x1 = -20.\n",
      "x2 = 40.\n",
      "y1 = 32.\n",
      "y2 = 64.\n",
      " \n",
      "m = Basemap(resolution='l',projection='merc',\\\n",
      "            llcrnrlat=y1,urcrnrlat=y2,llcrnrlon=x1,\\\n",
      "            urcrnrlon=x2,lat_ts=(x1+x2)/2)"
     ],
     "language": "python",
     "metadata": {},
     "outputs": [],
     "prompt_number": null
    },
    {
     "cell_type": "code",
     "collapsed": false,
     "input": [
      "plt.figure(figsize=(8,7))\n",
      "m.drawcoastlines(linewidth=1.0);"
     ],
     "language": "python",
     "metadata": {},
     "outputs": [],
     "prompt_number": null
    },
    {
     "cell_type": "code",
     "collapsed": true,
     "input": [
      "lat = 53.565278\n",
      "lon = 10.001389"
     ],
     "language": "python",
     "metadata": {},
     "outputs": [],
     "prompt_number": null
    },
    {
     "cell_type": "code",
     "collapsed": false,
     "input": [
      "plt.figure(figsize=(8,7))\n",
      "m.drawcoastlines(linewidth=1.0);\n",
      "m.scatter(lon,lat,300)"
     ],
     "language": "python",
     "metadata": {},
     "outputs": [],
     "prompt_number": null
    },
    {
     "cell_type": "code",
     "collapsed": false,
     "input": [
      "print(' xmin {}\\n xmax {}\\n ymin {}\\n ymax {}'.format(str(m.xmin),str(m.xmax),str(m.ymin),str(m.ymax)))"
     ],
     "language": "python",
     "metadata": {},
     "outputs": [],
     "prompt_number": null
    },
    {
     "cell_type": "code",
     "collapsed": false,
     "input": [
      "x,y = m(lon,lat)"
     ],
     "language": "python",
     "metadata": {},
     "outputs": [],
     "prompt_number": null
    },
    {
     "cell_type": "code",
     "collapsed": false,
     "input": [
      "plt.figure(figsize=(8,7))\n",
      "m.drawcoastlines(linewidth=1.0);\n",
      "m.scatter(x,y,300)"
     ],
     "language": "python",
     "metadata": {},
     "outputs": [],
     "prompt_number": null
    },
    {
     "cell_type": "code",
     "collapsed": false,
     "input": [
      "plt.figure(figsize=(8,7))\n",
      "m.drawcoastlines(linewidth=1)\n",
      "m.drawcountries(linewidth=1)\n",
      "m.scatter(x,y,300)"
     ],
     "language": "python",
     "metadata": {},
     "outputs": [],
     "prompt_number": null
    },
    {
     "cell_type": "code",
     "collapsed": false,
     "input": [
      "plt.figure(figsize=(8,7))\n",
      "m.drawcoastlines(linewidth=1)\n",
      "m.drawcountries(linewidth=1)\n",
      "m.fillcontinents(color='gray',lake_color='aqua')\n",
      "m.scatter(x,y,300)\n"
     ],
     "language": "python",
     "metadata": {},
     "outputs": [],
     "prompt_number": null
    },
    {
     "cell_type": "code",
     "collapsed": false,
     "input": [
      "plt.figure(figsize=(8,7))\n",
      "m.drawcoastlines(linewidth=1)\n",
      "m.drawcountries(linewidth=1)\n",
      "m.fillcontinents(color='gray',lake_color='aqua',alpha=0.1)\n",
      "m.scatter(x,y,300,zorder=10);"
     ],
     "language": "python",
     "metadata": {},
     "outputs": [],
     "prompt_number": null
    },
    {
     "cell_type": "code",
     "collapsed": false,
     "input": [
      "plt.figure(figsize=(8,7))\n",
      "m.drawcoastlines(linewidth=1)\n",
      "m.drawcountries(linewidth=1)\n",
      "m.fillcontinents(color='lightgray',lake_color='aqua',alpha=0.5)\n",
      "m.drawmeridians(np.arange(0,360,10),labels=[False,True,True,False])\n",
      "m.drawparallels(np.arange(-90,90,10),labels=[False,True,True,False])\n",
      "m.drawmapscale(33,35,0,40,1000,barstyle='fancy')\n",
      "m.scatter(x,y,300,zorder=10)\n",
      "plt.text(x+200000,y-20000,\"Hamburg\",color='red',size=14);"
     ],
     "language": "python",
     "metadata": {
      "scrolled": true
     },
     "outputs": [],
     "prompt_number": null
    },
    {
     "cell_type": "code",
     "collapsed": false,
     "input": [
      "plt.figure(figsize=(8,7))\n",
      "m.drawcoastlines(linewidth=1)\n",
      "m.drawcountries(linewidth=1)\n",
      "m.fillcontinents(color='lightgray',lake_color='aqua',alpha=0.5)\n",
      "m.etopo()\n",
      "m.scatter(x,y,300,zorder=10)"
     ],
     "language": "python",
     "metadata": {},
     "outputs": [],
     "prompt_number": null
    },
    {
     "cell_type": "code",
     "collapsed": false,
     "input": [
      "plt.figure(figsize=(8,7))\n",
      "m.drawcoastlines(linewidth=1)\n",
      "m.drawcountries(linewidth=1)\n",
      "m.fillcontinents(color='lightgray',alpha=0.5)\n",
      "m.bluemarble()\n",
      "m.scatter(x,y,300,zorder=10)"
     ],
     "language": "python",
     "metadata": {},
     "outputs": [],
     "prompt_number": null
    },
    {
     "cell_type": "code",
     "collapsed": false,
     "input": [
      "plt.figure(figsize=(8,7))\n",
      "m.drawcoastlines(linewidth=1)\n",
      "m.drawcountries(linewidth=1)\n",
      "m.fillcontinents(color='lightgray',alpha=0.5)\n",
      "m.shadedrelief()\n",
      "m.scatter(x,y,300,zorder=10)"
     ],
     "language": "python",
     "metadata": {},
     "outputs": [],
     "prompt_number": null
    },
    {
     "cell_type": "code",
     "collapsed": false,
     "input": [
      "#!wget ftp://ftp.cdc.noaa.gov/Datasets/ncep.reanalysis.derived/surface/air.mon.mean.nc"
     ],
     "language": "python",
     "metadata": {},
     "outputs": [],
     "prompt_number": null
    },
    {
     "cell_type": "code",
     "collapsed": true,
     "input": [
      "from netCDF4 import Dataset"
     ],
     "language": "python",
     "metadata": {},
     "outputs": [],
     "prompt_number": null
    },
    {
     "cell_type": "code",
     "collapsed": false,
     "input": [
      "fl = Dataset('air.sig995.1950.nc')\n",
      "air = fl.variables['air'][0,:,:]\n",
      "lat = fl.variables['lat'][:]\n",
      "lon = fl.variables['lon'][:]"
     ],
     "language": "python",
     "metadata": {},
     "outputs": [],
     "prompt_number": null
    },
    {
     "cell_type": "code",
     "collapsed": false,
     "input": [
      "plt.imshow(air)"
     ],
     "language": "python",
     "metadata": {},
     "outputs": [],
     "prompt_number": null
    },
    {
     "cell_type": "code",
     "collapsed": false,
     "input": [
      "plt.contourf(lon,lat,air,20)\n",
      "plt.colorbar();"
     ],
     "language": "python",
     "metadata": {},
     "outputs": [],
     "prompt_number": null
    },
    {
     "cell_type": "code",
     "collapsed": false,
     "input": [
      "lon.shape"
     ],
     "language": "python",
     "metadata": {},
     "outputs": [],
     "prompt_number": null
    },
    {
     "cell_type": "code",
     "collapsed": true,
     "input": [
      "lon2, lat2 = np.meshgrid(lon,lat)"
     ],
     "language": "python",
     "metadata": {},
     "outputs": [],
     "prompt_number": null
    },
    {
     "cell_type": "code",
     "collapsed": false,
     "input": [
      "lon2.shape"
     ],
     "language": "python",
     "metadata": {},
     "outputs": [],
     "prompt_number": null
    },
    {
     "cell_type": "code",
     "collapsed": false,
     "input": [
      "plt.imshow(lat2)"
     ],
     "language": "python",
     "metadata": {},
     "outputs": [],
     "prompt_number": null
    },
    {
     "cell_type": "code",
     "collapsed": false,
     "input": [
      "lon2.shape"
     ],
     "language": "python",
     "metadata": {},
     "outputs": [],
     "prompt_number": null
    },
    {
     "cell_type": "code",
     "collapsed": true,
     "input": [
      "m = Basemap(projection='ortho',lat_0=45,lon_0=0,resolution='l')\n",
      "x, y = m(lon2, lat2)"
     ],
     "language": "python",
     "metadata": {},
     "outputs": [],
     "prompt_number": null
    },
    {
     "cell_type": "code",
     "collapsed": false,
     "input": [
      "fig = plt.figure(figsize=(15,7))\n",
      "m.drawcoastlines()\n",
      "m.drawparallels(np.arange(-80.,81.,20.))\n",
      "m.drawmeridians(np.arange(-180.,181.,20.))\n",
      "cs = m.contourf(x,y,air,20)\n",
      "plt.title('Monthly mean SAT');"
     ],
     "language": "python",
     "metadata": {},
     "outputs": [],
     "prompt_number": null
    },
    {
     "cell_type": "code",
     "collapsed": false,
     "input": [
      "lon"
     ],
     "language": "python",
     "metadata": {},
     "outputs": [],
     "prompt_number": null
    },
    {
     "cell_type": "code",
     "collapsed": true,
     "input": [
      "from mpl_toolkits.basemap import addcyclic"
     ],
     "language": "python",
     "metadata": {},
     "outputs": [],
     "prompt_number": null
    },
    {
     "cell_type": "code",
     "collapsed": true,
     "input": [
      "air_cyc, lon_cyc = addcyclic(air, lon)"
     ],
     "language": "python",
     "metadata": {},
     "outputs": [],
     "prompt_number": null
    },
    {
     "cell_type": "code",
     "collapsed": false,
     "input": [
      "lon_cyc"
     ],
     "language": "python",
     "metadata": {},
     "outputs": [],
     "prompt_number": null
    },
    {
     "cell_type": "code",
     "collapsed": true,
     "input": [
      "lon2, lat2 = np.meshgrid(lon_cyc,lat)"
     ],
     "language": "python",
     "metadata": {},
     "outputs": [],
     "prompt_number": null
    },
    {
     "cell_type": "code",
     "collapsed": true,
     "input": [
      "m = Basemap(projection='ortho',lat_0=45,lon_0=0,resolution='l')\n",
      "x, y = m(lon2, lat2)"
     ],
     "language": "python",
     "metadata": {},
     "outputs": [],
     "prompt_number": null
    },
    {
     "cell_type": "code",
     "collapsed": false,
     "input": [
      "fig = plt.figure(figsize=(10,7))\n",
      "#m.fillcontinents(color='gray',lake_color='gray')\n",
      "m.drawcoastlines()\n",
      "m.drawparallels(np.arange(-80.,81.,20.))\n",
      "m.drawmeridians(np.arange(-180.,181.,20.))\n",
      "m.drawmapboundary(fill_color='white')\n",
      "cs = m.contourf(x,y,air_cyc,20)\n",
      "plt.title('Monthly mean SAT');\n",
      "plt.colorbar();"
     ],
     "language": "python",
     "metadata": {},
     "outputs": [],
     "prompt_number": null
    },
    {
     "cell_type": "code",
     "collapsed": false,
     "input": [
      "m = Basemap(projection='cyl',llcrnrlat=-90,urcrnrlat=90,\\\n",
      "            llcrnrlon=0,urcrnrlon=360,resolution='c')\n",
      "x, y = m(lon2, lat2)\n",
      "fig = plt.figure(figsize=(10,7))\n",
      "#m.fillcontinents(color='gray',lake_color='gray')\n",
      "m.drawcoastlines()\n",
      "m.drawparallels(np.arange(-80.,81.,20.))\n",
      "m.drawmeridians(np.arange(-180.,181.,20.))\n",
      "m.drawmapboundary(fill_color='white')\n",
      "cs = m.contourf(x,y,air_cyc,20)\n",
      "plt.title('Monthly mean SAT');\n",
      "plt.colorbar(orientation='horizontal', pad = 0.03);"
     ],
     "language": "python",
     "metadata": {},
     "outputs": [],
     "prompt_number": null
    },
    {
     "cell_type": "code",
     "collapsed": false,
     "input": [
      "m = Basemap(projection='robin',lon_0=180,resolution='c')\n",
      "x, y = m(lon2, lat2)\n",
      "fig = plt.figure(figsize=(10,7))\n",
      "#m.fillcontinents(color='gray',lake_color='gray')\n",
      "m.drawcoastlines()\n",
      "m.drawparallels(np.arange(-80.,81.,20.))\n",
      "m.drawmeridians(np.arange(-180.,181.,20.))\n",
      "m.drawmapboundary(fill_color='white')\n",
      "cs = m.contourf(x,y,air_cyc,20)\n",
      "plt.title('Monthly mean SAT');\n",
      "plt.colorbar(orientation='horizontal', pad = 0.03);"
     ],
     "language": "python",
     "metadata": {},
     "outputs": [],
     "prompt_number": null
    },
    {
     "cell_type": "code",
     "collapsed": false,
     "input": [
      "width = 28000000; lon_0 = 0; lat_0 = 40\n",
      "m = Basemap(width=width,height=width,projection='aeqd',\n",
      "            lat_0=lat_0,lon_0=lon_0)\n",
      "x, y = m(lon2, lat2)\n",
      "fig = plt.figure(figsize=(10,7))\n",
      "#m.fillcontinents(color='gray',lake_color='gray')\n",
      "m.drawcoastlines()\n",
      "m.drawparallels(np.arange(-80.,81.,20.))\n",
      "m.drawmeridians(np.arange(-180.,181.,20.))\n",
      "m.drawmapboundary(fill_color='white')\n",
      "cs = m.contourf(x,y,air_cyc,20)\n",
      "plt.title('Monthly mean SAT');\n",
      "plt.colorbar(orientation='horizontal', pad = 0.03);"
     ],
     "language": "python",
     "metadata": {},
     "outputs": [],
     "prompt_number": null
    }
   ],
   "metadata": {}
  }
 ]
}