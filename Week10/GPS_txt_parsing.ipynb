{
 "metadata": {
  "name": "",
  "signature": "sha256:cb7987f6311b89ce70714d5d78d621923296bf6242f064fc1fa00367fed73bbc"
 },
 "nbformat": 3,
 "nbformat_minor": 0,
 "worksheets": [
  {
   "cells": [
    {
     "cell_type": "markdown",
     "metadata": {},
     "source": [
      "#GPS text parsing"
     ]
    },
    {
     "cell_type": "markdown",
     "metadata": {},
     "source": [
      "Import libraries and use inline plots"
     ]
    },
    {
     "cell_type": "code",
     "collapsed": false,
     "input": [
      "import pandas as pd\n",
      "%matplotlib inline"
     ],
     "language": "python",
     "metadata": {},
     "outputs": [],
     "prompt_number": 1
    },
    {
     "cell_type": "markdown",
     "metadata": {},
     "source": [
      "This is how head of the file looks like"
     ]
    },
    {
     "cell_type": "markdown",
     "metadata": {},
     "source": [
      "      $PJNS,HRP,100041.70,261.89,T,-0.49,0.15,0.0,00,A*4    Z=36013.690   D=11-24-2014  v=00.1\n",
      "    DSN=00000  $GPGGA,100042.00,5326.8450936,N,01005.7710804,E,2,09,1.09,7.6838,M,40.1700,M,8.0,0763*7              Z=36013.800   D=11-24-2014  v=00.1\n",
      "      $GPVTG,042.857,T,,M,0.0189,N,0.0351,K,D*0             Z=36013.840   D=11-24-2014  v=00.1\n",
      "      $GPZDA,100042.00,24,11,2014,00,00*6     Z=36013.860   D=11-24-2014  v=00.1\n",
      "      $HEHDT,261.891,T*2        Z=36013.890   D=11-24-2014  v=00.1\n",
      "      $PJNS,HRP,100041.80,261.89,T,-0.49,0.17,0.0,00,A*4    Z=36013.890   D=11-24-2014  v=00.1\n",
      "      $GPRMC,100042.00,A,5326.8450936,N,01005.7710804,E,0.0189,042.857,241114,,,D*6     Z=36013.920   D=11-24-2014  v=00.1\n",
      "      $PJNS,HRP,100041.90,261.89,T,-0.48,0.14,0.0,00,A*4    Z=36013.970   D=11-24-2014  v=00.1\n",
      "      $PJNS,HRP,100042.00,261.89,T,-0.55,0.16,0.0,00,A*4    Z=36014.000   D=11-24-2014  v=00.1\n",
      "      $PJNS,HRP,100042.10,261.89,T,-0.53,0.15,0.0,00,A*4    Z=36014.090   D=11-24-2014  v=00.1\n",
      "    $SES,10:00:42,2.02,2.09,0,0.0,0.0,0.0,0.0 Z=36014.140   D=11-24-2014\n",
      "      $PJNS,HRP,100042.20,261.88,T,-0.55,0.16,0.0,00,A*4    Z=36014.190   D=11-24-2014  v=00.1\n",
      "      $PJNS,HRP,100042.30,261.88,T,-0.53,0.16,0.0,00,A*4    Z=36014.300   D=11-24-2014  v=00.1\n",
      "      $PJNS,HRP,100042.40,261.87,T,-0.54,0.16,0.0,00,A*4    Z=36014.390   D=11-24-2014  v=00.1\n",
      "      $PJNS,HRP,100042.50,261.87,T,-0.53,0.16,0.0,00,A*4    Z=36014.480   D=11-24-2014  v=00.1\n",
      "      $PJNS,HRP,100042.60,261.87,T,-0.46,0.16,0.0,00,A*4    Z=36014.590   D=11-24-2014  v=00.1\n",
      "      $PJNS,HRP,100042.70,261.86,T,-0.57,0.16,0.0,00,A*4    Z=36014.690   D=11-24-2014  v=00.1\n",
      "    DSN=00001  $GPGGA,100043.00,5326.8450891,N,01005.7710525,E,2,09,1.09,7.5015,M,40.1700,M,7.0,0763*7              Z=36014.800   D=11-24-2014  v=00.1\n",
      "      $GPVTG,228.200,T,,M,0.0682,N,0.1262,K,D*0             Z=36014.840   D=11-24-2014  v=00.1\n",
      "      $GPZDA,100043.00,24,11,2014,00,00*6     Z=36014.860   D=11-24-2014  v=00.1\n",
      "      $HEHDT,261.864,T*2        Z=36014.880   D=11-24-2014  v=00.1\n",
      "      $PJNS,HRP,100042.80,261.86,T,-0.53,0.18,0.0,00,A*4    Z=36014.890   D=11-24-2014  v=00.1\n",
      "      $GPRMC,100043.00,A,5326.8450891,N,01005.7710525,E,0.0682,228.200,241114,,,D*6     Z=36014.920   D=11-24-2014  v=00.1\n",
      "      $PJNS,HRP,100042.90,261.87,T,-0.54,0.19,0.0,00,A*4    Z=36014.970   D=11-24-2014  v=00.1\n",
      "      $PJNS,HRP,100043.00,261.86,T,-0.44,0.19,0.0,00,A*4    Z=36014.980   D=11-24-2014  v=00.1\n",
      "      $PJNS,HRP,100043.10,261.85,T,-0.54,0.17,0.0,00,A*4    Z=36015.090   D=11-24-2014  v=00.1\n",
      "    $SES,10:00:43,2.02,2.17,0,0.0,0.0,0.0,0.0 Z=36015.160   D=11-24-2014\n",
      "      $PJNS,HRP,100043.20,261.86,T,-0.53,0.17,0.0,00,A*4    Z=36015.190   D=11-24-2014  v=00.1\n",
      "      $PJNS,HRP,100043.30,261.86,T,-0.53,0.18,0.0,00,A*4    Z=36015.300   D=11-24-2014  v=00.1\n",
      "      $PJNS,HRP,100043.40,261.86,T,-0.53,0.17,0.0,00,A*4    Z=36015.390   D=11-24-2014  v=00.1\n",
      "      $PJNS,HRP,100043.50,261.86,T,-0.51,0.16,0.0,00,A*4    Z=36015.500   D=11-24-2014  v=00.1\n",
      "      $PJNS,HRP,100043.60,261.86,T,-0.47,0.16,0.0,00,A*4    Z=36015.590   D=11-24-2014  v=00.1\n",
      "      $PJNS,HRP,100043.70,261.85,T,-0.53,0.16,0.0,00,A*4    Z=36015.690   D=11-24-2014  v=00.1"
     ]
    },
    {
     "cell_type": "markdown",
     "metadata": {},
     "source": [
      "We are only interested in lines starting with `DSN` "
     ]
    },
    {
     "cell_type": "markdown",
     "metadata": {},
     "source": [
      "##Exersise\n",
      "\n",
      "- create list (name it `gps_lines`), that contains only lines starting with `DSN` (use append)"
     ]
    },
    {
     "cell_type": "code",
     "collapsed": false,
     "input": [],
     "language": "python",
     "metadata": {},
     "outputs": []
    },
    {
     "cell_type": "markdown",
     "metadata": {},
     "source": [
      "I put format description here for convinience:"
     ]
    },
    {
     "cell_type": "markdown",
     "metadata": {},
     "source": [
      "    DSN=00000  $GPGGA,100042.00,5326.8450936,N,01005.7710804,E,2,09,1.09,7.6838,M,40.1700,M,8.0,0763*7              Z=36013.800   D=11-24-2014  v=00.1\n",
      "\n",
      "    should be a usual NMEA message (comma separated), but I'm not exactly sure why there is an additional entry at the beginning (DSN...)?!?\n",
      "\n",
      "    1st\t\tcolumn:\t$GGA \t\t-> GPS position indicator\n",
      "    2nd\t\tcolumn:\thhmmss.ss \t-> GPS time stamp (UTC)\n",
      "    3rd\t\tcolumn:\tddmm.mmmm \t-> latitude\n",
      "    4th\t\tcolumn:\tN\t\t\t-> northern hemisphere\n",
      "    5th\t\tcolumn:\tdddmm.mmmm\t-> longitude\n",
      "    6th\t\tcolumn:\tE\t\t\t-> east of zero meridian\n",
      "    7th\t\tcolumn:\tx\t\t\t->\tquality indicator (0 = no fix, 1 = GPS fix, 2 = DGPS fix)\n",
      "    8th\t\tcolumn:\tx\t\t\t->\tnumber of satellites\n",
      "\n",
      "    10th\t\tcolumn:\tm.mmmm\t\t->\tAntenna Altitude above/below mean-sea-level (geoid)\n",
      "    11th\tcolumn:\tM\t\t\t->\tUnits of antenna altitude (M = meters)\n",
      "    12th\tcolumn:\tm.mmmm\t\t->\tGeoidal separation, the difference between the WGS-84 earth ellipsoid and mean-sea-level (geoid), \"-\" means mean-sea-level below ellipsoid\n",
      "    13th\tcolumn:\tM\t\t\t->\tUnits of geoidal separation (M = meters)"
     ]
    },
    {
     "cell_type": "markdown",
     "metadata": {},
     "source": [
      "#Exersise\n",
      "\n",
      " - use first line from ` gps_lines` to extract lat, lon and quality indicator\n",
      " - thouse who are bored can try to extract also date and time and put it in YYYY-MM-DD hh:mm:ss.xx format"
     ]
    },
    {
     "cell_type": "code",
     "collapsed": false,
     "input": [],
     "language": "python",
     "metadata": {},
     "outputs": []
    },
    {
     "cell_type": "markdown",
     "metadata": {},
     "source": [
      "##Exersise\n",
      "\n",
      " - Use information you get in the previous Exersises to create lists with lat, lon and quality. Use append and loop."
     ]
    },
    {
     "cell_type": "code",
     "collapsed": false,
     "input": [],
     "language": "python",
     "metadata": {},
     "outputs": []
    }
   ],
   "metadata": {}
  }
 ]
}