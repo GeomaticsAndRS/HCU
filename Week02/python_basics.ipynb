{
 "metadata": {
  "name": "",
  "signature": "sha256:e9d6013935f8de00eda4abc168fcb29e4a0c0e70deeb187b702fb8a9c7d74f8a"
 },
 "nbformat": 3,
 "nbformat_minor": 0,
 "worksheets": [
  {
   "cells": [
    {
     "cell_type": "heading",
     "level": 1,
     "metadata": {},
     "source": [
      "Python basics"
     ]
    },
    {
     "cell_type": "markdown",
     "metadata": {},
     "source": [
      "Nikolay Koldunov\n",
      "\n",
      "\n",
      "koldunovn@gmail.com"
     ]
    },
    {
     "cell_type": "markdown",
     "metadata": {},
     "source": [
      "This is part of [**Python for Geosciences**](https://github.com/koldunovn/python_for_geosciences) notes."
     ]
    },
    {
     "cell_type": "markdown",
     "metadata": {},
     "source": [
      "================"
     ]
    },
    {
     "cell_type": "heading",
     "level": 2,
     "metadata": {},
     "source": [
      "Variables"
     ]
    },
    {
     "cell_type": "markdown",
     "metadata": {},
     "source": [
      "Python uses [duck typing](http://en.wikipedia.org/wiki/Duck_typing)"
     ]
    },
    {
     "cell_type": "markdown",
     "metadata": {},
     "source": [
      "Variable - is a facility for storing data. The current value of the variable is the data actially stored in the variable."
     ]
    },
    {
     "cell_type": "heading",
     "level": 3,
     "metadata": {},
     "source": [
      "Int"
     ]
    },
    {
     "cell_type": "code",
     "collapsed": false,
     "input": [
      "a = 10"
     ],
     "language": "python",
     "metadata": {},
     "outputs": [],
     "prompt_number": 2
    },
    {
     "cell_type": "code",
     "collapsed": false,
     "input": [
      "a"
     ],
     "language": "python",
     "metadata": {},
     "outputs": [
      {
       "metadata": {},
       "output_type": "pyout",
       "prompt_number": 4,
       "text": [
        "10"
       ]
      }
     ],
     "prompt_number": 4
    },
    {
     "cell_type": "code",
     "collapsed": false,
     "input": [
      "type(a)"
     ],
     "language": "python",
     "metadata": {},
     "outputs": [
      {
       "metadata": {},
       "output_type": "pyout",
       "prompt_number": 5,
       "text": [
        "int"
       ]
      }
     ],
     "prompt_number": 5
    },
    {
     "cell_type": "heading",
     "level": 3,
     "metadata": {},
     "source": [
      "Float"
     ]
    },
    {
     "cell_type": "code",
     "collapsed": false,
     "input": [
      "z = 10.\n",
      "z"
     ],
     "language": "python",
     "metadata": {},
     "outputs": [
      {
       "metadata": {},
       "output_type": "pyout",
       "prompt_number": 6,
       "text": [
        "10.0"
       ]
      }
     ],
     "prompt_number": 6
    },
    {
     "cell_type": "code",
     "collapsed": false,
     "input": [
      "type(z)"
     ],
     "language": "python",
     "metadata": {},
     "outputs": [
      {
       "metadata": {},
       "output_type": "pyout",
       "prompt_number": 7,
       "text": [
        "float"
       ]
      }
     ],
     "prompt_number": 7
    },
    {
     "cell_type": "heading",
     "level": 3,
     "metadata": {},
     "source": [
      "Exercise"
     ]
    },
    {
     "cell_type": "markdown",
     "metadata": {},
     "source": [
      "calculate $a+b$, where $a=2$, $b = 3$"
     ]
    },
    {
     "cell_type": "code",
     "collapsed": false,
     "input": [],
     "language": "python",
     "metadata": {},
     "outputs": []
    },
    {
     "cell_type": "markdown",
     "metadata": {},
     "source": [
      "$$a^2 + \\sqrt{b}$$\n",
      "$$c = a^2 + \\sqrt{b}$$\n",
      "$$c = \\sqrt{a^2 + \\sqrt{b}}$$"
     ]
    },
    {
     "cell_type": "heading",
     "level": 3,
     "metadata": {},
     "source": [
      "Legal names "
     ]
    },
    {
     "cell_type": "markdown",
     "metadata": {},
     "source": [
      "Legal names consist of any combination of letters and digits, starting with a letter. \n",
      "\n",
      "These are allowable:\n",
      "\n",
      "    LatLon, Lat2Lon, l5, L2, z25c5\n",
      "\n",
      "These are not allowable:\n",
      "\n",
      "    Lat-Lon, 2Lat, %x, @sign\n",
      "\n",
      "Use names that reflect the values they represent."
     ]
    },
    {
     "cell_type": "heading",
     "level": 3,
     "metadata": {},
     "source": [
      "String"
     ]
    },
    {
     "cell_type": "code",
     "collapsed": false,
     "input": [
      "b = '2'\n",
      "b"
     ],
     "language": "python",
     "metadata": {},
     "outputs": [
      {
       "metadata": {},
       "output_type": "pyout",
       "prompt_number": 8,
       "text": [
        "'2'"
       ]
      }
     ],
     "prompt_number": 8
    },
    {
     "cell_type": "markdown",
     "metadata": {},
     "source": [
      "Some operations are not allowed on different types:"
     ]
    },
    {
     "cell_type": "code",
     "collapsed": false,
     "input": [
      "a+b"
     ],
     "language": "python",
     "metadata": {},
     "outputs": [
      {
       "ename": "TypeError",
       "evalue": "unsupported operand type(s) for +: 'int' and 'str'",
       "output_type": "pyerr",
       "traceback": [
        "\u001b[1;31m---------------------------------------------------------------------------\u001b[0m\n\u001b[1;31mTypeError\u001b[0m                                 Traceback (most recent call last)",
        "\u001b[1;32m<ipython-input-9-f1d53b280433>\u001b[0m in \u001b[0;36m<module>\u001b[1;34m()\u001b[0m\n\u001b[1;32m----> 1\u001b[1;33m \u001b[0ma\u001b[0m\u001b[1;33m+\u001b[0m\u001b[0mb\u001b[0m\u001b[1;33m\u001b[0m\u001b[0m\n\u001b[0m",
        "\u001b[1;31mTypeError\u001b[0m: unsupported operand type(s) for +: 'int' and 'str'"
       ]
      }
     ],
     "prompt_number": 9
    },
    {
     "cell_type": "markdown",
     "metadata": {},
     "source": [
      "But some of them are allowed:"
     ]
    },
    {
     "cell_type": "code",
     "collapsed": false,
     "input": [
      "a*b"
     ],
     "language": "python",
     "metadata": {},
     "outputs": [
      {
       "metadata": {},
       "output_type": "pyout",
       "prompt_number": 10,
       "text": [
        "'2222222222'"
       ]
      }
     ],
     "prompt_number": 10
    },
    {
     "cell_type": "markdown",
     "metadata": {},
     "source": [
      "Might be a source of confusion :)"
     ]
    },
    {
     "cell_type": "markdown",
     "metadata": {},
     "source": [
      "String variables can be combined:"
     ]
    },
    {
     "cell_type": "code",
     "collapsed": false,
     "input": [
      "c = ' guys walk into a bar'\n",
      "c"
     ],
     "language": "python",
     "metadata": {},
     "outputs": [
      {
       "metadata": {},
       "output_type": "pyout",
       "prompt_number": 11,
       "text": [
        "' guys walk into a bar'"
       ]
      }
     ],
     "prompt_number": 11
    },
    {
     "cell_type": "code",
     "collapsed": false,
     "input": [
      "b+c"
     ],
     "language": "python",
     "metadata": {},
     "outputs": [
      {
       "metadata": {},
       "output_type": "pyout",
       "prompt_number": 12,
       "text": [
        "'2 guys walk into a bar'"
       ]
      }
     ],
     "prompt_number": 12
    },
    {
     "cell_type": "markdown",
     "metadata": {},
     "source": [
      "In order to include variable of another type in to string you have to convert it:"
     ]
    },
    {
     "cell_type": "code",
     "collapsed": false,
     "input": [
      "str(a)+c"
     ],
     "language": "python",
     "metadata": {},
     "outputs": [
      {
       "metadata": {},
       "output_type": "pyout",
       "prompt_number": 13,
       "text": [
        "'10 guys walk into a bar'"
       ]
      }
     ],
     "prompt_number": 13
    },
    {
     "cell_type": "heading",
     "level": 2,
     "metadata": {},
     "source": [
      "Everything is an object"
     ]
    },
    {
     "cell_type": "markdown",
     "metadata": {},
     "source": [
      "In IPython you can get the list of object's methods and attributes by typing dot and pressing TAB:"
     ]
    },
    {
     "cell_type": "code",
     "collapsed": false,
     "input": [
      "c."
     ],
     "language": "python",
     "metadata": {},
     "outputs": [
      {
       "metadata": {},
       "output_type": "pyout",
       "prompt_number": 14,
       "text": [
        "' guys walk into a bar'"
       ]
      }
     ],
     "prompt_number": 14
    },
    {
     "cell_type": "markdown",
     "metadata": {},
     "source": [
      "Methods are basically default functions that can be applied to our variable:"
     ]
    },
    {
     "cell_type": "code",
     "collapsed": false,
     "input": [
      "c.upper()"
     ],
     "language": "python",
     "metadata": {},
     "outputs": [
      {
       "metadata": {},
       "output_type": "pyout",
       "prompt_number": 15,
       "text": [
        "' GUYS WALK INTO A BAR'"
       ]
      }
     ],
     "prompt_number": 15
    },
    {
     "cell_type": "code",
     "collapsed": false,
     "input": [
      "c.title()"
     ],
     "language": "python",
     "metadata": {},
     "outputs": [
      {
       "metadata": {},
       "output_type": "pyout",
       "prompt_number": 16,
       "text": [
        "' Guys Walk Into A Bar'"
       ]
      }
     ],
     "prompt_number": 16
    },
    {
     "cell_type": "code",
     "collapsed": false,
     "input": [
      "c.count('a')"
     ],
     "language": "python",
     "metadata": {},
     "outputs": [
      {
       "metadata": {},
       "output_type": "pyout",
       "prompt_number": 17,
       "text": [
        "3"
       ]
      }
     ],
     "prompt_number": 17
    },
    {
     "cell_type": "code",
     "collapsed": false,
     "input": [
      "c.find('into')"
     ],
     "language": "python",
     "metadata": {},
     "outputs": [
      {
       "metadata": {},
       "output_type": "pyout",
       "prompt_number": 18,
       "text": [
        "11"
       ]
      }
     ],
     "prompt_number": 18
    },
    {
     "cell_type": "markdown",
     "metadata": {},
     "source": [
      "If you need help on method in IPython type something like:"
     ]
    },
    {
     "cell_type": "code",
     "collapsed": false,
     "input": [
      "c.find?"
     ],
     "language": "python",
     "metadata": {},
     "outputs": []
    },
    {
     "cell_type": "markdown",
     "metadata": {},
     "source": [
      "Or open bracket and press TAB:"
     ]
    },
    {
     "cell_type": "code",
     "collapsed": false,
     "input": [
      "c.find("
     ],
     "language": "python",
     "metadata": {},
     "outputs": []
    },
    {
     "cell_type": "heading",
     "level": 3,
     "metadata": {},
     "source": [
      "Exercise"
     ]
    },
    {
     "cell_type": "markdown",
     "metadata": {},
     "source": [
      "* Create variables with your name and word Hi, and print out \"Hi, Name\"\n",
      "* Make your name apear in all capital letters\n"
     ]
    },
    {
     "cell_type": "heading",
     "level": 2,
     "metadata": {},
     "source": [
      "Lists"
     ]
    },
    {
     "cell_type": "markdown",
     "metadata": {},
     "source": [
      "There are several other interesting variable types in Python, but the one we would need the most is the list."
     ]
    },
    {
     "cell_type": "markdown",
     "metadata": {},
     "source": [
      "In order to create list put coma separated values in square brackets:"
     ]
    },
    {
     "cell_type": "code",
     "collapsed": false,
     "input": [
      "l = [1,2,3,4,5]\n",
      "l"
     ],
     "language": "python",
     "metadata": {},
     "outputs": [
      {
       "metadata": {},
       "output_type": "pyout",
       "prompt_number": 23,
       "text": [
        "[1, 2, 3, 4, 5]"
       ]
      }
     ],
     "prompt_number": 23
    },
    {
     "cell_type": "markdown",
     "metadata": {},
     "source": [
      "Sort of similar to Matlab variables, but not exactly."
     ]
    },
    {
     "cell_type": "markdown",
     "metadata": {},
     "source": [
      "Values in list can be any type:"
     ]
    },
    {
     "cell_type": "code",
     "collapsed": false,
     "input": [
      "l = ['one', 'two', 'three', 'four', 'five']\n",
      "l"
     ],
     "language": "python",
     "metadata": {},
     "outputs": [
      {
       "metadata": {},
       "output_type": "pyout",
       "prompt_number": 24,
       "text": [
        "['one', 'two', 'three', 'four', 'five']"
       ]
      }
     ],
     "prompt_number": 24
    },
    {
     "cell_type": "markdown",
     "metadata": {},
     "source": [
      "Combined"
     ]
    },
    {
     "cell_type": "code",
     "collapsed": false,
     "input": [
      "l = ['one', 2, 'three', 4.0, 3+2]\n",
      "l"
     ],
     "language": "python",
     "metadata": {},
     "outputs": [
      {
       "metadata": {},
       "output_type": "pyout",
       "prompt_number": 25,
       "text": [
        "['one', 2, 'three', 4.0, 5]"
       ]
      }
     ],
     "prompt_number": 25
    },
    {
     "cell_type": "markdown",
     "metadata": {},
     "source": [
      "Any type means ANY type:"
     ]
    },
    {
     "cell_type": "code",
     "collapsed": false,
     "input": [
      "l = ['one', 2, 'three', [1,2,3,4,5], 3+2]\n",
      "l"
     ],
     "language": "python",
     "metadata": {},
     "outputs": [
      {
       "metadata": {},
       "output_type": "pyout",
       "prompt_number": 1,
       "text": [
        "['one', 2, 'three', [1, 2, 3, 4, 5], 5]"
       ]
      }
     ],
     "prompt_number": 1
    },
    {
     "cell_type": "markdown",
     "metadata": {},
     "source": [
      "You can access list values by index:"
     ]
    },
    {
     "cell_type": "code",
     "collapsed": false,
     "input": [
      "l[0]"
     ],
     "language": "python",
     "metadata": {},
     "outputs": [
      {
       "metadata": {},
       "output_type": "pyout",
       "prompt_number": 27,
       "text": [
        "'one'"
       ]
      }
     ],
     "prompt_number": 27
    },
    {
     "cell_type": "markdown",
     "metadata": {},
     "source": [
      "Oh, yes, indexing starts with zero, so for Matlab users the zero is the new one :) See discussion on the matter [here](http://en.wikipedia.org/wiki/Zero-based_numbering)."
     ]
    },
    {
     "cell_type": "code",
     "collapsed": false,
     "input": [
      "l[1]"
     ],
     "language": "python",
     "metadata": {},
     "outputs": [
      {
       "metadata": {},
       "output_type": "pyout",
       "prompt_number": 28,
       "text": [
        "2"
       ]
      }
     ],
     "prompt_number": 28
    },
    {
     "cell_type": "markdown",
     "metadata": {},
     "source": [
      "Let's have a look at the 4th element of our list:"
     ]
    },
    {
     "cell_type": "code",
     "collapsed": false,
     "input": [
      "l[3]"
     ],
     "language": "python",
     "metadata": {},
     "outputs": [
      {
       "metadata": {},
       "output_type": "pyout",
       "prompt_number": 30,
       "text": [
        "[1, 2, 3, 4, 5]"
       ]
      }
     ],
     "prompt_number": 30
    },
    {
     "cell_type": "markdown",
     "metadata": {},
     "source": [
      "It's also a list, and its values can be accessed by indexes as well:"
     ]
    },
    {
     "cell_type": "code",
     "collapsed": false,
     "input": [
      "l[3][4]"
     ],
     "language": "python",
     "metadata": {},
     "outputs": [
      {
       "metadata": {},
       "output_type": "pyout",
       "prompt_number": 31,
       "text": [
        "5"
       ]
      }
     ],
     "prompt_number": 31
    },
    {
     "cell_type": "markdown",
     "metadata": {},
     "source": [
      "You also can acces multiple elements of the list using slices:"
     ]
    },
    {
     "cell_type": "code",
     "collapsed": false,
     "input": [
      "l[1:3]"
     ],
     "language": "python",
     "metadata": {},
     "outputs": [
      {
       "metadata": {},
       "output_type": "pyout",
       "prompt_number": 32,
       "text": [
        "[2, 'three']"
       ]
      }
     ],
     "prompt_number": 32
    },
    {
     "cell_type": "markdown",
     "metadata": {},
     "source": [
      "Slice will start with the first slice index and go up to but not including the second slice index. "
     ]
    },
    {
     "cell_type": "code",
     "collapsed": false,
     "input": [
      "l[3]"
     ],
     "language": "python",
     "metadata": {},
     "outputs": [
      {
       "metadata": {},
       "output_type": "pyout",
       "prompt_number": 2,
       "text": [
        "[1, 2, 3, 4, 5]"
       ]
      }
     ],
     "prompt_number": 2
    },
    {
     "cell_type": "heading",
     "level": 2,
     "metadata": {},
     "source": [
      "Control Structures"
     ]
    },
    {
     "cell_type": "heading",
     "level": 3,
     "metadata": {},
     "source": [
      "For loop:"
     ]
    },
    {
     "cell_type": "markdown",
     "metadata": {},
     "source": [
      "This loop will print all elements from the list *l*"
     ]
    },
    {
     "cell_type": "code",
     "collapsed": false,
     "input": [
      "l = ['one', 2, 'three', [1,2,3,4,5], 3+2]\n",
      "\n",
      "for element in l:\n",
      "    print element"
     ],
     "language": "python",
     "metadata": {},
     "outputs": [
      {
       "output_type": "stream",
       "stream": "stdout",
       "text": [
        "one\n",
        "2\n",
        "three\n",
        "[1, 2, 3, 4, 5]\n",
        "5\n"
       ]
      }
     ],
     "prompt_number": 3
    },
    {
     "cell_type": "markdown",
     "metadata": {},
     "source": [
      "Two interesting thins here. First: indentation, it's in the code, you must use it, otherwise code will not work:"
     ]
    },
    {
     "cell_type": "code",
     "collapsed": false,
     "input": [
      "for element in l:\n",
      "print element"
     ],
     "language": "python",
     "metadata": {},
     "outputs": [
      {
       "ename": "IndentationError",
       "evalue": "expected an indented block (<ipython-input-34-7d2140ae42dc>, line 2)",
       "output_type": "pyerr",
       "traceback": [
        "\u001b[1;36m  File \u001b[1;32m\"<ipython-input-34-7d2140ae42dc>\"\u001b[1;36m, line \u001b[1;32m2\u001b[0m\n\u001b[1;33m    print element\u001b[0m\n\u001b[1;37m        ^\u001b[0m\n\u001b[1;31mIndentationError\u001b[0m\u001b[1;31m:\u001b[0m expected an indented block\n"
       ]
      }
     ],
     "prompt_number": 34
    },
    {
     "cell_type": "markdown",
     "metadata": {},
     "source": [
      "Second - you can iterate through the elements of the list. There is an option to iterate through a bunch of numbers as we used to in Matlab:"
     ]
    },
    {
     "cell_type": "code",
     "collapsed": false,
     "input": [
      "for index in range(5):\n",
      "    print(l[index])"
     ],
     "language": "python",
     "metadata": {},
     "outputs": [
      {
       "output_type": "stream",
       "stream": "stdout",
       "text": [
        "one\n",
        "2\n",
        "three\n",
        "[1, 2, 3, 4, 5]\n",
        "5\n"
       ]
      }
     ],
     "prompt_number": 36
    },
    {
     "cell_type": "markdown",
     "metadata": {},
     "source": [
      "where *range* is just generating a list with sequence of numbers:"
     ]
    },
    {
     "cell_type": "code",
     "collapsed": false,
     "input": [
      "range(5)"
     ],
     "language": "python",
     "metadata": {},
     "outputs": [
      {
       "metadata": {},
       "output_type": "pyout",
       "prompt_number": 35,
       "text": [
        "[0, 1, 2, 3, 4]"
       ]
      }
     ],
     "prompt_number": 35
    },
    {
     "cell_type": "heading",
     "level": 3,
     "metadata": {},
     "source": [
      "Branches"
     ]
    },
    {
     "cell_type": "markdown",
     "metadata": {},
     "source": [
      "We are not going to use branches too much, but this is how they look like just as another example of indentation use:"
     ]
    },
    {
     "cell_type": "code",
     "collapsed": false,
     "input": [
      "x = -1\n",
      "if x > 0:\n",
      "   print \"Melting\"\n",
      "elif x == 0:\n",
      "   print \"Zero\"\n",
      "else:\n",
      "   print \"Freezing\""
     ],
     "language": "python",
     "metadata": {},
     "outputs": [
      {
       "output_type": "stream",
       "stream": "stdout",
       "text": [
        "Freezing\n"
       ]
      }
     ],
     "prompt_number": 37
    },
    {
     "cell_type": "heading",
     "level": 3,
     "metadata": {},
     "source": [
      "Exercise"
     ]
    },
    {
     "cell_type": "markdown",
     "metadata": {},
     "source": [
      "    99 Bottles of beer on the wall,\n",
      "    99 Bottles of beer,\n",
      "    Take one down and pass it around,\n",
      "    98 Bottles of beer on the wall.\n",
      "    \u2026.\n",
      "    \u2026.\n",
      "    3 Bottles of beer on the wall,\n",
      "    3 Bottles of beer,\n",
      "    Take one down and pass it around,\n",
      "    2 Bottles of beer on the wall.\n",
      "    \n",
      "    2 Bottles of beer on the wall,\n",
      "    2 Bottles of beer,\n",
      "    Take one down and pass it around,\n",
      "    1 Bottles of beer on the wall.\n",
      "    \n",
      "    1 Bottles of beer on the wall,\n",
      "    1 Bottles of beer,\n",
      "    Take one down and pass it around,\n",
      "    No more bottles of beer on the wall!"
     ]
    },
    {
     "cell_type": "code",
     "collapsed": false,
     "input": [
      "bottles = range(99, 0, -1)"
     ],
     "language": "python",
     "metadata": {},
     "outputs": [],
     "prompt_number": 11
    },
    {
     "cell_type": "code",
     "collapsed": false,
     "input": [],
     "language": "python",
     "metadata": {},
     "outputs": []
    },
    {
     "cell_type": "code",
     "collapsed": false,
     "input": [],
     "language": "python",
     "metadata": {},
     "outputs": []
    },
    {
     "cell_type": "code",
     "collapsed": false,
     "input": [],
     "language": "python",
     "metadata": {},
     "outputs": []
    },
    {
     "cell_type": "code",
     "collapsed": false,
     "input": [],
     "language": "python",
     "metadata": {},
     "outputs": []
    },
    {
     "cell_type": "code",
     "collapsed": false,
     "input": [],
     "language": "python",
     "metadata": {},
     "outputs": []
    },
    {
     "cell_type": "code",
     "collapsed": false,
     "input": [],
     "language": "python",
     "metadata": {},
     "outputs": []
    },
    {
     "cell_type": "code",
     "collapsed": false,
     "input": [],
     "language": "python",
     "metadata": {},
     "outputs": []
    },
    {
     "cell_type": "code",
     "collapsed": false,
     "input": [],
     "language": "python",
     "metadata": {},
     "outputs": []
    },
    {
     "cell_type": "code",
     "collapsed": false,
     "input": [],
     "language": "python",
     "metadata": {},
     "outputs": []
    },
    {
     "cell_type": "code",
     "collapsed": false,
     "input": [],
     "language": "python",
     "metadata": {},
     "outputs": []
    },
    {
     "cell_type": "code",
     "collapsed": false,
     "input": [],
     "language": "python",
     "metadata": {},
     "outputs": []
    },
    {
     "cell_type": "code",
     "collapsed": false,
     "input": [],
     "language": "python",
     "metadata": {},
     "outputs": []
    },
    {
     "cell_type": "code",
     "collapsed": false,
     "input": [
      "for bottle in bottles:\n",
      "    bottle_one  = \"Bottle\"\n",
      "    bottle_many = \"Bottles\"\n",
      "    \n",
      "    if bottle%10 != 1:\n",
      "        bottle_string = \" Bottles\"\n",
      "    else:\n",
      "        bottle_string = ' Bottle'\n",
      "    \n",
      "    print(str(bottle)+ bottle_string + ' of beer on the wall,')\n",
      "    print(str(bottle)+ bottle_string + ' of beer')\n",
      "    print('Take one down and pass it around,')\n",
      "    \n",
      "    if (bottle-1)%10 != 1:\n",
      "        bottle_string = \" Bottles\"\n",
      "    else:\n",
      "        bottle_string = ' Bottle'\n",
      "        \n",
      "    if bottle-1 > 0:\n",
      "        print(str(bottle-1)+ bottle_string +' of beer on the wall.')\n",
      "    else:\n",
      "        print('No more bottles of beer on the wall!')\n",
      "    print('\\n')"
     ],
     "language": "python",
     "metadata": {},
     "outputs": []
    },
    {
     "cell_type": "code",
     "collapsed": false,
     "input": [],
     "language": "python",
     "metadata": {},
     "outputs": []
    },
    {
     "cell_type": "code",
     "collapsed": false,
     "input": [],
     "language": "python",
     "metadata": {},
     "outputs": []
    },
    {
     "cell_type": "heading",
     "level": 3,
     "metadata": {},
     "source": [
      "Modules"
     ]
    },
    {
     "cell_type": "markdown",
     "metadata": {},
     "source": [
      "Pure python does not do much. Even IPython with *pylab* enabled can do only limited number of things. To do some specific tasks you need to import modules. Here I am going to demonstrate several ways to do so."
     ]
    },
    {
     "cell_type": "markdown",
     "metadata": {},
     "source": [
      "The most common one is to import complete library. In this example we import *urllib2* - a library for opening URLs using a variety of protocols."
     ]
    },
    {
     "cell_type": "code",
     "collapsed": false,
     "input": [
      "import urllib2"
     ],
     "language": "python",
     "metadata": {},
     "outputs": [],
     "prompt_number": 28
    },
    {
     "cell_type": "markdown",
     "metadata": {},
     "source": [
      "Here we get information from some ftp site. Note how function *urlopen* is called. We have to use name of the library, then dot, then name of the function from the library:"
     ]
    },
    {
     "cell_type": "code",
     "collapsed": false,
     "input": [
      "response = urllib2.urlopen('https://www.hcu-hamburg.de/en/')\n",
      "html = response.read()\n",
      "html.splitlines()"
     ],
     "language": "python",
     "metadata": {},
     "outputs": [
      {
       "metadata": {},
       "output_type": "pyout",
       "prompt_number": 32,
       "text": [
        "['<?xml version=\"1.0\" encoding=\"utf-8\"?>',\n",
        " '<!DOCTYPE html',\n",
        " '     PUBLIC \"-//W3C//DTD XHTML 1.1//EN\"',\n",
        " '     \"http://www.w3.org/TR/xhtml11/DTD/xhtml11.dtd\">',\n",
        " '<html xml:lang=\"de-DE\" xmlns=\"http://www.w3.org/1999/xhtml\">',\n",
        " '<head>',\n",
        " '',\n",
        " '<meta http-equiv=\"Content-Type\" content=\"text/html; charset=utf-8\" />',\n",
        " '<!-- ',\n",
        " '\\tThis website is powered by TYPO3 - inspiring people to share!',\n",
        " '\\tTYPO3 is a free open source Content Management Framework initially created by Kasper Skaarhoj and licensed under GNU/GPL.',\n",
        " '\\tTYPO3 is copyright 1998-2012 of Kasper Skaarhoj. Extensions are copyright of their respective owners.',\n",
        " '\\tInformation and contribution at http://typo3.org/',\n",
        " '-->',\n",
        " '',\n",
        " '<base href=\"https://www.hcu-hamburg.de/\" />',\n",
        " '',\n",
        " '<title>HafenCity Universit\\xc3\\xa4t Hamburg (HCU): Home</title>',\n",
        " '<meta name=\"generator\" content=\"TYPO3 4.5 CMS\" />',\n",
        " '',\n",
        " '<link rel=\"stylesheet\" type=\"text/css\" href=\"fileadmin/templates/screen.css?1358931171\" media=\"all\" />',\n",
        " '<link rel=\"stylesheet\" type=\"text/css\" href=\"fileadmin/templates/screen_start.css?1247579235\" media=\"all\" />',\n",
        " '<link rel=\"stylesheet\" type=\"text/css\" href=\"typo3temp/stylesheet_84e25ca38b.css?1348694094\" media=\"all\" />',\n",
        " '<link rel=\"stylesheet\" type=\"text/css\" href=\"fileadmin/templates/content.css?1396950871\" media=\"all\" />',\n",
        " '<link rel=\"stylesheet\" type=\"text/css\" href=\"fileadmin/templates/dropdown.css?1251183694\" media=\"all\" />',\n",
        " '<link rel=\"stylesheet\" type=\"text/css\" href=\"fileadmin/css/prettyPhoto.css?1324982538\" media=\"all\" />',\n",
        " '<link rel=\"stylesheet\" type=\"text/css\" href=\"fileadmin/mediaelement/mediaelementplayer.css?1360148001\" media=\"all\" />',\n",
        " '',\n",
        " '',\n",
        " '',\n",
        " '<script src=\"fileadmin/templates/menu.js?1314866033\" type=\"text/javascript\"></script>',\n",
        " '<script src=\"fileadmin/templates/toggler.js?1326889949\" type=\"text/javascript\"></script>',\n",
        " '<script src=\"fileadmin/scripts/jquery-1.7.1.min.js?1324980330\" type=\"text/javascript\"></script>',\n",
        " '<script src=\"fileadmin/scripts/jquery.tools.min.js?1396954309\" type=\"text/javascript\"></script>',\n",
        " '<script src=\"fileadmin/scripts/jquery.tools-tab.min.js?1396954618\" type=\"text/javascript\"></script>',\n",
        " '<script src=\"fileadmin/scripts/jquery.prettyPhoto.js?1324981234\" type=\"text/javascript\"></script>',\n",
        " '<script src=\"fileadmin/scripts/content.js?1396953677\" type=\"text/javascript\"></script>',\n",
        " '<script src=\"fileadmin/mediaelement/mediaelement-and-player.min.js?1360148004\" type=\"text/javascript\"></script>',\n",
        " '<script src=\"typo3temp/javascript_93077bb238.js?1241786777\" type=\"text/javascript\"></script>',\n",
        " '',\n",
        " '',\n",
        " '<link rel=\"stylesheet\" type=\"text/css\" href=\"/index.php?id=1&amp;type=10\" />',\n",
        " '',\n",
        " '<script type=\"text/javascript\">',\n",
        " '\\t/*<![CDATA[*/',\n",
        " '<!--',\n",
        " 'if (version == \"n3\") {',\n",
        " 'img6_6f5f_0_n=new Image(); img6_6f5f_0_n.src = \"typo3temp/menu/de5179f321.gif\"; ',\n",
        " 'img6_6f5f_0_h=new Image(); img6_6f5f_0_h.src = \"typo3temp/menu/847335c0d0.gif\"; ',\n",
        " 'img22_9f28_0_n=new Image(); img22_9f28_0_n.src = \"typo3temp/menu/83ce380de1.gif\"; ',\n",
        " 'img22_9f28_0_h=new Image(); img22_9f28_0_h.src = \"typo3temp/menu/f62883fb94.gif\"; ',\n",
        " 'img42_9f28_1_n=new Image(); img42_9f28_1_n.src = \"typo3temp/menu/6775e27530.gif\"; ',\n",
        " 'img42_9f28_1_h=new Image(); img42_9f28_1_h.src = \"typo3temp/menu/709f8cef21.gif\"; ',\n",
        " 'img7_9f28_2_n=new Image(); img7_9f28_2_n.src = \"typo3temp/menu/4190749ca7.gif\"; ',\n",
        " 'img7_9f28_2_h=new Image(); img7_9f28_2_h.src = \"typo3temp/menu/189a9243e7.gif\"; ',\n",
        " 'img763_cdfa_0_n=new Image(); img763_cdfa_0_n.src = \"typo3temp/menu/0919dc6768.gif\"; ',\n",
        " 'img763_cdfa_0_h=new Image(); img763_cdfa_0_h.src = \"typo3temp/menu/cc52e56733.gif\"; ',\n",
        " 'img3_cdfa_1_n=new Image(); img3_cdfa_1_n.src = \"typo3temp/menu/5a1e6eb3d5.gif\"; ',\n",
        " 'img3_cdfa_1_h=new Image(); img3_cdfa_1_h.src = \"typo3temp/menu/6e6101cf2b.gif\"; ',\n",
        " 'img23_cdfa_2_n=new Image(); img23_cdfa_2_n.src = \"typo3temp/menu/9517a0aced.gif\"; ',\n",
        " 'img23_cdfa_2_h=new Image(); img23_cdfa_2_h.src = \"typo3temp/menu/986b559c17.gif\"; ',\n",
        " 'img4959_cdfa_3_n=new Image(); img4959_cdfa_3_n.src = \"typo3temp/menu/c5eaa26b72.gif\"; ',\n",
        " 'img4959_cdfa_3_h=new Image(); img4959_cdfa_3_h.src = \"typo3temp/menu/18d7a600c2.gif\"; ',\n",
        " 'img6_65d4_0_n=new Image(); img6_65d4_0_n.src = \"typo3temp/menu/f1f2bb96ac.png\"; ',\n",
        " 'img6_65d4_0_h=new Image(); img6_65d4_0_h.src = \"typo3temp/menu/173e2898c0.png\"; ',\n",
        " 'img55_98dd_0_n=new Image(); img55_98dd_0_n.src = \"typo3temp/menu/4f192af243.png\"; ',\n",
        " 'img55_98dd_0_h=new Image(); img55_98dd_0_h.src = \"typo3temp/menu/ad1254f204.png\"; ',\n",
        " 'img889_98dd_1_n=new Image(); img889_98dd_1_n.src = \"typo3temp/menu/63bd48408c.png\"; ',\n",
        " 'img889_98dd_1_h=new Image(); img889_98dd_1_h.src = \"typo3temp/menu/96b7fab64b.png\"; ',\n",
        " 'img919_98dd_2_n=new Image(); img919_98dd_2_n.src = \"typo3temp/menu/c61ed1f40f.png\"; ',\n",
        " 'img919_98dd_2_h=new Image(); img919_98dd_2_h.src = \"typo3temp/menu/ff0968dd4d.png\"; ',\n",
        " 'img6084_98dd_3_n=new Image(); img6084_98dd_3_n.src = \"typo3temp/menu/9e7b6b3bab.png\"; ',\n",
        " 'img6084_98dd_3_h=new Image(); img6084_98dd_3_h.src = \"typo3temp/menu/0c8aef5afc.png\"; ',\n",
        " 'img1254_98dd_4_n=new Image(); img1254_98dd_4_n.src = \"typo3temp/menu/f7480cbb5b.png\"; ',\n",
        " 'img1254_98dd_4_h=new Image(); img1254_98dd_4_h.src = \"typo3temp/menu/a9fc754f83.png\"; ',\n",
        " 'img53_98dd_5_n=new Image(); img53_98dd_5_n.src = \"typo3temp/menu/9099b269d2.png\"; ',\n",
        " 'img53_98dd_5_h=new Image(); img53_98dd_5_h.src = \"typo3temp/menu/6d52b100fd.png\"; ',\n",
        " 'img52_98dd_6_n=new Image(); img52_98dd_6_n.src = \"typo3temp/menu/7874505d46.png\"; ',\n",
        " 'img52_98dd_6_h=new Image(); img52_98dd_6_h.src = \"typo3temp/menu/66cf935072.png\"; ',\n",
        " 'img6458_98dd_7_n=new Image(); img6458_98dd_7_n.src = \"typo3temp/menu/4c0ea0bdcc.png\"; ',\n",
        " 'img6458_98dd_7_h=new Image(); img6458_98dd_7_h.src = \"typo3temp/menu/638a5747f5.png\"; ',\n",
        " 'img954_98dd_8_n=new Image(); img954_98dd_8_n.src = \"typo3temp/menu/8a07dd8615.png\"; ',\n",
        " 'img954_98dd_8_h=new Image(); img954_98dd_8_h.src = \"typo3temp/menu/309c7bdfef.png\"; ',\n",
        " 'img980_98dd_9_n=new Image(); img980_98dd_9_n.src = \"typo3temp/menu/df203719a6.png\"; ',\n",
        " 'img980_98dd_9_h=new Image(); img980_98dd_9_h.src = \"typo3temp/menu/484a233373.png\"; ',\n",
        " 'img51_98dd_10_n=new Image(); img51_98dd_10_n.src = \"typo3temp/menu/d954fdfc70.png\"; ',\n",
        " 'img51_98dd_10_h=new Image(); img51_98dd_10_h.src = \"typo3temp/menu/0eb12e79b9.png\"; ',\n",
        " 'img22_65d4_1_n=new Image(); img22_65d4_1_n.src = \"typo3temp/menu/21d4659a1a.png\"; ',\n",
        " 'img22_65d4_1_h=new Image(); img22_65d4_1_h.src = \"typo3temp/menu/a6c289fd41.png\"; ',\n",
        " 'img660_a34d_0_n=new Image(); img660_a34d_0_n.src = \"typo3temp/menu/38c99fe4e0.png\"; ',\n",
        " 'img660_a34d_0_h=new Image(); img660_a34d_0_h.src = \"typo3temp/menu/da7c8b1a50.png\"; ',\n",
        " 'img661_a34d_1_n=new Image(); img661_a34d_1_n.src = \"typo3temp/menu/09f5e95a49.png\"; ',\n",
        " 'img661_a34d_1_h=new Image(); img661_a34d_1_h.src = \"typo3temp/menu/3270cff20c.png\"; ',\n",
        " 'img662_a34d_2_n=new Image(); img662_a34d_2_n.src = \"typo3temp/menu/b320f3ad2c.png\"; ',\n",
        " 'img662_a34d_2_h=new Image(); img662_a34d_2_h.src = \"typo3temp/menu/e7a9cc8f37.png\"; ',\n",
        " 'img663_a34d_3_n=new Image(); img663_a34d_3_n.src = \"typo3temp/menu/81e855b2cf.png\"; ',\n",
        " 'img663_a34d_3_h=new Image(); img663_a34d_3_h.src = \"typo3temp/menu/4492dc58de.png\"; ',\n",
        " 'img664_a34d_4_n=new Image(); img664_a34d_4_n.src = \"typo3temp/menu/5b77d0996e.png\"; ',\n",
        " 'img664_a34d_4_h=new Image(); img664_a34d_4_h.src = \"typo3temp/menu/32bcabbdd4.png\"; ',\n",
        " 'img756_a34d_5_n=new Image(); img756_a34d_5_n.src = \"typo3temp/menu/130c56dba6.png\"; ',\n",
        " 'img756_a34d_5_h=new Image(); img756_a34d_5_h.src = \"typo3temp/menu/396d676c56.png\"; ',\n",
        " 'img3979_a34d_6_n=new Image(); img3979_a34d_6_n.src = \"typo3temp/menu/5a7dc2abf8.png\"; ',\n",
        " 'img3979_a34d_6_h=new Image(); img3979_a34d_6_h.src = \"typo3temp/menu/5c4c7b2a41.png\"; ',\n",
        " 'img1128_a34d_7_n=new Image(); img1128_a34d_7_n.src = \"typo3temp/menu/d013d9e581.png\"; ',\n",
        " 'img1128_a34d_7_h=new Image(); img1128_a34d_7_h.src = \"typo3temp/menu/82fdc6a94c.png\"; ',\n",
        " 'img3723_a34d_8_n=new Image(); img3723_a34d_8_n.src = \"typo3temp/menu/347dd846aa.png\"; ',\n",
        " 'img3723_a34d_8_h=new Image(); img3723_a34d_8_h.src = \"typo3temp/menu/8f3b9cb16d.png\"; ',\n",
        " 'img2962_a34d_9_n=new Image(); img2962_a34d_9_n.src = \"typo3temp/menu/e878cbd2ba.png\"; ',\n",
        " 'img2962_a34d_9_h=new Image(); img2962_a34d_9_h.src = \"typo3temp/menu/391a9f2d55.png\"; ',\n",
        " 'img1126_a34d_10_n=new Image(); img1126_a34d_10_n.src = \"typo3temp/menu/8f96324888.png\"; ',\n",
        " 'img1126_a34d_10_h=new Image(); img1126_a34d_10_h.src = \"typo3temp/menu/bbdb31ed64.png\"; ',\n",
        " 'img42_65d4_2_n=new Image(); img42_65d4_2_n.src = \"typo3temp/menu/4842272160.png\"; ',\n",
        " 'img42_65d4_2_h=new Image(); img42_65d4_2_h.src = \"typo3temp/menu/d23bc4e3e6.png\"; ',\n",
        " 'img665_7d5a_0_n=new Image(); img665_7d5a_0_n.src = \"typo3temp/menu/7ccacf5e90.png\"; ',\n",
        " 'img665_7d5a_0_h=new Image(); img665_7d5a_0_h.src = \"typo3temp/menu/d734de14cb.png\"; ',\n",
        " 'img827_7d5a_1_n=new Image(); img827_7d5a_1_n.src = \"typo3temp/menu/53fda507c6.png\"; ',\n",
        " 'img827_7d5a_1_h=new Image(); img827_7d5a_1_h.src = \"typo3temp/menu/24a2c8f029.png\"; ',\n",
        " 'img755_7d5a_2_n=new Image(); img755_7d5a_2_n.src = \"typo3temp/menu/f6744ebe16.png\"; ',\n",
        " 'img755_7d5a_2_h=new Image(); img755_7d5a_2_h.src = \"typo3temp/menu/30fb9ddcf2.png\"; ',\n",
        " 'img667_7d5a_3_n=new Image(); img667_7d5a_3_n.src = \"typo3temp/menu/baab5e4770.png\"; ',\n",
        " 'img667_7d5a_3_h=new Image(); img667_7d5a_3_h.src = \"typo3temp/menu/7555f5b8b1.png\"; ',\n",
        " 'img6917_7d5a_4_n=new Image(); img6917_7d5a_4_n.src = \"typo3temp/menu/679a1058b4.png\"; ',\n",
        " 'img6917_7d5a_4_h=new Image(); img6917_7d5a_4_h.src = \"typo3temp/menu/26a65158b7.png\"; ',\n",
        " 'img752_7d5a_5_n=new Image(); img752_7d5a_5_n.src = \"typo3temp/menu/fa2c7a21cf.png\"; ',\n",
        " 'img752_7d5a_5_h=new Image(); img752_7d5a_5_h.src = \"typo3temp/menu/596e423eb1.png\"; ',\n",
        " 'img753_7d5a_6_n=new Image(); img753_7d5a_6_n.src = \"typo3temp/menu/4f961f7fbf.png\"; ',\n",
        " 'img753_7d5a_6_h=new Image(); img753_7d5a_6_h.src = \"typo3temp/menu/a8b04b461a.png\"; ',\n",
        " 'img757_7d5a_7_n=new Image(); img757_7d5a_7_n.src = \"typo3temp/menu/47761e700c.png\"; ',\n",
        " 'img757_7d5a_7_h=new Image(); img757_7d5a_7_h.src = \"typo3temp/menu/a8748f718b.png\"; ',\n",
        " 'img4757_7d5a_8_n=new Image(); img4757_7d5a_8_n.src = \"typo3temp/menu/7586636e00.png\"; ',\n",
        " 'img4757_7d5a_8_h=new Image(); img4757_7d5a_8_h.src = \"typo3temp/menu/d68ed6438d.png\"; ',\n",
        " 'img3723_7d5a_9_n=new Image(); img3723_7d5a_9_n.src = \"typo3temp/menu/fb8f0f81dc.png\"; ',\n",
        " 'img3723_7d5a_9_h=new Image(); img3723_7d5a_9_h.src = \"typo3temp/menu/4c9c3638cb.png\"; ',\n",
        " 'img2966_7d5a_10_n=new Image(); img2966_7d5a_10_n.src = \"typo3temp/menu/533238e250.png\"; ',\n",
        " 'img2966_7d5a_10_h=new Image(); img2966_7d5a_10_h.src = \"typo3temp/menu/a21c9fb138.png\"; ',\n",
        " 'img1124_7d5a_11_n=new Image(); img1124_7d5a_11_n.src = \"typo3temp/menu/14b8ce403a.png\"; ',\n",
        " 'img1124_7d5a_11_h=new Image(); img1124_7d5a_11_h.src = \"typo3temp/menu/63fba95a76.png\"; ',\n",
        " 'img7_65d4_3_n=new Image(); img7_65d4_3_n.src = \"typo3temp/menu/5964f4c143.png\"; ',\n",
        " 'img7_65d4_3_h=new Image(); img7_65d4_3_h.src = \"typo3temp/menu/4fa70c1123.png\"; ',\n",
        " 'img5693_4d93_0_n=new Image(); img5693_4d93_0_n.src = \"typo3temp/menu/aa2ab8b651.png\"; ',\n",
        " 'img5693_4d93_0_h=new Image(); img5693_4d93_0_h.src = \"typo3temp/menu/299e81e26e.png\"; ',\n",
        " 'img1008_4d93_1_n=new Image(); img1008_4d93_1_n.src = \"typo3temp/menu/768c0961f3.png\"; ',\n",
        " 'img1008_4d93_1_h=new Image(); img1008_4d93_1_h.src = \"typo3temp/menu/fa1d7527a2.png\"; ',\n",
        " 'img3499_4d93_2_n=new Image(); img3499_4d93_2_n.src = \"typo3temp/menu/adcad00a4f.png\"; ',\n",
        " 'img3499_4d93_2_h=new Image(); img3499_4d93_2_h.src = \"typo3temp/menu/22428a3c36.png\"; ',\n",
        " 'img5441_4d93_3_n=new Image(); img5441_4d93_3_n.src = \"typo3temp/menu/d1674c259b.png\"; ',\n",
        " 'img5441_4d93_3_h=new Image(); img5441_4d93_3_h.src = \"typo3temp/menu/0bb083ea07.png\"; ',\n",
        " 'img3480_4d93_4_n=new Image(); img3480_4d93_4_n.src = \"typo3temp/menu/f900129bf3.png\"; ',\n",
        " 'img3480_4d93_4_h=new Image(); img3480_4d93_4_h.src = \"typo3temp/menu/9674ad6f1a.png\"; ',\n",
        " 'img3481_4d93_5_n=new Image(); img3481_4d93_5_n.src = \"typo3temp/menu/3347989b47.png\"; ',\n",
        " 'img3481_4d93_5_h=new Image(); img3481_4d93_5_h.src = \"typo3temp/menu/cd6a3764d7.png\"; ',\n",
        " 'img763_65d4_4_n=new Image(); img763_65d4_4_n.src = \"typo3temp/menu/b19b23433a.png\"; ',\n",
        " 'img763_65d4_4_h=new Image(); img763_65d4_4_h.src = \"typo3temp/menu/37a0869cc9.png\"; ',\n",
        " 'img6867_0546_0_n=new Image(); img6867_0546_0_n.src = \"typo3temp/menu/23c07324c3.png\"; ',\n",
        " 'img6867_0546_0_h=new Image(); img6867_0546_0_h.src = \"typo3temp/menu/47cb217a33.png\"; ',\n",
        " 'img6181_0546_1_n=new Image(); img6181_0546_1_n.src = \"typo3temp/menu/98b8147957.png\"; ',\n",
        " 'img6181_0546_1_h=new Image(); img6181_0546_1_h.src = \"typo3temp/menu/96fce6a40b.png\"; ',\n",
        " 'img4545_0546_2_n=new Image(); img4545_0546_2_n.src = \"typo3temp/menu/3a35d7b816.png\"; ',\n",
        " 'img4545_0546_2_h=new Image(); img4545_0546_2_h.src = \"typo3temp/menu/658ef3d04f.png\"; ',\n",
        " 'img5113_0546_3_n=new Image(); img5113_0546_3_n.src = \"typo3temp/menu/4f9ceca6d3.png\"; ',\n",
        " 'img5113_0546_3_h=new Image(); img5113_0546_3_h.src = \"typo3temp/menu/ab16e88adc.png\"; ',\n",
        " 'img5109_0546_4_n=new Image(); img5109_0546_4_n.src = \"typo3temp/menu/a7ef11f122.png\"; ',\n",
        " 'img5109_0546_4_h=new Image(); img5109_0546_4_h.src = \"typo3temp/menu/2ea0757279.png\"; ',\n",
        " 'img7013_0546_5_n=new Image(); img7013_0546_5_n.src = \"typo3temp/menu/5c3f712b15.png\"; ',\n",
        " 'img7013_0546_5_h=new Image(); img7013_0546_5_h.src = \"typo3temp/menu/b5f4278323.png\"; ',\n",
        " 'img3_65d4_5_n=new Image(); img3_65d4_5_n.src = \"typo3temp/menu/f15aee90ab.png\"; ',\n",
        " 'img3_65d4_5_h=new Image(); img3_65d4_5_h.src = \"typo3temp/menu/1acc4c5e6d.png\"; ',\n",
        " 'img6805_975c_0_n=new Image(); img6805_975c_0_n.src = \"typo3temp/menu/bd14723411.png\"; ',\n",
        " 'img6805_975c_0_h=new Image(); img6805_975c_0_h.src = \"typo3temp/menu/e459a9b320.png\"; ',\n",
        " 'img659_975c_1_n=new Image(); img659_975c_1_n.src = \"typo3temp/menu/2910e27bf8.png\"; ',\n",
        " 'img659_975c_1_h=new Image(); img659_975c_1_h.src = \"typo3temp/menu/5f68863cdb.png\"; ',\n",
        " 'img658_975c_2_n=new Image(); img658_975c_2_n.src = \"typo3temp/menu/5f4d4ba833.png\"; ',\n",
        " 'img658_975c_2_h=new Image(); img658_975c_2_h.src = \"typo3temp/menu/21ce627544.png\"; ',\n",
        " 'img6630_975c_3_n=new Image(); img6630_975c_3_n.src = \"typo3temp/menu/b4c43884c4.png\"; ',\n",
        " 'img6630_975c_3_h=new Image(); img6630_975c_3_h.src = \"typo3temp/menu/cb73a09ea0.png\"; ',\n",
        " 'img23_65d4_6_n=new Image(); img23_65d4_6_n.src = \"typo3temp/menu/0d07b3f473.png\"; ',\n",
        " 'img23_65d4_6_h=new Image(); img23_65d4_6_h.src = \"typo3temp/menu/ccf3e120ea.png\"; ',\n",
        " 'img632_edca_0_n=new Image(); img632_edca_0_n.src = \"typo3temp/menu/a14e0d66f9.png\"; ',\n",
        " 'img632_edca_0_h=new Image(); img632_edca_0_h.src = \"typo3temp/menu/9f218e6ebc.png\"; ',\n",
        " 'img633_edca_1_n=new Image(); img633_edca_1_n.src = \"typo3temp/menu/7b00737037.png\"; ',\n",
        " 'img633_edca_1_h=new Image(); img633_edca_1_h.src = \"typo3temp/menu/670bb92d85.png\"; ',\n",
        " 'img634_edca_2_n=new Image(); img634_edca_2_n.src = \"typo3temp/menu/6a2180ccec.png\"; ',\n",
        " 'img634_edca_2_h=new Image(); img634_edca_2_h.src = \"typo3temp/menu/69fd1ac5a9.png\"; ',\n",
        " 'img741_edca_3_n=new Image(); img741_edca_3_n.src = \"typo3temp/menu/d145ff8320.png\"; ',\n",
        " 'img741_edca_3_h=new Image(); img741_edca_3_h.src = \"typo3temp/menu/fa7cbbbce0.png\"; ',\n",
        " 'img3244_edca_4_n=new Image(); img3244_edca_4_n.src = \"typo3temp/menu/abe77b6f12.png\"; ',\n",
        " 'img3244_edca_4_h=new Image(); img3244_edca_4_h.src = \"typo3temp/menu/f25ddc1d0d.png\"; ',\n",
        " 'img742_edca_5_n=new Image(); img742_edca_5_n.src = \"typo3temp/menu/bc96b3aee6.png\"; ',\n",
        " 'img742_edca_5_h=new Image(); img742_edca_5_h.src = \"typo3temp/menu/2360834333.png\"; ',\n",
        " 'img4079_edca_6_n=new Image(); img4079_edca_6_n.src = \"typo3temp/menu/337fadb2f5.png\"; ',\n",
        " 'img4079_edca_6_h=new Image(); img4079_edca_6_h.src = \"typo3temp/menu/ea1c94d8b9.png\"; ',\n",
        " 'img4304_edca_7_n=new Image(); img4304_edca_7_n.src = \"typo3temp/menu/79d0778d77.png\"; ',\n",
        " 'img4304_edca_7_h=new Image(); img4304_edca_7_h.src = \"typo3temp/menu/7e98b64978.png\"; ',\n",
        " 'img635_edca_8_n=new Image(); img635_edca_8_n.src = \"typo3temp/menu/18c77bbf6e.png\"; ',\n",
        " 'img635_edca_8_h=new Image(); img635_edca_8_h.src = \"typo3temp/menu/59ea219ccc.png\"; ',\n",
        " 'img4959_65d4_7_n=new Image(); img4959_65d4_7_n.src = \"typo3temp/menu/b08c1f088e.png\"; ',\n",
        " 'img4959_65d4_7_h=new Image(); img4959_65d4_7_h.src = \"typo3temp/menu/a00fceb9a8.png\"; ',\n",
        " 'img4965_35fd_0_n=new Image(); img4965_35fd_0_n.src = \"typo3temp/menu/ec5d8265d1.png\"; ',\n",
        " 'img4965_35fd_0_h=new Image(); img4965_35fd_0_h.src = \"typo3temp/menu/c8d2b77873.png\"; ',\n",
        " 'img5882_35fd_1_n=new Image(); img5882_35fd_1_n.src = \"typo3temp/menu/8b31159d25.png\"; ',\n",
        " 'img5882_35fd_1_h=new Image(); img5882_35fd_1_h.src = \"typo3temp/menu/ad1b027573.png\"; ',\n",
        " 'img4968_35fd_2_n=new Image(); img4968_35fd_2_n.src = \"typo3temp/menu/b47fa0c28a.png\"; ',\n",
        " 'img4968_35fd_2_h=new Image(); img4968_35fd_2_h.src = \"typo3temp/menu/e772ebbbe7.png\"; ',\n",
        " 'img4973_35fd_3_n=new Image(); img4973_35fd_3_n.src = \"typo3temp/menu/f350f4e6bd.png\"; ',\n",
        " 'img4973_35fd_3_h=new Image(); img4973_35fd_3_h.src = \"typo3temp/menu/d1b907a06e.png\";',\n",
        " '}',\n",
        " '// -->',\n",
        " '\\t/*]]>*/',\n",
        " '</script>',\n",
        " '',\n",
        " '<script type=\"text/javascript\">',\n",
        " '\\t/*<![CDATA[*/',\n",
        " '<!--',\n",
        " '\\t\\t// JS function for mouse-over',\n",
        " '\\tfunction over(name,imgObj)\\t{\\t//',\n",
        " 'if(deactivateName != name)  {',\n",
        " '\\t\\tif (version == \"n3\" && document[name]) {document[name].src = eval(name+\"_h.src\");}',\n",
        " '\\t\\telse if (document.getElementById && document.getElementById(name)) {document.getElementById(name).src = eval(name+\"_h.src\");}',\n",
        " '\\t\\telse if (imgObj)\\t{imgObj.src = eval(name+\"_h.src\");}',\n",
        " '}',\n",
        " '\\t}',\n",
        " '\\t\\t// JS function for mouse-out',\n",
        " '\\tfunction out(name,imgObj)\\t{\\t//',\n",
        " 'if(deactivateName != name)  {',\n",
        " '\\t\\tif (version == \"n3\" && document[name]) {document[name].src = eval(name+\"_n.src\");}',\n",
        " '\\t\\telse if (document.getElementById && document.getElementById(name)) {document.getElementById(name).src = eval(name+\"_n.src\");}',\n",
        " '\\t\\telse if (imgObj)\\t{imgObj.src = eval(name+\"_n.src\");}',\n",
        " '}',\n",
        " '\\t}',\n",
        " '',\n",
        " '// -->',\n",
        " '\\t/*]]>*/',\n",
        " '</script>',\n",
        " '</head>',\n",
        " '<body onload=\"hideAllTogglers()\">',\n",
        " '',\n",
        " '',\n",
        " '<div id=\"top\" style=\"\">',\n",
        " '\\t<div id=\"logosearchtopmenu\" class=\"topwidth logoheight\">',\n",
        " '\\t\\t<div id=\"logosearchtopmenu_inner\">',\n",
        " '\\t\\t\\t<div id=\"logo\" class=\"left\"><a href=\"en/\" title=\"HafenCity Universit\\xc3\\xa4t Hamburg - Startseite\" onfocus=\"blurLink(this);\"  ><img src=\"typo3temp/menu/35c1aeb0a0.png\" width=\"262\" height=\"79\"  alt=\"Home\" alt=\"HCU\" /></a><img src=\"fileadmin/templates/hcu_logo2.gif\" width=\"183\" height=\"79\" alt=\"HafenCity Universit\\xc3\\xa4t (HCU) Universit\\xc3\\xa4t f\\xc3\\xbcr Baukunst und Metropolenentwicklung\" /></div>',\n",
        " '\\t\\t\\t<div id=\"search\" class=\"left logoheight\"><div id=\"searchtopmargin\">&nbsp;</div><form action=\"en/t/suche/\" method=\"post\" style=\"margin:0; padding:0; display:inline;\"><div id=\"pagesearch\" class=\"searchform\"><input type=\"text\" name=\"tx_indexedsearch[sword]\" class=\"search\" /><input type=\"image\" src=\"/fileadmin/images/suchen.gif\" alt=\"suchen\" style=\"vertical-align: baseline;\" /></div></form><div id=\"searchmenu\"><div class=\"searchmenuitem\"><a href=\"en/?searchmode=page\" onfocus=\"blurLink(this);\"  ><img src=\"typo3temp/menu/466928bcc0.png\" width=\"120\" height=\"50\"  alt=\"Suche\" /></a></div></div></div>',\n",
        " '\\t\\t\\t<div id=\"topmenu\" class=\"right logoheight\">',\n",
        " '\\t\\t\\t\\t<div id=\"topmenu_inner\"><div class=\"topmenuitem\"><a href=\"en/t/sitemap/\" onfocus=\"blurLink(this);\"  >Sitemap</a></div><div class=\"topmenuitem\"><a href=\"en/dialog/kommunikationpresse/\" onfocus=\"blurLink(this);\"  >Presse</a></div><div class=\"topmenuitem\"><a href=\"en/t/hcu-intern/\" onfocus=\"blurLink(this);\"  >HCU intern</a></div><div class=\"topmenuitem\"><a href=\"en/t/webmail/\" onfocus=\"blurLink(this);\"  >Webmail</a></div><div class=\"topmenuitem\"><a href=\"en/t/ahoi/\" onfocus=\"blurLink(this);\"  >ahoi</a></div></div>',\n",
        " '\\t\\t\\t</div>',\n",
        " '\\t\\t</div>',\n",
        " '\\t</div>',\n",
        " '\\t<div id=\"mainmenu\" class=\"margins\">',\n",
        " '\\t\\t<div id=\"mainmenuline\"></div>',\n",
        " '\\t\\t<div id=\"mainmenu_inner\"><div style=\"width: 152px; float: left; overflow: hidden;\"><a href=\"en/university/\" onfocus=\"blurLink(this);\" onmouseover=\"over(\\'img6_6f5f_0\\');\" onmouseout=\"out(\\'img6_6f5f_0\\');\"  onclick=\"return openDropdown(this,1, \\'typo3temp/GB/f890006c57.png\\');\"id=\"mainmenu1\"><img src=\"typo3temp/menu/de5179f321.gif\" width=\"152\" height=\"50\"  alt=\"University\" id=\"img6_6f5f_0\" /></a></div><div style=\"width: 62px;float: left; overflow: hidden;\"><a href=\"en/bachelor/\" onfocus=\"blurLink(this);\" onmouseover=\"over(\\'img22_9f28_0\\');\" onmouseout=\"out(\\'img22_9f28_0\\');\"  onclick=\"return openDropdown(this,2, \\'typo3temp/GB/5dd7eda5f7.png\\');\"id=\"mainmenu2\"><img src=\"typo3temp/menu/83ce380de1.gif\" width=\"62\" height=\"50\"  alt=\"Bachelor\" id=\"img22_9f28_0\" /></a></div><div style=\"width: 62px;float: left; overflow: hidden;\"><a href=\"en/master/\" onfocus=\"blurLink(this);\" onmouseover=\"over(\\'img42_9f28_1\\');\" onmouseout=\"out(\\'img42_9f28_1\\');\"  onclick=\"return openDropdown(this,3, \\'typo3temp/GB/51f2db101d.png\\');\"id=\"mainmenu3\"><img src=\"typo3temp/menu/6775e27530.gif\" width=\"62\" height=\"50\"  alt=\"Master\" id=\"img42_9f28_1\" /></a></div><div style=\"width: 67px;float: left; overflow: hidden;\"><a href=\"en/research/\" onfocus=\"blurLink(this);\" onmouseover=\"over(\\'img7_9f28_2\\');\" onmouseout=\"out(\\'img7_9f28_2\\');\"  onclick=\"return openDropdown(this,4, \\'typo3temp/GB/45e2421dc3.png\\');\"id=\"mainmenu4\"><img src=\"typo3temp/menu/4190749ca7.gif\" width=\"67\" height=\"50\"  alt=\"Research\" id=\"img7_9f28_2\" /></a></div><div style=\"width: 152px; float: left; overflow: hidden;\"><a href=\"en/student-services/\" onfocus=\"blurLink(this);\" onmouseover=\"over(\\'img763_cdfa_0\\');\" onmouseout=\"out(\\'img763_cdfa_0\\');\"  onclick=\"return openDropdown(this,5, \\'typo3temp/GB/bfc803b2b5.png\\');\"id=\"mainmenu5\"><img src=\"typo3temp/menu/0919dc6768.gif\" width=\"152\" height=\"50\"  alt=\"Student Services\" id=\"img763_cdfa_0\" /></a></div><div style=\"width: 152px; float: left; overflow: hidden;\"><a href=\"en/it-and-media/\" onfocus=\"blurLink(this);\" onmouseover=\"over(\\'img3_cdfa_1\\');\" onmouseout=\"out(\\'img3_cdfa_1\\');\"  onclick=\"return openDropdown(this,6, \\'typo3temp/GB/daf91c274e.png\\');\"id=\"mainmenu6\"><img src=\"typo3temp/menu/5a1e6eb3d5.gif\" width=\"152\" height=\"50\"  alt=\"IT and media\" id=\"img3_cdfa_1\" /></a></div><div style=\"width: 152px; float: left; overflow: hidden;\"><a href=\"en/io/\" onfocus=\"blurLink(this);\" onmouseover=\"over(\\'img23_cdfa_2\\');\" onmouseout=\"out(\\'img23_cdfa_2\\');\"  onclick=\"return openDropdown(this,7, \\'typo3temp/GB/27921e7f0d.png\\');\"id=\"mainmenu7\"><img src=\"typo3temp/menu/9517a0aced.gif\" width=\"152\" height=\"50\"  alt=\"International Office\" id=\"img23_cdfa_2\" /></a></div><div style=\"width: 152px; float: left; overflow: hidden;\"><a href=\"en/dialog/\" onfocus=\"blurLink(this);\" onmouseover=\"over(\\'img4959_cdfa_3\\');\" onmouseout=\"out(\\'img4959_cdfa_3\\');\"  onclick=\"return openDropdown(this,8, \\'typo3temp/GB/f610a195d6.png\\');\"id=\"mainmenu8\"><img src=\"typo3temp/menu/c5eaa26b72.gif\" width=\"152\" height=\"50\"  alt=\"Dialog\" id=\"img4959_cdfa_3\" /></a></div></div>',\n",
        " '\\t</div>',\n",
        " '</div>',\n",
        " '',\n",
        " '',\n",
        " '\\t<div id=\"clickpathline\" style=\"background-image: url(fileadmin/images/balken-grau.jpg)\">',\n",
        " '\\t\\t<div id=\"clickpathline_inner\" class=\"margins\">',\n",
        " '\\t\\t\\t<div id=\"clickpath\" class=\"left\"><div class=\"rootlinemenuitem\"><a href=\"en/\" onfocus=\"blurLink(this);\"  >Home</a></div></div>',\n",
        " '\\t\\t\\t<div id=\"language\" class=\"right\"><div class=\"langmenuitem\"><a href=\"/\" onfocus=\"blurLink(this);\"  >Deutsch</a></div><div class=\"langmenuitem langmenuitem_active\"><a href=\"en/\" onfocus=\"blurLink(this);\"  >English</a></div></div>',\n",
        " '\\t\\t</div>',\n",
        " '\\t</div>',\n",
        " '',\n",
        " '',\n",
        " '',\n",
        " '<div id=\"outer\">',\n",
        " '\\t<div id=\"inner\">',\n",
        " '\\t\\t<div id=\"content_start\" style=\"\">',\n",
        " '\\t\\t\\t<div id=\"content_start_inner\"><!--TYPO3SEARCH_begin-->',\n",
        " '\\t<!--  CONTENT ELEMENT, uid:5185/header [begin] -->',\n",
        " '\\t\\t<a id=\"c10444\"></a><a name=\"5185\"></a><div class=\"ce ce-column- ce-type-header\"><div class=\"borderstyle-1\"><h1>Welcome to the HafenCity University Hamburg!</h1></div><div id=\"c5185\" class=\"csc-default\" ></div></div>',\n",
        " '\\t<!--  CONTENT ELEMENT, uid:5185/header [end] -->',\n",
        " '\\t\\t',\n",
        " '\\t<!--  CONTENT ELEMENT, uid:5190/text [begin] -->',\n",
        " '\\t\\t<a id=\"c11199\"></a><a name=\"5190\"></a><div class=\"ce ce-column- ce-type-text\"><div id=\"c5190\" class=\"csc-default\" >',\n",
        " '\\t\\t<!--  Text: [begin] -->',\n",
        " '\\t\\t\\t<p class=\"bodytext\"><span lang=\"EN-GB\">The HafenCity University Hamburg </span><span lang=\"EN-GB\">\\xe2\\x80\\x94</span><span lang=\"EN-GB\"> the University Of The Built Environment And Metropolitan Development (HCU</span>) <span lang=\"EN-GB\">\\xe2\\x80\\x94</span><span lang=\"EN-GB\"> is the only university of its kind in Europe. The education and research at the HCU Hamburg are aimed are contemplating and concretising what the future of metropolitan areas could and should look like. Coping with this future will, however, require a systematic interdisciplinary as well as transdisciplinary approach. For this reason, the HCU</span> offers the entire range of disciplines required for understanding and designing the urban environment:</p><ul style=\"margin-top: 0cm; \" type=\"square\"><li>Architecture, Civil Engineering, Geomatics, Urban Planning \\xe2\\x80\\x93 in each case as a <a href=\"en/bachelor/\" title=\"Opens internal link in current window\" class=\"internal-link\" >Bachelor\\xe2\\x80\\x99s degree</a> with the option to continue studying to obtain a <a href=\"en/master/\" title=\"Opens internal link in current window\" class=\"internal-link\" >Master\\xe2\\x80\\x99s degree</a> </li><li _extended=\"true\">Metropolitan Culture \\xe2\\x80\\x93 as a <a href=\"en/bachelor/\" title=\"Opens internal link in current window\" class=\"internal-link\" >bachelor programme</a> </li><li _extended=\"true\">Urban Design and Resource Efficiency in Architecture and Planning (REAP) \\xe2\\x80\\x93 as interdisciplinary <a href=\"en/master/\" title=\"Opens internal link in current window\" class=\"internal-link\" >Master\\xe2\\x80\\x99s degrees</a></li></ul>',\n",
        " '\\t\\t<!--  Text: [end] -->',\n",
        " '\\t\\t\\t</div></div>',\n",
        " '\\t<!--  CONTENT ELEMENT, uid:5190/text [end] -->',\n",
        " '\\t\\t',\n",
        " '\\t<!--  CONTENT ELEMENT, uid:73072/templavoila_pi1 [begin] -->',\n",
        " '\\t\\t<a name=\"73072\"></a><div class=\"ce ce-column- ce-type-templavoila_pi1\"><div id=\"c73072\" class=\"csc-default\" >',\n",
        " '<div class=\"fce\">',\n",
        " '\\t<div class=\"left width_1_2\"></div>',\n",
        " '',\n",
        " '\\t<div class=\"right width_1_2\"></div>',\n",
        " '</div>',\n",
        " '</div></div>',\n",
        " '\\t<!--  CONTENT ELEMENT, uid:73072/templavoila_pi1 [end] -->',\n",
        " '\\t\\t',\n",
        " '\\t<!--  CONTENT ELEMENT, uid:29281/list [begin] -->',\n",
        " '\\t\\t<a name=\"29281\"></a><div class=\"ce ce-column- ce-type-list\"><div id=\"c29281\" class=\"csc-default\" >',\n",
        " '\\t\\t<!--  Plugin inserted: [begin] -->',\n",
        " '\\t\\t\\t',\n",
        " '\\t\\t<!--  Plugin inserted: [end] -->',\n",
        " '\\t\\t\\t</div></div>',\n",
        " '\\t<!--  CONTENT ELEMENT, uid:29281/list [end] -->',\n",
        " '\\t\\t',\n",
        " '\\t<!--  CONTENT ELEMENT, uid:36727/templavoila_pi1 [begin] -->',\n",
        " '\\t\\t<a name=\"36727\"></a><div class=\"ce ce-column- ce-type-templavoila_pi1\"><div id=\"c36727\" class=\"csc-default\" >',\n",
        " '<div class=\"fce\">',\n",
        " '\\t<div class=\"left width_1_3 marginright5\">',\n",
        " '\\t<!--  CONTENT ELEMENT, uid:83414/text [begin] -->',\n",
        " '\\t\\t<a name=\"83414\"></a><div class=\"ce ce-column- ce-type-text\"><div class=\"borderstyle-1\"><p class=\"categorytext\">FORSCHUNG</p><h2>27.10.2014: HCU-Forschungstag - Wer forscht wie?</h2></div><div id=\"c83414\" class=\"csc-default\" >',\n",
        " '\\t\\t<!--  Text: [begin] -->',\n",
        " '\\t\\t\\t<p class=\"bodytext\">Am Forschungstag der HCU Hamburg k\\xc3\\xb6nnen sich Forscherinnen und Forscher \\xc3\\xbcber interdisziplin\\xc3\\xa4re Fragen, M\\xc3\\xb6glichkeiten und Begrenzungen&nbsp;austauschen.<br />Alle Mitarbeiterinnen und Mitarbeiter der HCU sind eingeladen mit zu diskutieren.',\n",
        " '</p>',\n",
        " '<p class=\"bodytext\">Download: <a href=\"fileadmin/documents/Universitaet/Veranstaltung/2014/2014-10-21_Plakat_2_HCU-Forschungstag.pdf\" title=\"2014-10-21_Plakat_2_HCU-Forschungstag.pdf (83 KB)\" >Programm</a></p>',\n",
        " '\\t\\t<!--  Text: [end] -->',\n",
        " '\\t\\t\\t</div></div>',\n",
        " '\\t<!--  CONTENT ELEMENT, uid:83414/text [end] -->',\n",
        " '\\t\\t',\n",
        " '\\t<!--  CONTENT ELEMENT, uid:65262/text [begin] -->',\n",
        " '\\t\\t<a name=\"65262\"></a><div class=\"ce ce-column- ce-type-text\"><div class=\"borderstyle-1\"><p class=\"categorytext\">STUDIUM</p><h2>24.09.2014: Vorlesungsverzeichnis Wintersemester 2014/15 online!</h2></div><div id=\"c65262\" class=\"csc-default\" >',\n",
        " '\\t\\t<!--  Text: [begin] -->',\n",
        " '\\t\\t\\t<p class=\"bodytext\">Das Vorlesungsverzeichnis der HafenCity Universit\\xc3\\xa4t Hamburg f\\xc3\\xbcr das Wintersemester 2014/15&nbsp; finden Sie <a href=\"en/application/for-students/study-guide/\" title=\"Opens internal link in current window\" class=\"internal-link\" >hier.</a></p>',\n",
        " '\\t\\t<!--  Text: [end] -->',\n",
        " '\\t\\t\\t</div></div>',\n",
        " '\\t<!--  CONTENT ELEMENT, uid:65262/text [end] -->',\n",
        " '\\t\\t',\n",
        " '\\t<!--  CONTENT ELEMENT, uid:78919/textpic [begin] -->',\n",
        " '\\t\\t<a name=\"78919\"></a><div class=\"ce ce-column- ce-type-textpic\"><div class=\"borderstyle-1\"><p class=\"categorytext\">STUDIUM</p><h2>Das Alumni-Portal der HafenCity Universit\\xc3\\xa4t Hamburg</h2></div><div id=\"c78919\" class=\"csc-default\" >',\n",
        " '\\t\\t<!--  Image block: [begin] -->',\n",
        " '\\t\\t\\t<div class=\"csc-textpic csc-textpic-left csc-textpic-above\"><div class=\"csc-textpic-imagewrap csc-textpic-single-image\"><img src=\"typo3temp/pics/a7291b8914.jpg\" width=\"300\" height=\"39\" alt=\"\" /></div><div class=\"csc-textpic-text\">',\n",
        " '\\t\\t<!--  Text: [begin] -->',\n",
        " '\\t\\t\\t<p class=\"bodytext\">Wenn auch Sie einmal an der HafenCity Universit\\xc3\\xa4t oder einer ihrer Vorg\\xc3\\xa4ngerinstitutionen studiert, promoviert oder geforscht haben und den Kontakt zu Ihrer Universit\\xc3\\xa4t, den Kommilitonen, Kollegen und Freunden aufrecht erhalten wollen, dann&nbsp;registrieren Sie sich im Alumni-Portal der HCU.',\n",
        " '</p>',\n",
        " '<p class=\"bodytext\">Weitere Informationen unter:',\n",
        " '</p>',\n",
        " '<p class=\"bodytext\"><a href=\"http://www.hcu-alumni.de\" title=\"Opens external link in new window\" target=\"_blank\" class=\"external-link-new-window\" >www.hcu-alumni.de</a></p>',\n",
        " '\\t\\t<!--  Text: [end] -->',\n",
        " '\\t\\t\\t</div></div><div class=\"csc-textpic-clear\"><!-- --></div>',\n",
        " '\\t\\t<!--  Image block: [end] -->',\n",
        " '\\t\\t\\t</div></div>',\n",
        " '\\t<!--  CONTENT ELEMENT, uid:78919/textpic [end] -->',\n",
        " '\\t\\t</div>',\n",
        " '\\t<div class=\"left width_1_3\">',\n",
        " '\\t<!--  CONTENT ELEMENT, uid:83418/textpic [begin] -->',\n",
        " '\\t\\t<a name=\"83418\"></a><div class=\"ce ce-column- ce-type-textpic\"><div class=\"borderstyle-1\"><p class=\"categorytext\">PRESSE</p><h2>16.10.2014: DAAD-Preis geht an Kristi Gr\\xc3\\xbcnberg </h2></div><div id=\"c83418\" class=\"csc-default\" >',\n",
        " '\\t\\t<!--  Image block: [begin] -->',\n",
        " '\\t\\t\\t<div class=\"csc-textpic csc-textpic-left csc-textpic-above\"><div class=\"csc-textpic-imagewrap\"><dl class=\"csc-textpic-image csc-textpic-firstcol csc-textpic-lastcol\" style=\"width:300px;\"><dt><img src=\"typo3temp/pics/2f9f8a2900.jpg\" width=\"300\" height=\"201\" alt=\"\" /></dt><dd class=\"csc-textpic-caption\">Foto: Backhaus/HCU</dd></dl></div><div class=\"csc-textpic-text\">',\n",
        " '\\t\\t<!--  Text: [begin] -->',\n",
        " '\\t\\t\\t<p class=\"bodytext\">Im Rahmen der Erstsemesterbegr\\xc3\\xbc\\xc3\\x9fung durch das Pr\\xc3\\xa4sidium der HCU am 13. Oktober 2014 vergab die Hochschule zum f\\xc3\\xbcnften Mal den Preis des Deutschen Akademischen Austauschdienstes (DAAD). Prof. Dr. Harald Sternberg, Vizepr\\xc3\\xa4sident f\\xc3\\xbcr Studium und Lehre, \\xc3\\xbcberreichte gemeinsam mit dem International Office der HCU den mit 1.000 Euro dotierten DAAD-Preis 2014 an Frau Kristi Gr\\xc3\\xbcnberg aus Estland. ',\n",
        " '</p>',\n",
        " '<p class=\"bodytext\"><a href=\"en/t/presse/presse/aktuell/\" title=\"Opens internal link in current window\" class=\"internal-link\" >Zur Pressemeldung</a></p>',\n",
        " '\\t\\t<!--  Text: [end] -->',\n",
        " '\\t\\t\\t</div></div><div class=\"csc-textpic-clear\"><!-- --></div>',\n",
        " '\\t\\t<!--  Image block: [end] -->',\n",
        " '\\t\\t\\t</div></div>',\n",
        " '\\t<!--  CONTENT ELEMENT, uid:83418/textpic [end] -->',\n",
        " '\\t\\t',\n",
        " '\\t<!--  CONTENT ELEMENT, uid:83467/textpic [begin] -->',\n",
        " '\\t\\t<a name=\"83467\"></a><div class=\"ce ce-column- ce-type-textpic\"><div class=\"borderstyle-1\"><p class=\"categorytext\">PRESSE</p><h2>08.10.2014: Sutor-Stiftung verleiht Promotionspreis an der HafenCity Universit\\xc3\\xa4t</h2></div><div id=\"c83467\" class=\"csc-default\" >',\n",
        " '\\t\\t<!--  Image block: [begin] -->',\n",
        " '\\t\\t\\t<div class=\"csc-textpic csc-textpic-left csc-textpic-above\"><div class=\"csc-textpic-imagewrap\"><dl class=\"csc-textpic-image csc-textpic-firstcol csc-textpic-lastcol\" style=\"width:300px;\"><dt><img src=\"typo3temp/pics/431d45a78d.jpg\" width=\"300\" height=\"201\" alt=\"\" /></dt><dd class=\"csc-textpic-caption\">Foto: Backhaus/HCU</dd></dl></div><div class=\"csc-textpic-text\">',\n",
        " '\\t\\t<!--  Text: [begin] -->',\n",
        " '\\t\\t\\t<p class=\"bodytext\">An der HCU wurde erstmals der Sutor-Promotionspreis vergeben. Dirk C. Schoch, Leiter des Stiftungskontors, \\xc3\\xbcberreichte gemeinsam mit Prof. Dr. Gesa Ziemer, Vizepr\\xc3\\xa4sidentin Forschung der HCU, den Preis an Dr.-Ing. Cornelia Peters f\\xc3\\xbcr ihre Promotion mit dem Titel: \\xe2\\x80\\x9eQualifizierungsprozesse suburbaner Freir\\xc3\\xa4ume in wachsenden Stadtregionen. Erfahrungen, Herausforderungen und Potentiale am Beispiel der Region K\\xc3\\xb6ln/Bonn\\xe2\\x80\\x9c. Mit dieser Auszeichnung wird die beste Promotion zweier Jahrg\\xc3\\xa4nge an der HCU pr\\xc3\\xa4miert.',\n",
        " '</p>',\n",
        " '<p class=\"bodytext\">Zur <a href=\"en/t/presse/presse/aktuell/\" title=\"Opens internal link in current window\" class=\"internal-link\" >Pressemitteilung</a></p>',\n",
        " '\\t\\t<!--  Text: [end] -->',\n",
        " '\\t\\t\\t</div></div><div class=\"csc-textpic-clear\"><!-- --></div>',\n",
        " '\\t\\t<!--  Image block: [end] -->',\n",
        " '\\t\\t\\t</div></div>',\n",
        " '\\t<!--  CONTENT ELEMENT, uid:83467/textpic [end] -->',\n",
        " '\\t\\t</div>',\n",
        " '\\t<div class=\"right width_1_3\">',\n",
        " '\\t<!--  CONTENT ELEMENT, uid:83421/textpic [begin] -->',\n",
        " '\\t\\t<a name=\"83421\"></a><div class=\"ce ce-column- ce-type-textpic\"><div class=\"borderstyle-1\"><p class=\"categorytext\">TERMIN</p><h2>22.10.2014: Tea Time Lectures: Blauraum Architekten</h2></div><div id=\"c83421\" class=\"csc-default\" >',\n",
        " '\\t\\t<!--  Image block: [begin] -->',\n",
        " '\\t\\t\\t<div class=\"csc-textpic csc-textpic-left csc-textpic-above\"><div class=\"csc-textpic-imagewrap csc-textpic-single-image\"><img src=\"typo3temp/pics/95e2231984.jpg\" width=\"300\" height=\"150\" alt=\"\" /></div><div class=\"csc-textpic-text\">',\n",
        " '\\t\\t<!--  Text: [begin] -->',\n",
        " '\\t\\t\\t<p class=\"bodytext\">Vortrag von Volker Halbach von Blauraum Architekten im Rahmen der Vortragsreihe &quot;Tea Time Lectures: Nordlichter&quot;.',\n",
        " '</p>',\n",
        " '<p class=\"bodytext\">Weitere Informationen finden Sie im <a href=\"en/university/veranstaltungskalender/veranstaltungen-der-hcu/vorschau/\" title=\"Opens internal link in current window\" class=\"internal-link\" >Veranstaltungskalender</a>.</p>',\n",
        " '\\t\\t<!--  Text: [end] -->',\n",
        " '\\t\\t\\t</div></div><div class=\"csc-textpic-clear\"><!-- --></div>',\n",
        " '\\t\\t<!--  Image block: [end] -->',\n",
        " '\\t\\t\\t</div></div>',\n",
        " '\\t<!--  CONTENT ELEMENT, uid:83421/textpic [end] -->',\n",
        " '\\t\\t',\n",
        " '\\t<!--  CONTENT ELEMENT, uid:83273/text [begin] -->',\n",
        " '\\t\\t<a name=\"83273\"></a><div class=\"ce ce-column- ce-type-text\"><div class=\"borderstyle-1\"><p class=\"categorytext\">TERMIN</p><h2>27.10.2014: Morgen werde ich Idiot - Kybernetik un Kontrollgesellschaft</h2></div><div id=\"c83273\" class=\"csc-default\" >',\n",
        " '\\t\\t<!--  Text: [begin] -->',\n",
        " '\\t\\t\\t<p class=\"bodytext\">Vortrag von Hans-Christian Dany (Hamburg) im Rahmen der Vorlesungsreihe &quot;Systeme&quot; der&nbsp; [Q] Studies der HCU Hamburg. ',\n",
        " '</p>',\n",
        " '<p class=\"bodytext\">Download: <a href=\"fileadmin/documents/Universitaet/Veranstaltung/2014/Q-Heft_WiSe14_15.pdf\" title=\"TEXT, Q-Heft Wi Se14 15, Q-Heft_WiSe14_15.pdf, 1.5 MB\" >Programm der [Q] Studies</a>',\n",
        " '</p>',\n",
        " '<p class=\"bodytext\">&nbsp;</p>',\n",
        " '\\t\\t<!--  Text: [end] -->',\n",
        " '\\t\\t\\t</div></div>',\n",
        " '\\t<!--  CONTENT ELEMENT, uid:83273/text [end] -->',\n",
        " '\\t\\t',\n",
        " '\\t<!--  CONTENT ELEMENT, uid:83428/text [begin] -->',\n",
        " '\\t\\t<a name=\"83428\"></a><div class=\"ce ce-column- ce-type-text\"><div class=\"borderstyle-1\"><p class=\"categorytext\">TERMIN</p><h2>29.10.2014: Tracking Time - Documenting America\\'s Post-Industrial Cities</h2></div><div id=\"c83428\" class=\"csc-default\" >',\n",
        " '\\t\\t<!--  Text: [begin] -->',\n",
        " '\\t\\t\\t<p class=\"bodytext\">Im Rahmen eines Workshops des durch die Deutsch-Franz\\xc3\\xb6sische Hochschule (DFH) gef\\xc3\\xb6rderten Netzwerkes <i>Fotografie und Stadt/Photographier la ville</i> findet am Mittwoch, den 29.10. ein Gastvortrag mit Werkschau von Camilo Jos\\xc3\\xa9 Vergara statt.',\n",
        " '</p>',\n",
        " '<p class=\"bodytext\">Weitere Informationen finden Sie im <a href=\"en/university/veranstaltungskalender/veranstaltungen-der-hcu/vorschau/\" title=\"Opens internal link in current window\" class=\"internal-link\" >Veranstaltungskalender</a>.</p>',\n",
        " '\\t\\t<!--  Text: [end] -->',\n",
        " '\\t\\t\\t</div></div>',\n",
        " '\\t<!--  CONTENT ELEMENT, uid:83428/text [end] -->',\n",
        " '\\t\\t',\n",
        " '\\t<!--  CONTENT ELEMENT, uid:83429/textpic [begin] -->',\n",
        " '\\t\\t<a name=\"83429\"></a><div class=\"ce ce-column- ce-type-textpic\"><div class=\"borderstyle-1\"><h2>05.11.2014: Tea Time Lectures: Polyform Architekten</h2></div><div id=\"c83429\" class=\"csc-default\" >',\n",
        " '\\t\\t<!--  Image block: [begin] -->',\n",
        " '\\t\\t\\t<div class=\"csc-textpic csc-textpic-left csc-textpic-above\"><div class=\"csc-textpic-imagewrap csc-textpic-single-image\"><img src=\"typo3temp/pics/d66c4b0fde.jpg\" width=\"300\" height=\"155\" alt=\"\" /></div><div class=\"csc-textpic-text\">',\n",
        " '\\t\\t<!--  Text: [begin] -->',\n",
        " '\\t\\t\\t<p class=\"bodytext\">Vortrag von Thomas Kock (Polyform Architekten) im Rahmen der Vortragsreihe &quot;Tea Time Lectures: Nordlichter&quot;.',\n",
        " '</p>',\n",
        " '<p class=\"bodytext\">Weitere Informationen finden Sie im <a href=\"en/university/veranstaltungskalender/veranstaltungen-der-hcu/vorschau/\" title=\"Opens internal link in current window\" class=\"internal-link\" >Veranstaltungskalender</a>.</p>',\n",
        " '\\t\\t<!--  Text: [end] -->',\n",
        " '\\t\\t\\t</div></div><div class=\"csc-textpic-clear\"><!-- --></div>',\n",
        " '\\t\\t<!--  Image block: [end] -->',\n",
        " '\\t\\t\\t</div></div>',\n",
        " '\\t<!--  CONTENT ELEMENT, uid:83429/textpic [end] -->',\n",
        " '\\t\\t</div>',\n",
        " '</div>',\n",
        " '</div></div>',\n",
        " '\\t<!--  CONTENT ELEMENT, uid:36727/templavoila_pi1 [end] -->',\n",
        " '\\t\\t<!--TYPO3SEARCH_end--></div>',\n",
        " '\\t\\t\\t<div id=\"content_bottom\">',\n",
        " '\\t\\t\\t\\t<div id=\"content_bottom_inner\"><div style=\"margin-right: 10px;float: left;\"><a href=\"en/university/services-und-kontakt/kontakt/\" onfocus=\"blurLink(this);\"  ><img src=\"typo3temp/menu/c48430e3b4.png\" width=\"44\" height=\"20\"  alt=\"Kontakt\" /></a></div><div style=\"margin-right: 10px;float: left;\"><a href=\"en/b/impressum/\" onfocus=\"blurLink(this);\"  ><img src=\"typo3temp/menu/6564a235d3.png\" width=\"62\" height=\"20\"  alt=\"Impressum\" /></a></div></div>',\n",
        " '\\t\\t\\t</div>',\n",
        " '\\t\\t</div>',\n",
        " '\\t</div>',\n",
        " '</div>',\n",
        " '',\n",
        " '<div class=\"dropdownmenu\" id=\"dropdownmenu1\" style=\"left: 14px\"><div class=\"dropdownmenu_inner\"><div class=\"dropdownline\"><a href=\"en/university/\" onfocus=\"blurLink(this);\" onmouseover=\"over(\\'img6_65d4_0\\');\" onmouseout=\"out(\\'img6_65d4_0\\');\"  ><img src=\"typo3temp/menu/f1f2bb96ac.png\" width=\"315\" height=\"17\"  alt=\"University\" id=\"img6_65d4_0\" /></a></div><div class=\"dropdownline\"><a href=\"en/university/the-development-of-the-hcu/\" onfocus=\"blurLink(this);\" onmouseover=\"over(\\'img55_98dd_0\\');\" onmouseout=\"out(\\'img55_98dd_0\\');\"  ><img src=\"typo3temp/menu/4f192af243.png\" width=\"315\" height=\"17\"  alt=\"The Development of the HCU\" id=\"img55_98dd_0\" /></a></div><div class=\"dropdownline\"><a href=\"en/university/structure-of-the-hcu/\" onfocus=\"blurLink(this);\" onmouseover=\"over(\\'img889_98dd_1\\');\" onmouseout=\"out(\\'img889_98dd_1\\');\"  ><img src=\"typo3temp/menu/63bd48408c.png\" width=\"315\" height=\"17\"  alt=\"Structure of the HCU\" id=\"img889_98dd_1\" /></a></div><div class=\"dropdownline\"><a href=\"en/university/einrichtungen-der-hcu/\" onfocus=\"blurLink(this);\" onmouseover=\"over(\\'img919_98dd_2\\');\" onmouseout=\"out(\\'img919_98dd_2\\');\"  ><img src=\"typo3temp/menu/c61ed1f40f.png\" width=\"315\" height=\"17\"  alt=\"Einrichtungen der HCU\" id=\"img919_98dd_2\" /></a></div><div class=\"dropdownline\"><a href=\"en/university/arbeitsgebiete/\" onfocus=\"blurLink(this);\" onmouseover=\"over(\\'img6084_98dd_3\\');\" onmouseout=\"out(\\'img6084_98dd_3\\');\"  ><img src=\"typo3temp/menu/9e7b6b3bab.png\" width=\"315\" height=\"17\"  alt=\"Arbeitsgebiete\" id=\"img6084_98dd_3\" /></a></div><div class=\"dropdownline\"><a href=\"en/university/zentrale-projekte-der-hcu/\" onfocus=\"blurLink(this);\" onmouseover=\"over(\\'img1254_98dd_4\\');\" onmouseout=\"out(\\'img1254_98dd_4\\');\"  ><img src=\"typo3temp/menu/f7480cbb5b.png\" width=\"315\" height=\"17\"  alt=\"Zentrale Projekte der HCU\" id=\"img1254_98dd_4\" /></a></div><div class=\"dropdownline\"><a href=\"en/university/neubau/\" onfocus=\"blurLink(this);\" onmouseover=\"over(\\'img53_98dd_5\\');\" onmouseout=\"out(\\'img53_98dd_5\\');\"  ><img src=\"typo3temp/menu/9099b269d2.png\" width=\"315\" height=\"17\"  alt=\"Der Neubau\" id=\"img53_98dd_5\" /></a></div><div class=\"dropdownline\"><a href=\"en/university/veranstaltungskalender/veranstaltungen-der-hcu/vorschau/\" onfocus=\"blurLink(this);\" onmouseover=\"over(\\'img52_98dd_6\\');\" onmouseout=\"out(\\'img52_98dd_6\\');\"  ><img src=\"typo3temp/menu/7874505d46.png\" width=\"315\" height=\"17\"  alt=\"Veranstaltungskalender\" id=\"img52_98dd_6\" /></a></div><div class=\"dropdownline\"><a href=\"en/university/hcu-stipendien-und-preise/\" onfocus=\"blurLink(this);\" onmouseover=\"over(\\'img6458_98dd_7\\');\" onmouseout=\"out(\\'img6458_98dd_7\\');\"  ><img src=\"typo3temp/menu/4c0ea0bdcc.png\" width=\"315\" height=\"17\"  alt=\"HCU Stipendien und Preise\" id=\"img6458_98dd_7\" /></a></div><div class=\"dropdownline\"><a href=\"en/university/stellenausschreibungen/\" onfocus=\"blurLink(this);\" onmouseover=\"over(\\'img954_98dd_8\\');\" onmouseout=\"out(\\'img954_98dd_8\\');\"  ><img src=\"typo3temp/menu/8a07dd8615.png\" width=\"315\" height=\"17\"  alt=\"Stellenausschreibungen\" id=\"img954_98dd_8\" /></a></div><div class=\"dropdownline\"><a href=\"en/university/termine/\" onfocus=\"blurLink(this);\" onmouseover=\"over(\\'img980_98dd_9\\');\" onmouseout=\"out(\\'img980_98dd_9\\');\"  ><img src=\"typo3temp/menu/df203719a6.png\" width=\"315\" height=\"17\"  alt=\"Termine\" id=\"img980_98dd_9\" /></a></div><div class=\"dropdownline\"><a href=\"en/university/services-und-kontakt/\" onfocus=\"blurLink(this);\" onmouseover=\"over(\\'img51_98dd_10\\');\" onmouseout=\"out(\\'img51_98dd_10\\');\"  ><img src=\"typo3temp/menu/d954fdfc70.png\" width=\"315\" height=\"17\"  alt=\"Services und Kontakt\" id=\"img51_98dd_10\" /></a></div></div></div><div class=\"dropdownmenu\" id=\"dropdownmenu2\" style=\"left: 166px\"><div class=\"dropdownmenu_inner\"><div class=\"dropdownline\"><a href=\"en/bachelor/\" onfocus=\"blurLink(this);\" onmouseover=\"over(\\'img22_65d4_1\\');\" onmouseout=\"out(\\'img22_65d4_1\\');\"  ><img src=\"typo3temp/menu/21d4659a1a.png\" width=\"315\" height=\"17\"  alt=\"Bachelor\" id=\"img22_65d4_1\" /></a></div><div class=\"dropdownline\"><a href=\"en/bachelor/architecture/\" onfocus=\"blurLink(this);\" onmouseover=\"over(\\'img660_a34d_0\\');\" onmouseout=\"out(\\'img660_a34d_0\\');\"  ><img src=\"typo3temp/menu/38c99fe4e0.png\" width=\"315\" height=\"17\"  alt=\"Architecture\" id=\"img660_a34d_0\" /></a></div><div class=\"dropdownline\"><a href=\"en/bachelor/civil-engineering/\" onfocus=\"blurLink(this);\" onmouseover=\"over(\\'img661_a34d_1\\');\" onmouseout=\"out(\\'img661_a34d_1\\');\"  ><img src=\"typo3temp/menu/09f5e95a49.png\" width=\"315\" height=\"17\"  alt=\"Civil Engineering\" id=\"img661_a34d_1\" /></a></div><div class=\"dropdownline\"><a href=\"en/bachelor/geomatics/\" onfocus=\"blurLink(this);\" onmouseover=\"over(\\'img662_a34d_2\\');\" onmouseout=\"out(\\'img662_a34d_2\\');\"  ><img src=\"typo3temp/menu/b320f3ad2c.png\" width=\"315\" height=\"17\"  alt=\"Geomatics\" id=\"img662_a34d_2\" /></a></div><div class=\"dropdownline\"><a href=\"en/bachelor/urban-planning/\" onfocus=\"blurLink(this);\" onmouseover=\"over(\\'img663_a34d_3\\');\" onmouseout=\"out(\\'img663_a34d_3\\');\"  ><img src=\"typo3temp/menu/81e855b2cf.png\" width=\"315\" height=\"17\"  alt=\"Urban Planning\" id=\"img663_a34d_3\" /></a></div><div class=\"dropdownline\"><a href=\"en/bachelor/metropolitan-culture/\" onfocus=\"blurLink(this);\" onmouseover=\"over(\\'img664_a34d_4\\');\" onmouseout=\"out(\\'img664_a34d_4\\');\"  ><img src=\"typo3temp/menu/5b77d0996e.png\" width=\"315\" height=\"17\"  alt=\"Metropolitan Culture\" id=\"img664_a34d_4\" /></a></div><div class=\"dropdownline\"><a href=\"en/bachelor/q-studies/concept/\" onfocus=\"blurLink(this);\" onmouseover=\"over(\\'img756_a34d_5\\');\" onmouseout=\"out(\\'img756_a34d_5\\');\"  ><img src=\"typo3temp/menu/130c56dba6.png\" width=\"315\" height=\"17\"  alt=\"Q-Studies\" id=\"img756_a34d_5\" /></a></div><div class=\"dropdownline\"><a href=\"en/bachelor/lehrkooperationen/\" onfocus=\"blurLink(this);\" onmouseover=\"over(\\'img3979_a34d_6\\');\" onmouseout=\"out(\\'img3979_a34d_6\\');\"  ><img src=\"typo3temp/menu/5a7dc2abf8.png\" width=\"315\" height=\"17\"  alt=\"Lehrkooperationen\" id=\"img3979_a34d_6\" /></a></div><div class=\"dropdownline\"><a href=\"en/bachelor/jobs/\" onfocus=\"blurLink(this);\" onmouseover=\"over(\\'img1128_a34d_7\\');\" onmouseout=\"out(\\'img1128_a34d_7\\');\"  ><img src=\"typo3temp/menu/d013d9e581.png\" width=\"315\" height=\"17\"  alt=\"Jobs\" id=\"img1128_a34d_7\" /></a></div><div class=\"dropdownline\"><a href=\"en/bachelor/bluebox/\" onfocus=\"blurLink(this);\" onmouseover=\"over(\\'img3723_a34d_8\\');\" onmouseout=\"out(\\'img3723_a34d_8\\');\"  ><img src=\"typo3temp/menu/347dd846aa.png\" width=\"315\" height=\"17\"  alt=\"blueBOX\" id=\"img3723_a34d_8\" /></a></div><div class=\"dropdownline\"><a href=\"en/bachelor/weiterbildung/\" onfocus=\"blurLink(this);\" onmouseover=\"over(\\'img2962_a34d_9\\');\" onmouseout=\"out(\\'img2962_a34d_9\\');\"  ><img src=\"typo3temp/menu/e878cbd2ba.png\" width=\"315\" height=\"17\"  alt=\"Weiterbildung\" id=\"img2962_a34d_9\" /></a></div><div class=\"dropdownline\"><a href=\"en/university/structure-of-the-hcu/committees/students-council/\" onfocus=\"blurLink(this);\" onmouseover=\"over(\\'img1126_a34d_10\\');\" onmouseout=\"out(\\'img1126_a34d_10\\');\"  ><img src=\"typo3temp/menu/8f96324888.png\" width=\"315\" height=\"17\"  alt=\"Studierendenvertretung\" id=\"img1126_a34d_10\" /></a></div></div></div><div class=\"dropdownmenu\" id=\"dropdownmenu3\" style=\"left: 228px\"><div class=\"dropdownmenu_inner\"><div class=\"dropdownline\"><a href=\"en/master/\" onfocus=\"blurLink(this);\" onmouseover=\"over(\\'img42_65d4_2\\');\" onmouseout=\"out(\\'img42_65d4_2\\');\"  ><img src=\"typo3temp/menu/4842272160.png\" width=\"315\" height=\"17\"  alt=\"Master\" id=\"img42_65d4_2\" /></a></div><div class=\"dropdownline\"><a href=\"en/master/architecture/\" onfocus=\"blurLink(this);\" onmouseover=\"over(\\'img665_7d5a_0\\');\" onmouseout=\"out(\\'img665_7d5a_0\\');\"  ><img src=\"typo3temp/menu/7ccacf5e90.png\" width=\"315\" height=\"17\"  alt=\"Architecture\" id=\"img665_7d5a_0\" /></a></div><div class=\"dropdownline\"><a href=\"en/master/biw-architectural-engineering/\" onfocus=\"blurLink(this);\" onmouseover=\"over(\\'img827_7d5a_1\\');\" onmouseout=\"out(\\'img827_7d5a_1\\');\"  ><img src=\"typo3temp/menu/53fda507c6.png\" width=\"315\" height=\"17\"  alt=\"BIW | Architectural Engineering\" id=\"img827_7d5a_1\" /></a></div><div class=\"dropdownline\"><a href=\"en/master/geomatics/\" onfocus=\"blurLink(this);\" onmouseover=\"over(\\'img755_7d5a_2\\');\" onmouseout=\"out(\\'img755_7d5a_2\\');\"  ><img src=\"typo3temp/menu/f6744ebe16.png\" width=\"315\" height=\"17\"  alt=\"Geomatics\" id=\"img755_7d5a_2\" /></a></div><div class=\"dropdownline\"><a href=\"en/master/urban-planning/\" onfocus=\"blurLink(this);\" onmouseover=\"over(\\'img667_7d5a_3\\');\" onmouseout=\"out(\\'img667_7d5a_3\\');\"  ><img src=\"typo3temp/menu/baab5e4770.png\" width=\"315\" height=\"17\"  alt=\"Urban Planning\" id=\"img667_7d5a_3\" /></a></div><div class=\"dropdownline\"><a href=\"en/master/peim-projektentwicklung/\" onfocus=\"blurLink(this);\" onmouseover=\"over(\\'img6917_7d5a_4\\');\" onmouseout=\"out(\\'img6917_7d5a_4\\');\"  ><img src=\"typo3temp/menu/679a1058b4.png\" width=\"315\" height=\"17\"  alt=\"PEIM | Projektentwicklung\" id=\"img6917_7d5a_4\" /></a></div><div class=\"dropdownline\"><a href=\"en/master/reap/\" onfocus=\"blurLink(this);\" onmouseover=\"over(\\'img752_7d5a_5\\');\" onmouseout=\"out(\\'img752_7d5a_5\\');\"  ><img src=\"typo3temp/menu/fa2c7a21cf.png\" width=\"315\" height=\"17\"  alt=\"REAP | Resource Efficiency\" id=\"img752_7d5a_5\" /></a></div><div class=\"dropdownline\"><a href=\"en/master/urban-design/\" onfocus=\"blurLink(this);\" onmouseover=\"over(\\'img753_7d5a_6\\');\" onmouseout=\"out(\\'img753_7d5a_6\\');\"  ><img src=\"typo3temp/menu/4f961f7fbf.png\" width=\"315\" height=\"17\"  alt=\"Urban Design\" id=\"img753_7d5a_6\" /></a></div><div class=\"dropdownline\"><a href=\"en/bachelor/q-studies/concept/\" onfocus=\"blurLink(this);\" onmouseover=\"over(\\'img757_7d5a_7\\');\" onmouseout=\"out(\\'img757_7d5a_7\\');\"  ><img src=\"typo3temp/menu/47761e700c.png\" width=\"315\" height=\"17\"  alt=\"Q-Studies\" id=\"img757_7d5a_7\" /></a></div><div class=\"dropdownline\"><a href=\"en/master/jobs/\" onfocus=\"blurLink(this);\" onmouseover=\"over(\\'img4757_7d5a_8\\');\" onmouseout=\"out(\\'img4757_7d5a_8\\');\"  ><img src=\"typo3temp/menu/7586636e00.png\" width=\"315\" height=\"17\"  alt=\"Jobs\" id=\"img4757_7d5a_8\" /></a></div><div class=\"dropdownline\"><a href=\"en/master/bluebox/\" onfocus=\"blurLink(this);\" onmouseover=\"over(\\'img3723_7d5a_9\\');\" onmouseout=\"out(\\'img3723_7d5a_9\\');\"  ><img src=\"typo3temp/menu/fb8f0f81dc.png\" width=\"315\" height=\"17\"  alt=\"blueBOX\" id=\"img3723_7d5a_9\" /></a></div><div class=\"dropdownline\"><a href=\"en/master/weiterbildung/\" onfocus=\"blurLink(this);\" onmouseover=\"over(\\'img2966_7d5a_10\\');\" onmouseout=\"out(\\'img2966_7d5a_10\\');\"  ><img src=\"typo3temp/menu/533238e250.png\" width=\"315\" height=\"17\"  alt=\"Weiterbildung\" id=\"img2966_7d5a_10\" /></a></div><div class=\"dropdownline\"><a href=\"en/university/structure-of-the-hcu/committees/students-council/\" onfocus=\"blurLink(this);\" onmouseover=\"over(\\'img1124_7d5a_11\\');\" onmouseout=\"out(\\'img1124_7d5a_11\\');\"  ><img src=\"typo3temp/menu/14b8ce403a.png\" width=\"315\" height=\"17\"  alt=\"Studierendenvertretung\" id=\"img1124_7d5a_11\" /></a></div></div></div><div class=\"dropdownmenu\" id=\"dropdownmenu4\" style=\"left: 290px\"><div class=\"dropdownmenu_inner\"><div class=\"dropdownline\"><a href=\"en/research/\" onfocus=\"blurLink(this);\" onmouseover=\"over(\\'img7_65d4_3\\');\" onmouseout=\"out(\\'img7_65d4_3\\');\"  ><img src=\"typo3temp/menu/5964f4c143.png\" width=\"315\" height=\"17\"  alt=\"Research\" id=\"img7_65d4_3\" /></a></div><div class=\"dropdownline\"><a href=\"en/research/\" onfocus=\"blurLink(this);\" onmouseover=\"over(\\'img5693_4d93_0\\');\" onmouseout=\"out(\\'img5693_4d93_0\\');\"  ><img src=\"typo3temp/menu/aa2ab8b651.png\" width=\"315\" height=\"17\"  alt=\"Organisation\" id=\"img5693_4d93_0\" /></a></div><div class=\"dropdownline\"><a href=\"en/research/research-groups/\" onfocus=\"blurLink(this);\" onmouseover=\"over(\\'img1008_4d93_1\\');\" onmouseout=\"out(\\'img1008_4d93_1\\');\"  ><img src=\"typo3temp/menu/768c0961f3.png\" width=\"315\" height=\"17\"  alt=\"Research Groups\" id=\"img1008_4d93_1\" /></a></div><div class=\"dropdownline\"><a href=\"en/research/research-projects/coordinated-projects/\" onfocus=\"blurLink(this);\" onmouseover=\"over(\\'img3499_4d93_2\\');\" onmouseout=\"out(\\'img3499_4d93_2\\');\"  ><img src=\"typo3temp/menu/adcad00a4f.png\" width=\"315\" height=\"17\"  alt=\"Coordinated Projects\" id=\"img3499_4d93_2\" /></a></div><div class=\"dropdownline\"><a href=\"en/research/arbeitsgebiete/\" onfocus=\"blurLink(this);\" onmouseover=\"over(\\'img5441_4d93_3\\');\" onmouseout=\"out(\\'img5441_4d93_3\\');\"  ><img src=\"typo3temp/menu/d1674c259b.png\" width=\"315\" height=\"17\"  alt=\"Arbeitsgebiete\" id=\"img5441_4d93_3\" /></a></div><div class=\"dropdownline\"><a href=\"en/research/phd-information/\" onfocus=\"blurLink(this);\" onmouseover=\"over(\\'img3480_4d93_4\\');\" onmouseout=\"out(\\'img3480_4d93_4\\');\"  ><img src=\"typo3temp/menu/f900129bf3.png\" width=\"315\" height=\"17\"  alt=\"PhD Information\" id=\"img3480_4d93_4\" /></a></div><div class=\"dropdownline\"><a href=\"en/research/research-funding/\" onfocus=\"blurLink(this);\" onmouseover=\"over(\\'img3481_4d93_5\\');\" onmouseout=\"out(\\'img3481_4d93_5\\');\"  ><img src=\"typo3temp/menu/3347989b47.png\" width=\"315\" height=\"17\"  alt=\"Research Funding\" id=\"img3481_4d93_5\" /></a></div></div></div><div class=\"dropdownmenu\" id=\"dropdownmenu5\" style=\"left: 357px\"><div class=\"dropdownmenu_inner\"><div class=\"dropdownline\"><a href=\"en/student-services/\" onfocus=\"blurLink(this);\" onmouseover=\"over(\\'img763_65d4_4\\');\" onmouseout=\"out(\\'img763_65d4_4\\');\"  ><img src=\"typo3temp/menu/b19b23433a.png\" width=\"315\" height=\"17\"  alt=\"Student Services\" id=\"img763_65d4_4\" /></a></div><div class=\"dropdownline\"><a href=\"en/student-services/aktuelle-informationen/\" onfocus=\"blurLink(this);\" onmouseover=\"over(\\'img6867_0546_0\\');\" onmouseout=\"out(\\'img6867_0546_0\\');\"  ><img src=\"typo3temp/menu/23c07324c3.png\" width=\"315\" height=\"17\"  alt=\"Current Information\" id=\"img6867_0546_0\" /></a></div><div class=\"dropdownline\"><a href=\"en/student-services/beratung-zum-studium/\" onfocus=\"blurLink(this);\" onmouseover=\"over(\\'img6181_0546_1\\');\" onmouseout=\"out(\\'img6181_0546_1\\');\"  ><img src=\"typo3temp/menu/98b8147957.png\" width=\"315\" height=\"17\"  alt=\"Advice and contact persons\" id=\"img6181_0546_1\" /></a></div><div class=\"dropdownline\"><a href=\"en/student-services/for-applicants/\" onfocus=\"blurLink(this);\" onmouseover=\"over(\\'img4545_0546_2\\');\" onmouseout=\"out(\\'img4545_0546_2\\');\"  ><img src=\"typo3temp/menu/3a35d7b816.png\" width=\"315\" height=\"17\"  alt=\"For Applicants\" id=\"img4545_0546_2\" /></a></div><div class=\"dropdownline\"><a href=\"en/application/for-students/\" onfocus=\"blurLink(this);\" onmouseover=\"over(\\'img5113_0546_3\\');\" onmouseout=\"out(\\'img5113_0546_3\\');\"  ><img src=\"typo3temp/menu/4f9ceca6d3.png\" width=\"315\" height=\"17\"  alt=\"For Students\" id=\"img5113_0546_3\" /></a></div><div class=\"dropdownline\"><a href=\"en/student-services/auditor-freemover/\" onfocus=\"blurLink(this);\" onmouseover=\"over(\\'img5109_0546_4\\');\" onmouseout=\"out(\\'img5109_0546_4\\');\"  ><img src=\"typo3temp/menu/a7ef11f122.png\" width=\"315\" height=\"17\"  alt=\"Auditor | Freemover\" id=\"img5109_0546_4\" /></a></div><div class=\"dropdownline\"><a href=\"en/student-services/examinations-offices/\" onfocus=\"blurLink(this);\" onmouseover=\"over(\\'img7013_0546_5\\');\" onmouseout=\"out(\\'img7013_0546_5\\');\"  ><img src=\"typo3temp/menu/5c3f712b15.png\" width=\"315\" height=\"17\"  alt=\"Examinations offices\" id=\"img7013_0546_5\" /></a></div></div></div><div class=\"dropdownmenu\" id=\"dropdownmenu6\" style=\"left: 509px\"><div class=\"dropdownmenu_inner\"><div class=\"dropdownline\"><a href=\"en/it-and-media/\" onfocus=\"blurLink(this);\" onmouseover=\"over(\\'img3_65d4_5\\');\" onmouseout=\"out(\\'img3_65d4_5\\');\"  ><img src=\"typo3temp/menu/f15aee90ab.png\" width=\"315\" height=\"17\"  alt=\"IT and media\" id=\"img3_65d4_5\" /></a></div><div class=\"dropdownline\"><a href=\"en/it-and-media/bibliothek/\" onfocus=\"blurLink(this);\" onmouseover=\"over(\\'img6805_975c_0\\');\" onmouseout=\"out(\\'img6805_975c_0\\');\"  ><img src=\"typo3temp/menu/bd14723411.png\" width=\"315\" height=\"17\"  alt=\"Bibliothek\" id=\"img6805_975c_0\" /></a></div><div class=\"dropdownline\"><a href=\"en/it-and-media/it/\" onfocus=\"blurLink(this);\" onmouseover=\"over(\\'img659_975c_1\\');\" onmouseout=\"out(\\'img659_975c_1\\');\"  ><img src=\"typo3temp/menu/2910e27bf8.png\" width=\"315\" height=\"17\"  alt=\"IT\" id=\"img659_975c_1\" /></a></div><div class=\"dropdownline\"><a href=\"en/it-and-media/kartographie/\" onfocus=\"blurLink(this);\" onmouseover=\"over(\\'img658_975c_2\\');\" onmouseout=\"out(\\'img658_975c_2\\');\"  ><img src=\"typo3temp/menu/5f4d4ba833.png\" width=\"315\" height=\"17\"  alt=\"Kartographie\" id=\"img658_975c_2\" /></a></div><div class=\"dropdownline\"><a href=\"en/it-and-media/stadtlabor/\" onfocus=\"blurLink(this);\" onmouseover=\"over(\\'img6630_975c_3\\');\" onmouseout=\"out(\\'img6630_975c_3\\');\"  ><img src=\"typo3temp/menu/b4c43884c4.png\" width=\"315\" height=\"17\"  alt=\"StadtLabor\" id=\"img6630_975c_3\" /></a></div></div></div><div class=\"dropdownmenu\" id=\"dropdownmenu7\" style=\"left: 661px\"><div class=\"dropdownmenu_inner\"><div class=\"dropdownline\"><a href=\"en/io/\" onfocus=\"blurLink(this);\" onmouseover=\"over(\\'img23_65d4_6\\');\" onmouseout=\"out(\\'img23_65d4_6\\');\"  ><img src=\"typo3temp/menu/0d07b3f473.png\" width=\"315\" height=\"17\"  alt=\"International Office\" id=\"img23_65d4_6\" /></a></div><div class=\"dropdownline\"><a href=\"en/io/contact-information/\" onfocus=\"blurLink(this);\" onmouseover=\"over(\\'img632_edca_0\\');\" onmouseout=\"out(\\'img632_edca_0\\');\"  ><img src=\"typo3temp/menu/a14e0d66f9.png\" width=\"315\" height=\"17\"  alt=\"Contact Information\" id=\"img632_edca_0\" /></a></div><div class=\"dropdownline\"><a href=\"en/io/incoming/\" onfocus=\"blurLink(this);\" onmouseover=\"over(\\'img633_edca_1\\');\" onmouseout=\"out(\\'img633_edca_1\\');\"  ><img src=\"typo3temp/menu/7b00737037.png\" width=\"315\" height=\"17\"  alt=\"Incoming\" id=\"img633_edca_1\" /></a></div><div class=\"dropdownline\"><a href=\"en/io/outgoing/\" onfocus=\"blurLink(this);\" onmouseover=\"over(\\'img634_edca_2\\');\" onmouseout=\"out(\\'img634_edca_2\\');\"  ><img src=\"typo3temp/menu/6a2180ccec.png\" width=\"315\" height=\"17\"  alt=\"Outgoing\" id=\"img634_edca_2\" /></a></div><div class=\"dropdownline\"><a href=\"en/io/financial-support/\" onfocus=\"blurLink(this);\" onmouseover=\"over(\\'img741_edca_3\\');\" onmouseout=\"out(\\'img741_edca_3\\');\"  ><img src=\"typo3temp/menu/d145ff8320.png\" width=\"315\" height=\"17\"  alt=\"Financial Support\" id=\"img741_edca_3\" /></a></div><div class=\"dropdownline\"><a href=\"en/io/youhcu/\" onfocus=\"blurLink(this);\" onmouseover=\"over(\\'img3244_edca_4\\');\" onmouseout=\"out(\\'img3244_edca_4\\');\"  ><img src=\"typo3temp/menu/abe77b6f12.png\" width=\"315\" height=\"17\"  alt=\"Leisure- and Cultural Program\" id=\"img3244_edca_4\" /></a></div><div class=\"dropdownline\"><a href=\"en/io/sprachkurse/\" onfocus=\"blurLink(this);\" onmouseover=\"over(\\'img742_edca_5\\');\" onmouseout=\"out(\\'img742_edca_5\\');\"  ><img src=\"typo3temp/menu/bc96b3aee6.png\" width=\"315\" height=\"17\"  alt=\"Language Courses\" id=\"img742_edca_5\" /></a></div><div class=\"dropdownline\"><a href=\"en/io/preise-und-auszeichnungen/\" onfocus=\"blurLink(this);\" onmouseover=\"over(\\'img4079_edca_6\\');\" onmouseout=\"out(\\'img4079_edca_6\\');\"  ><img src=\"typo3temp/menu/337fadb2f5.png\" width=\"315\" height=\"17\"  alt=\"Prizes and Awards\" id=\"img4079_edca_6\" /></a></div><div class=\"dropdownline\"><a href=\"en/io/projekte/\" onfocus=\"blurLink(this);\" onmouseover=\"over(\\'img4304_edca_7\\');\" onmouseout=\"out(\\'img4304_edca_7\\');\"  ><img src=\"typo3temp/menu/79d0778d77.png\" width=\"315\" height=\"17\"  alt=\"Projects\" id=\"img4304_edca_7\" /></a></div><div class=\"dropdownline\"><a href=\"en/io/information-downloads-links/\" onfocus=\"blurLink(this);\" onmouseover=\"over(\\'img635_edca_8\\');\" onmouseout=\"out(\\'img635_edca_8\\');\"  ><img src=\"typo3temp/menu/18c77bbf6e.png\" width=\"315\" height=\"17\"  alt=\"Information, Downloads &amp; Links\" id=\"img635_edca_8\" /></a></div></div></div><div class=\"dropdownmenu\" id=\"dropdownmenu8\" style=\"left: 813px\"><div class=\"dropdownmenu_inner\"><div class=\"dropdownline\"><a href=\"en/dialog/\" onfocus=\"blurLink(this);\" onmouseover=\"over(\\'img4959_65d4_7\\');\" onmouseout=\"out(\\'img4959_65d4_7\\');\"  ><img src=\"typo3temp/menu/b08c1f088e.png\" width=\"315\" height=\"17\"  alt=\"Dialog\" id=\"img4959_65d4_7\" /></a></div><div class=\"dropdownline\"><a href=\"en/dialog/alumni/\" onfocus=\"blurLink(this);\" onmouseover=\"over(\\'img4965_35fd_0\\');\" onmouseout=\"out(\\'img4965_35fd_0\\');\"  ><img src=\"typo3temp/menu/ec5d8265d1.png\" width=\"315\" height=\"17\"  alt=\"Alumni\" id=\"img4965_35fd_0\" /></a></div><div class=\"dropdownline\"><a href=\"en/dialog/foerderer/\" onfocus=\"blurLink(this);\" onmouseover=\"over(\\'img5882_35fd_1\\');\" onmouseout=\"out(\\'img5882_35fd_1\\');\"  ><img src=\"typo3temp/menu/8b31159d25.png\" width=\"315\" height=\"17\"  alt=\"F\\xc3\\xb6rderer\" id=\"img5882_35fd_1\" /></a></div><div class=\"dropdownline\"><a href=\"en/dialog/kommunikationpresse/\" onfocus=\"blurLink(this);\" onmouseover=\"over(\\'img4968_35fd_2\\');\" onmouseout=\"out(\\'img4968_35fd_2\\');\"  ><img src=\"typo3temp/menu/b47fa0c28a.png\" width=\"315\" height=\"17\"  alt=\"Presse/Kommunikation\" id=\"img4968_35fd_2\" /></a></div><div class=\"dropdownline\"><a href=\"en/university/veranstaltungskalender/veranstaltungen-der-hcu/vorschau/\" onfocus=\"blurLink(this);\" onmouseover=\"over(\\'img4973_35fd_3\\');\" onmouseout=\"out(\\'img4973_35fd_3\\');\"  ><img src=\"typo3temp/menu/f350f4e6bd.png\" width=\"315\" height=\"17\"  alt=\"Veranstaltungskalender\" id=\"img4973_35fd_3\" /></a></div></div></div>',\n",
        " '',\n",
        " '',\n",
        " '',\n",
        " '',\n",
        " '</body>',\n",
        " '</html>']"
       ]
      }
     ],
     "prompt_number": 32
    },
    {
     "cell_type": "code",
     "collapsed": false,
     "input": [
      "response = urllib2.urlopen('ftp://ftp.zmaw.de/')\n",
      "html = response.read()\n",
      "html.splitlines()"
     ],
     "language": "python",
     "metadata": {},
     "outputs": [
      {
       "metadata": {},
       "output_type": "pyout",
       "prompt_number": 8,
       "text": [
        "['dr-xr-x---  17 ftp      ftp         20480 Oct 26 03:15 incoming',\n",
        " 'dr-xr-x---  51 ftp      ftp         12288 Oct 26 03:30 outgoing']"
       ]
      }
     ],
     "prompt_number": 8
    },
    {
     "cell_type": "markdown",
     "metadata": {},
     "source": [
      "Another option is to import it like this:"
     ]
    },
    {
     "cell_type": "code",
     "collapsed": false,
     "input": [
      "from urllib2 import *"
     ],
     "language": "python",
     "metadata": {},
     "outputs": [],
     "prompt_number": 9
    },
    {
     "cell_type": "markdown",
     "metadata": {},
     "source": [
      "In this case all functions will be imported in to the name-space and you can use *urlopen* directly, without typing the name of the library first:"
     ]
    },
    {
     "cell_type": "code",
     "collapsed": false,
     "input": [
      "response = urlopen('ftp://ftp.zmaw.de/')\n",
      "html = response.read()\n",
      "html.splitlines()"
     ],
     "language": "python",
     "metadata": {},
     "outputs": [
      {
       "metadata": {},
       "output_type": "pyout",
       "prompt_number": 10,
       "text": [
        "['dr-xr-x---  17 ftp      ftp         20480 Oct 26 03:15 incoming',\n",
        " 'dr-xr-x---  51 ftp      ftp         12288 Oct 26 03:30 outgoing']"
       ]
      }
     ],
     "prompt_number": 10
    },
    {
     "cell_type": "markdown",
     "metadata": {},
     "source": [
      "But generally I think it's a bad idea, because your name-space is populated by things that you don't really need and it's hard to tell where the function comes from."
     ]
    },
    {
     "cell_type": "code",
     "collapsed": true,
     "input": [
      "whos"
     ],
     "language": "python",
     "metadata": {},
     "outputs": [
      {
       "output_type": "stream",
       "stream": "stdout",
       "text": [
        "Variable                          Type                          Data/Info\n",
        "-------------------------------------------------------------------------\n",
        "AbstractBasicAuthHandler          classobj                      urllib2.AbstractBasicAuthHandler\n",
        "AbstractDigestAuthHandler         classobj                      urllib2.AbstractDigestAuthHandler\n",
        "AbstractHTTPHandler               classobj                      urllib2.AbstractHTTPHandler\n",
        "BaseHandler                       classobj                      urllib2.BaseHandler\n",
        "CacheFTPHandler                   classobj                      urllib2.CacheFTPHandler\n",
        "FTPHandler                        classobj                      urllib2.FTPHandler\n",
        "FileHandler                       classobj                      urllib2.FileHandler\n",
        "HTTPBasicAuthHandler              classobj                      urllib2.HTTPBasicAuthHandler\n",
        "HTTPCookieProcessor               classobj                      urllib2.HTTPCookieProcessor\n",
        "HTTPDefaultErrorHandler           classobj                      urllib2.HTTPDefaultErrorHandler\n",
        "HTTPDigestAuthHandler             classobj                      urllib2.HTTPDigestAuthHandler\n",
        "HTTPError                         type                          <class 'urllib2.HTTPError'>\n",
        "HTTPErrorProcessor                classobj                      urllib2.HTTPErrorProcessor\n",
        "HTTPHandler                       classobj                      urllib2.HTTPHandler\n",
        "HTTPPasswordMgr                   classobj                      urllib2.HTTPPasswordMgr\n",
        "HTTPPasswordMgrWithDefaultRealm   classobj                      urllib2.HTTPPasswordMgrWithDefaultRealm\n",
        "HTTPRedirectHandler               classobj                      urllib2.HTTPRedirectHandler\n",
        "HTTPSHandler                      classobj                      urllib2.HTTPSHandler\n",
        "OpenerDirector                    classobj                      urllib2.OpenerDirector\n",
        "ProxyBasicAuthHandler             classobj                      urllib2.ProxyBasicAuthHandler\n",
        "ProxyDigestAuthHandler            classobj                      urllib2.ProxyDigestAuthHandler\n",
        "ProxyHandler                      classobj                      urllib2.ProxyHandler\n",
        "Request                           classobj                      urllib2.Request\n",
        "StringIO                          builtin_function_or_method    <built-in function StringIO>\n",
        "URLError                          type                          <class 'urllib2.URLError'>\n",
        "UnknownHandler                    classobj                      urllib2.UnknownHandler\n",
        "a                                 int                           10\n",
        "addinfourl                        classobj                      urllib.addinfourl\n",
        "b                                 str                           2\n",
        "base64                            module                        <module 'base64' from '/u<...>ib/python2.7/base64.pyc'>\n",
        "bisect                            module                        <module 'bisect' from '/u<...>ib/python2.7/bisect.pyc'>\n",
        "build_opener                      function                      <function build_opener at 0x323b578>\n",
        "c                                 str                            guys walk into a bar\n",
        "element                           int                           5\n",
        "ftpwrapper                        classobj                      urllib.ftpwrapper\n",
        "getproxies                        function                      <function getproxies_environment at 0x1ef1050>\n",
        "hashlib                           module                        <module 'hashlib' from '/<...>b/python2.7/hashlib.pyc'>\n",
        "html                              str                           dr-xr-x---  16 ftp      f<...> Oct 23 03:30 outgoing\r",
        "\\n\n",
        "httplib                           module                        <module 'httplib' from '/<...>b/python2.7/httplib.pyc'>\n",
        "index                             int                           4\n",
        "install_opener                    function                      <function install_opener at 0x323b230>\n",
        "l                                 list                          n=5\n",
        "localhost                         function                      <function localhost at 0x1eb1e60>\n",
        "mimetools                         module                        <module 'mimetools' from <...>python2.7/mimetools.pyc'>\n",
        "os                                module                        <module 'os' from '/usr/lib/python2.7/os.pyc'>\n",
        "parse_http_list                   function                      <function parse_http_list at 0x323e7d0>\n",
        "parse_keqv_list                   function                      <function parse_keqv_list at 0x323cd70>\n",
        "posixpath                         module                        <module 'posixpath' from <...>python2.7/posixpath.pyc'>\n",
        "proxy_bypass                      function                      <function proxy_bypass_environment at 0x1ef10c8>\n",
        "quote                             function                      <function quote at 0x1ee5e60>\n",
        "randombytes                       function                      <function randombytes at 0x323c668>\n",
        "re                                module                        <module 're' from '/usr/lib/python2.7/re.pyc'>\n",
        "request_host                      function                      <function request_host at 0x323b2a8>\n",
        "response                          urllib.addinfourl             <addinfourl at 54345600 w<...>ct object at 0x33af350>>>\n",
        "socket                            module                        <module 'socket' from '/u<...>ib/python2.7/socket.pyc'>\n",
        "splitattr                         function                      <function splitattr at 0x1ee5c80>\n",
        "splithost                         function                      <function splithost at 0x1ee5938>\n",
        "splitpasswd                       function                      <function splitpasswd at 0x1ee5a28>\n",
        "splitport                         function                      <function splitport at 0x1ee5aa0>\n",
        "splittag                          function                      <function splittag at 0x1ee5c08>\n",
        "splittype                         function                      <function splittype at 0x1ee58c0>\n",
        "splituser                         function                      <function splituser at 0x1ee59b0>\n",
        "splitvalue                        function                      <function splitvalue at 0x1ee5cf8>\n",
        "time                              module                        <module 'time' (built-in)>\n",
        "unquote                           function                      <function unquote at 0x1ee5d70>\n",
        "url2pathname                      function                      <function url2pathname at 0x1eb1938>\n",
        "urllib2                           module                        <module 'urllib2' from '/<...>b/python2.7/urllib2.pyc'>\n",
        "urlopen                           function                      <function urlopen at 0x3238b90>\n",
        "urlparse                          module                        <module 'urlparse' from '<...>/python2.7/urlparse.pyc'>\n",
        "x                                 int                           -1\n",
        "z                                 float                         10.0\n"
       ]
      }
     ],
     "prompt_number": 43
    },
    {
     "cell_type": "markdown",
     "metadata": {},
     "source": [
      "You can import only function that you need:"
     ]
    },
    {
     "cell_type": "code",
     "collapsed": false,
     "input": [
      "from urllib2 import urlopen"
     ],
     "language": "python",
     "metadata": {},
     "outputs": []
    },
    {
     "cell_type": "code",
     "collapsed": false,
     "input": [
      "response = urlopen('ftp://ftp.zmaw.de/')\n",
      "html = response.read()\n",
      "html.splitlines()"
     ],
     "language": "python",
     "metadata": {},
     "outputs": [
      {
       "metadata": {},
       "output_type": "pyout",
       "prompt_number": 44,
       "text": [
        "['dr-xr-x---  16 ftp      ftp         20480 Oct 23 15:51 incoming',\n",
        " 'dr-xr-x---  49 ftp      ftp         12288 Oct 23 03:30 outgoing']"
       ]
      }
     ],
     "prompt_number": 44
    },
    {
     "cell_type": "markdown",
     "metadata": {},
     "source": [
      "Or import library as alias in order to avoid extensive typing:"
     ]
    },
    {
     "cell_type": "code",
     "collapsed": false,
     "input": [
      "import urllib2 as ul"
     ],
     "language": "python",
     "metadata": {},
     "outputs": [],
     "prompt_number": 11
    },
    {
     "cell_type": "code",
     "collapsed": false,
     "input": [
      "response = ul.urlopen('ftp://ftp.zmaw.de/')\n",
      "html = response.read()\n",
      "html.splitlines()"
     ],
     "language": "python",
     "metadata": {},
     "outputs": [
      {
       "metadata": {},
       "output_type": "pyout",
       "prompt_number": 12,
       "text": [
        "['dr-xr-x---  17 ftp      ftp         20480 Oct 26 03:15 incoming',\n",
        " 'dr-xr-x---  51 ftp      ftp         12288 Oct 26 03:30 outgoing']"
       ]
      }
     ],
     "prompt_number": 12
    },
    {
     "cell_type": "heading",
     "level": 2,
     "metadata": {},
     "source": [
      "Links:"
     ]
    },
    {
     "cell_type": "markdown",
     "metadata": {},
     "source": [
      "[Dive Into Python](http://www.diveintopython.net/index.html)"
     ]
    }
   ],
   "metadata": {}
  }
 ]
}