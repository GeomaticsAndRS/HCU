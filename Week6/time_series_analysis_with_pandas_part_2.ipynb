{
 "metadata": {
  "name": "",
  "signature": "sha256:ea53907a1fbd9c4a83751c7a4508f5ea83d7e88d76f5ad99f496cf7a7de5e4f0"
 },
 "nbformat": 3,
 "nbformat_minor": 0,
 "worksheets": [
  {
   "cells": [
    {
     "cell_type": "markdown",
     "metadata": {},
     "source": [
      "**Task:**\n",
      "\n",
      "    continue interactive analysis of time series (AO, NAO indexes)\n",
      "\n",
      "**Module:**\n",
      "    \n",
      "    pandas"
     ]
    },
    {
     "cell_type": "markdown",
     "metadata": {},
     "source": [
      "[Notebook file](http://nbviewer.ipython.org/urls/raw.github.com/koldunovn/earthpy.org/master/content/notebooks/time_series_analysis_with_pandas_part_2.ipynb)"
     ]
    },
    {
     "cell_type": "markdown",
     "metadata": {},
     "source": [
      "In the [previous part](http://earthpy.org/pandas-basics.html) we looked at very basic ways of work with pandas. Here I am going to introduce couple of more advance tricks. We will use very powerful pandas IO capabilities to create time series directly from the text file, try to create seasonal means with *resample* and multi-year monthly means with *groupby*. At the end I will show how new functionality from the upcoming IPython 2.0 can be used to explore your data more efficiently with sort of a simple GUI (*interact* function). There might be easier or better ways to do some of the things discussed here, and I will be happy to hear about them in comments :) "
     ]
    },
    {
     "cell_type": "markdown",
     "metadata": {},
     "source": [
      "Import usual suspects and change some output formatting:"
     ]
    },
    {
     "cell_type": "code",
     "collapsed": false,
     "input": [
      "import pandas as pd\n",
      "import numpy as np\n",
      "%matplotlib inline\n",
      "pd.set_option('max_rows',15) # this limit maximum numbers of rows"
     ],
     "language": "python",
     "metadata": {},
     "outputs": [],
     "prompt_number": 1
    },
    {
     "cell_type": "markdown",
     "metadata": {},
     "source": [
      "We also going to download necessary files. their description can be found in the [first part](http://earthpy.org/pandas-basics.html)."
     ]
    },
    {
     "cell_type": "heading",
     "level": 2,
     "metadata": {},
     "source": [
      "Pandas IO"
     ]
    },
    {
     "cell_type": "markdown",
     "metadata": {},
     "source": [
      "Pandas is equipped with very rich IO functionality, that allows direct conversion of essentially any text table based data format to Series or DataFrame directly. There is very [good extensive documentation with a lot of examples](http://pandas.pydata.org/pandas-docs/stable/io.html). Here we are going to open AO file in the same way we did in the [first part](http://earthpy.org/pandas-basics.html) and NAO file with pandas io. Then we are going to combine two in one DataFrame."
     ]
    },
    {
     "cell_type": "markdown",
     "metadata": {},
     "source": [
      "Simple numpy loadtxt, create dates and then Series."
     ]
    },
    {
     "cell_type": "code",
     "collapsed": false,
     "input": [
      "ham_tmin = pd.read_csv('./Ham_tmin.txt', parse_dates=True, index_col=0, names=['Time','tmin'])\n",
      "ham_tmax = pd.read_csv('./Ham_tmax.txt', parse_dates=True, index_col=0, names=['Time','tmax'])"
     ],
     "language": "python",
     "metadata": {},
     "outputs": [],
     "prompt_number": 12
    },
    {
     "cell_type": "code",
     "collapsed": false,
     "input": [
      "tm = pd.DataFrame({'TMAX':ham_tmax.tmax/10.,'TMIN':ham_tmin.tmin/10.})"
     ],
     "language": "python",
     "metadata": {},
     "outputs": [],
     "prompt_number": 19
    },
    {
     "cell_type": "code",
     "collapsed": false,
     "input": [
      "tm"
     ],
     "language": "python",
     "metadata": {},
     "outputs": [
      {
       "html": [
        "<div style=\"max-height:1000px;max-width:1500px;overflow:auto;\">\n",
        "<table border=\"1\" class=\"dataframe\">\n",
        "  <thead>\n",
        "    <tr style=\"text-align: right;\">\n",
        "      <th></th>\n",
        "      <th>TMAX</th>\n",
        "      <th>TMIN</th>\n",
        "    </tr>\n",
        "    <tr>\n",
        "      <th>Time</th>\n",
        "      <th></th>\n",
        "      <th></th>\n",
        "    </tr>\n",
        "  </thead>\n",
        "  <tbody>\n",
        "    <tr>\n",
        "      <th>1891-01-01</th>\n",
        "      <td> -7.2</td>\n",
        "      <td>-13.2</td>\n",
        "    </tr>\n",
        "    <tr>\n",
        "      <th>1891-01-02</th>\n",
        "      <td> -4.3</td>\n",
        "      <td>-11.9</td>\n",
        "    </tr>\n",
        "    <tr>\n",
        "      <th>1891-01-03</th>\n",
        "      <td> -3.2</td>\n",
        "      <td>-11.6</td>\n",
        "    </tr>\n",
        "    <tr>\n",
        "      <th>1891-01-04</th>\n",
        "      <td>  1.2</td>\n",
        "      <td>-10.8</td>\n",
        "    </tr>\n",
        "    <tr>\n",
        "      <th>1891-01-05</th>\n",
        "      <td> -2.9</td>\n",
        "      <td> -3.7</td>\n",
        "    </tr>\n",
        "    <tr>\n",
        "      <th>1891-01-06</th>\n",
        "      <td> -4.3</td>\n",
        "      <td> -5.8</td>\n",
        "    </tr>\n",
        "    <tr>\n",
        "      <th>1891-01-07</th>\n",
        "      <td> -3.7</td>\n",
        "      <td> -5.8</td>\n",
        "    </tr>\n",
        "    <tr>\n",
        "      <th>...</th>\n",
        "      <td>...</td>\n",
        "      <td>...</td>\n",
        "    </tr>\n",
        "    <tr>\n",
        "      <th>2014-08-25</th>\n",
        "      <td> 16.7</td>\n",
        "      <td>  5.6</td>\n",
        "    </tr>\n",
        "    <tr>\n",
        "      <th>2014-08-26</th>\n",
        "      <td> 19.0</td>\n",
        "      <td>  3.8</td>\n",
        "    </tr>\n",
        "    <tr>\n",
        "      <th>2014-08-27</th>\n",
        "      <td> 21.9</td>\n",
        "      <td>  6.6</td>\n",
        "    </tr>\n",
        "    <tr>\n",
        "      <th>2014-08-28</th>\n",
        "      <td> 23.4</td>\n",
        "      <td>  6.7</td>\n",
        "    </tr>\n",
        "    <tr>\n",
        "      <th>2014-08-29</th>\n",
        "      <td> 21.6</td>\n",
        "      <td> 13.2</td>\n",
        "    </tr>\n",
        "    <tr>\n",
        "      <th>2014-08-30</th>\n",
        "      <td> 19.8</td>\n",
        "      <td> 12.8</td>\n",
        "    </tr>\n",
        "    <tr>\n",
        "      <th>2014-08-31</th>\n",
        "      <td> 18.4</td>\n",
        "      <td> 10.3</td>\n",
        "    </tr>\n",
        "  </tbody>\n",
        "</table>\n",
        "<p>45168 rows \u00d7 2 columns</p>\n",
        "</div>"
       ],
       "metadata": {},
       "output_type": "pyout",
       "prompt_number": 20,
       "text": [
        "            TMAX  TMIN\n",
        "Time                  \n",
        "1891-01-01  -7.2 -13.2\n",
        "1891-01-02  -4.3 -11.9\n",
        "1891-01-03  -3.2 -11.6\n",
        "1891-01-04   1.2 -10.8\n",
        "1891-01-05  -2.9  -3.7\n",
        "1891-01-06  -4.3  -5.8\n",
        "1891-01-07  -3.7  -5.8\n",
        "...          ...   ...\n",
        "2014-08-25  16.7   5.6\n",
        "2014-08-26  19.0   3.8\n",
        "2014-08-27  21.9   6.6\n",
        "2014-08-28  23.4   6.7\n",
        "2014-08-29  21.6  13.2\n",
        "2014-08-30  19.8  12.8\n",
        "2014-08-31  18.4  10.3\n",
        "\n",
        "[45168 rows x 2 columns]"
       ]
      }
     ],
     "prompt_number": 20
    },
    {
     "cell_type": "markdown",
     "metadata": {},
     "source": [
      "But our data are monthly means, so they are related not to some particular point in time, but rather to the time interval, or time span. We can convert time stamps in our Series to time periods, and then combine them. "
     ]
    },
    {
     "cell_type": "code",
     "collapsed": false,
     "input": [
      "aonao = pd.DataFrame({'AO':AO.to_period(freq='M'), 'NAO':NAO.to_period(freq='M')} )"
     ],
     "language": "python",
     "metadata": {},
     "outputs": [],
     "prompt_number": 61
    },
    {
     "cell_type": "code",
     "collapsed": false,
     "input": [
      "aonao.head(10)"
     ],
     "language": "python",
     "metadata": {},
     "outputs": [
      {
       "html": [
        "<div style=\"max-height:1000px;max-width:1500px;overflow:auto;\">\n",
        "<table border=\"1\" class=\"dataframe\">\n",
        "  <thead>\n",
        "    <tr style=\"text-align: right;\">\n",
        "      <th></th>\n",
        "      <th>AO</th>\n",
        "      <th>NAO</th>\n",
        "    </tr>\n",
        "  </thead>\n",
        "  <tbody>\n",
        "    <tr>\n",
        "      <th>1950-01</th>\n",
        "      <td>-0.060310</td>\n",
        "      <td> 0.92</td>\n",
        "    </tr>\n",
        "    <tr>\n",
        "      <th>1950-02</th>\n",
        "      <td> 0.626810</td>\n",
        "      <td> 0.40</td>\n",
        "    </tr>\n",
        "    <tr>\n",
        "      <th>1950-03</th>\n",
        "      <td>-0.008127</td>\n",
        "      <td>-0.36</td>\n",
        "    </tr>\n",
        "    <tr>\n",
        "      <th>1950-04</th>\n",
        "      <td> 0.555100</td>\n",
        "      <td> 0.73</td>\n",
        "    </tr>\n",
        "    <tr>\n",
        "      <th>1950-05</th>\n",
        "      <td> 0.071577</td>\n",
        "      <td>-0.59</td>\n",
        "    </tr>\n",
        "    <tr>\n",
        "      <th>1950-06</th>\n",
        "      <td> 0.538570</td>\n",
        "      <td>-0.06</td>\n",
        "    </tr>\n",
        "    <tr>\n",
        "      <th>1950-07</th>\n",
        "      <td>-0.802480</td>\n",
        "      <td>-1.26</td>\n",
        "    </tr>\n",
        "    <tr>\n",
        "      <th>1950-08</th>\n",
        "      <td>-0.851010</td>\n",
        "      <td>-0.05</td>\n",
        "    </tr>\n",
        "    <tr>\n",
        "      <th>1950-09</th>\n",
        "      <td> 0.357970</td>\n",
        "      <td> 0.25</td>\n",
        "    </tr>\n",
        "    <tr>\n",
        "      <th>1950-10</th>\n",
        "      <td>-0.378900</td>\n",
        "      <td> 0.85</td>\n",
        "    </tr>\n",
        "  </tbody>\n",
        "</table>\n",
        "<p>10 rows \u00d7 2 columns</p>\n",
        "</div>"
       ],
       "metadata": {},
       "output_type": "pyout",
       "prompt_number": 62,
       "text": [
        "               AO   NAO\n",
        "1950-01 -0.060310  0.92\n",
        "1950-02  0.626810  0.40\n",
        "1950-03 -0.008127 -0.36\n",
        "1950-04  0.555100  0.73\n",
        "1950-05  0.071577 -0.59\n",
        "1950-06  0.538570 -0.06\n",
        "1950-07 -0.802480 -1.26\n",
        "1950-08 -0.851010 -0.05\n",
        "1950-09  0.357970  0.25\n",
        "1950-10 -0.378900  0.85\n",
        "\n",
        "[10 rows x 2 columns]"
       ]
      }
     ],
     "prompt_number": 62
    },
    {
     "cell_type": "markdown",
     "metadata": {},
     "source": [
      "Note that now index show only years and months. Below you can see that type of indexes for original time series and for converted one differ:"
     ]
    },
    {
     "cell_type": "code",
     "collapsed": false,
     "input": [
      "type(tm.index)"
     ],
     "language": "python",
     "metadata": {},
     "outputs": [
      {
       "metadata": {},
       "output_type": "pyout",
       "prompt_number": 28,
       "text": [
        "pandas.tseries.index.DatetimeIndex"
       ]
      }
     ],
     "prompt_number": 28
    },
    {
     "cell_type": "code",
     "collapsed": false,
     "input": [
      "type(tm.to_period(freq='D').index)"
     ],
     "language": "python",
     "metadata": {},
     "outputs": [
      {
       "metadata": {},
       "output_type": "pyout",
       "prompt_number": 25,
       "text": [
        "pandas.tseries.period.PeriodIndex"
       ]
      }
     ],
     "prompt_number": 25
    },
    {
     "cell_type": "code",
     "collapsed": false,
     "input": [
      "tm.to_period(freq='D')"
     ],
     "language": "python",
     "metadata": {},
     "outputs": [
      {
       "html": [
        "<div style=\"max-height:1000px;max-width:1500px;overflow:auto;\">\n",
        "<table border=\"1\" class=\"dataframe\">\n",
        "  <thead>\n",
        "    <tr style=\"text-align: right;\">\n",
        "      <th></th>\n",
        "      <th>TMAX</th>\n",
        "      <th>TMIN</th>\n",
        "    </tr>\n",
        "    <tr>\n",
        "      <th>Time</th>\n",
        "      <th></th>\n",
        "      <th></th>\n",
        "    </tr>\n",
        "  </thead>\n",
        "  <tbody>\n",
        "    <tr>\n",
        "      <th>1891-01-01</th>\n",
        "      <td> -7.2</td>\n",
        "      <td>-13.2</td>\n",
        "    </tr>\n",
        "    <tr>\n",
        "      <th>1891-01-02</th>\n",
        "      <td> -4.3</td>\n",
        "      <td>-11.9</td>\n",
        "    </tr>\n",
        "    <tr>\n",
        "      <th>1891-01-03</th>\n",
        "      <td> -3.2</td>\n",
        "      <td>-11.6</td>\n",
        "    </tr>\n",
        "    <tr>\n",
        "      <th>1891-01-04</th>\n",
        "      <td>  1.2</td>\n",
        "      <td>-10.8</td>\n",
        "    </tr>\n",
        "    <tr>\n",
        "      <th>1891-01-05</th>\n",
        "      <td> -2.9</td>\n",
        "      <td> -3.7</td>\n",
        "    </tr>\n",
        "    <tr>\n",
        "      <th>1891-01-06</th>\n",
        "      <td> -4.3</td>\n",
        "      <td> -5.8</td>\n",
        "    </tr>\n",
        "    <tr>\n",
        "      <th>1891-01-07</th>\n",
        "      <td> -3.7</td>\n",
        "      <td> -5.8</td>\n",
        "    </tr>\n",
        "    <tr>\n",
        "      <th>...</th>\n",
        "      <td>...</td>\n",
        "      <td>...</td>\n",
        "    </tr>\n",
        "    <tr>\n",
        "      <th>2014-08-25</th>\n",
        "      <td> 16.7</td>\n",
        "      <td>  5.6</td>\n",
        "    </tr>\n",
        "    <tr>\n",
        "      <th>2014-08-26</th>\n",
        "      <td> 19.0</td>\n",
        "      <td>  3.8</td>\n",
        "    </tr>\n",
        "    <tr>\n",
        "      <th>2014-08-27</th>\n",
        "      <td> 21.9</td>\n",
        "      <td>  6.6</td>\n",
        "    </tr>\n",
        "    <tr>\n",
        "      <th>2014-08-28</th>\n",
        "      <td> 23.4</td>\n",
        "      <td>  6.7</td>\n",
        "    </tr>\n",
        "    <tr>\n",
        "      <th>2014-08-29</th>\n",
        "      <td> 21.6</td>\n",
        "      <td> 13.2</td>\n",
        "    </tr>\n",
        "    <tr>\n",
        "      <th>2014-08-30</th>\n",
        "      <td> 19.8</td>\n",
        "      <td> 12.8</td>\n",
        "    </tr>\n",
        "    <tr>\n",
        "      <th>2014-08-31</th>\n",
        "      <td> 18.4</td>\n",
        "      <td> 10.3</td>\n",
        "    </tr>\n",
        "  </tbody>\n",
        "</table>\n",
        "<p>45168 rows \u00d7 2 columns</p>\n",
        "</div>"
       ],
       "metadata": {},
       "output_type": "pyout",
       "prompt_number": 27,
       "text": [
        "            TMAX  TMIN\n",
        "Time                  \n",
        "1891-01-01  -7.2 -13.2\n",
        "1891-01-02  -4.3 -11.9\n",
        "1891-01-03  -3.2 -11.6\n",
        "1891-01-04   1.2 -10.8\n",
        "1891-01-05  -2.9  -3.7\n",
        "1891-01-06  -4.3  -5.8\n",
        "1891-01-07  -3.7  -5.8\n",
        "...          ...   ...\n",
        "2014-08-25  16.7   5.6\n",
        "2014-08-26  19.0   3.8\n",
        "2014-08-27  21.9   6.6\n",
        "2014-08-28  23.4   6.7\n",
        "2014-08-29  21.6  13.2\n",
        "2014-08-30  19.8  12.8\n",
        "2014-08-31  18.4  10.3\n",
        "\n",
        "[45168 rows x 2 columns]"
       ]
      }
     ],
     "prompt_number": 27
    },
    {
     "cell_type": "heading",
     "level": 2,
     "metadata": {},
     "source": [
      "Seasonal means with resample"
     ]
    },
    {
     "cell_type": "markdown",
     "metadata": {},
     "source": [
      "Initially pandas was created for analysis of financial information and it thinks not in seasons, but in quarters. So we have to resample our data to quarters. We also need to make a shift from standard quarters, so they correspond with seasons. This is done by using 'Q-NOV' as a time frequency, indicating that year in our case ends in November: "
     ]
    },
    {
     "cell_type": "code",
     "collapsed": false,
     "input": [
      "q_mean = tm.resample('Q-NOV')"
     ],
     "language": "python",
     "metadata": {},
     "outputs": [],
     "prompt_number": 29
    },
    {
     "cell_type": "code",
     "collapsed": false,
     "input": [
      "q_mean.head()"
     ],
     "language": "python",
     "metadata": {},
     "outputs": [
      {
       "html": [
        "<div style=\"max-height:1000px;max-width:1500px;overflow:auto;\">\n",
        "<table border=\"1\" class=\"dataframe\">\n",
        "  <thead>\n",
        "    <tr style=\"text-align: right;\">\n",
        "      <th></th>\n",
        "      <th>TMAX</th>\n",
        "      <th>TMIN</th>\n",
        "    </tr>\n",
        "    <tr>\n",
        "      <th>Time</th>\n",
        "      <th></th>\n",
        "      <th></th>\n",
        "    </tr>\n",
        "  </thead>\n",
        "  <tbody>\n",
        "    <tr>\n",
        "      <th>1891-02-28</th>\n",
        "      <td>  0.988136</td>\n",
        "      <td> -3.598305</td>\n",
        "    </tr>\n",
        "    <tr>\n",
        "      <th>1891-05-31</th>\n",
        "      <td>  9.996739</td>\n",
        "      <td>  3.652174</td>\n",
        "    </tr>\n",
        "    <tr>\n",
        "      <th>1891-08-31</th>\n",
        "      <td> 18.960870</td>\n",
        "      <td> 12.502174</td>\n",
        "    </tr>\n",
        "    <tr>\n",
        "      <th>1891-11-30</th>\n",
        "      <td> 12.731868</td>\n",
        "      <td>  7.449451</td>\n",
        "    </tr>\n",
        "    <tr>\n",
        "      <th>1892-02-29</th>\n",
        "      <td>  2.796703</td>\n",
        "      <td> -1.213187</td>\n",
        "    </tr>\n",
        "  </tbody>\n",
        "</table>\n",
        "</div>"
       ],
       "metadata": {},
       "output_type": "pyout",
       "prompt_number": 30,
       "text": [
        "                 TMAX       TMIN\n",
        "Time                            \n",
        "1891-02-28   0.988136  -3.598305\n",
        "1891-05-31   9.996739   3.652174\n",
        "1891-08-31  18.960870  12.502174\n",
        "1891-11-30  12.731868   7.449451\n",
        "1892-02-29   2.796703  -1.213187"
       ]
      }
     ],
     "prompt_number": 30
    },
    {
     "cell_type": "markdown",
     "metadata": {},
     "source": [
      "Winter temperatures"
     ]
    },
    {
     "cell_type": "code",
     "collapsed": false,
     "input": [
      "q_mean[q_mean.index.quarter==1].plot(figsize=(8,5))"
     ],
     "language": "python",
     "metadata": {},
     "outputs": [
      {
       "metadata": {},
       "output_type": "pyout",
       "prompt_number": 31,
       "text": [
        "<matplotlib.axes._subplots.AxesSubplot at 0xaee7a08c>"
       ]
      },
      {
       "metadata": {},
       "output_type": "display_data",
       "png": "[encoded data removed]",
       "text": [
        "<matplotlib.figure.Figure at 0xae80132c>"
       ]
      }
     ],
     "prompt_number": 31
    },
    {
     "cell_type": "markdown",
     "metadata": {},
     "source": [
      "##Exercise\n",
      "\n",
      "Plot summer mean"
     ]
    },
    {
     "cell_type": "code",
     "collapsed": false,
     "input": [],
     "language": "python",
     "metadata": {},
     "outputs": []
    },
    {
     "cell_type": "markdown",
     "metadata": {},
     "source": [
      "If you don't mind to sacrifice first two months (that strictly speaking can't represent the whole winter of 1890-1891), there is another way to do similar thing by just resampling to 3M (3 months) interval starting from March (third data point):"
     ]
    },
    {
     "cell_type": "code",
     "collapsed": false,
     "input": [
      "tm[59:63]"
     ],
     "language": "python",
     "metadata": {},
     "outputs": [
      {
       "html": [
        "<div style=\"max-height:1000px;max-width:1500px;overflow:auto;\">\n",
        "<table border=\"1\" class=\"dataframe\">\n",
        "  <thead>\n",
        "    <tr style=\"text-align: right;\">\n",
        "      <th></th>\n",
        "      <th>TMAX</th>\n",
        "      <th>TMIN</th>\n",
        "    </tr>\n",
        "    <tr>\n",
        "      <th>Time</th>\n",
        "      <th></th>\n",
        "      <th></th>\n",
        "    </tr>\n",
        "  </thead>\n",
        "  <tbody>\n",
        "    <tr>\n",
        "      <th>1891-03-01</th>\n",
        "      <td> 8.0</td>\n",
        "      <td> 2.2</td>\n",
        "    </tr>\n",
        "    <tr>\n",
        "      <th>1891-03-02</th>\n",
        "      <td> 8.6</td>\n",
        "      <td> 5.8</td>\n",
        "    </tr>\n",
        "    <tr>\n",
        "      <th>1891-03-03</th>\n",
        "      <td> 6.2</td>\n",
        "      <td> 2.2</td>\n",
        "    </tr>\n",
        "    <tr>\n",
        "      <th>1891-03-04</th>\n",
        "      <td> 6.9</td>\n",
        "      <td>-0.1</td>\n",
        "    </tr>\n",
        "  </tbody>\n",
        "</table>\n",
        "</div>"
       ],
       "metadata": {},
       "output_type": "pyout",
       "prompt_number": 37,
       "text": [
        "            TMAX  TMIN\n",
        "Time                  \n",
        "1891-03-01   8.0   2.2\n",
        "1891-03-02   8.6   5.8\n",
        "1891-03-03   6.2   2.2\n",
        "1891-03-04   6.9  -0.1"
       ]
      }
     ],
     "prompt_number": 37
    },
    {
     "cell_type": "code",
     "collapsed": false,
     "input": [
      "m3_mean = tm[59:].resample('3M', closed='left'  )"
     ],
     "language": "python",
     "metadata": {},
     "outputs": [],
     "prompt_number": 38
    },
    {
     "cell_type": "code",
     "collapsed": false,
     "input": [
      "m3_mean.head()"
     ],
     "language": "python",
     "metadata": {},
     "outputs": [
      {
       "html": [
        "<div style=\"max-height:1000px;max-width:1500px;overflow:auto;\">\n",
        "<table border=\"1\" class=\"dataframe\">\n",
        "  <thead>\n",
        "    <tr style=\"text-align: right;\">\n",
        "      <th></th>\n",
        "      <th>TMAX</th>\n",
        "      <th>TMIN</th>\n",
        "    </tr>\n",
        "    <tr>\n",
        "      <th>Time</th>\n",
        "      <th></th>\n",
        "      <th></th>\n",
        "    </tr>\n",
        "  </thead>\n",
        "  <tbody>\n",
        "    <tr>\n",
        "      <th>1891-05-31</th>\n",
        "      <td>  9.870330</td>\n",
        "      <td>  3.548352</td>\n",
        "    </tr>\n",
        "    <tr>\n",
        "      <th>1891-08-31</th>\n",
        "      <td> 18.976087</td>\n",
        "      <td> 12.510870</td>\n",
        "    </tr>\n",
        "    <tr>\n",
        "      <th>1891-11-30</th>\n",
        "      <td> 12.913187</td>\n",
        "      <td>  7.578022</td>\n",
        "    </tr>\n",
        "    <tr>\n",
        "      <th>1892-02-29</th>\n",
        "      <td>  2.804396</td>\n",
        "      <td> -1.220879</td>\n",
        "    </tr>\n",
        "    <tr>\n",
        "      <th>1892-05-31</th>\n",
        "      <td> 10.418478</td>\n",
        "      <td>  2.928261</td>\n",
        "    </tr>\n",
        "  </tbody>\n",
        "</table>\n",
        "</div>"
       ],
       "metadata": {},
       "output_type": "pyout",
       "prompt_number": 39,
       "text": [
        "                 TMAX       TMIN\n",
        "Time                            \n",
        "1891-05-31   9.870330   3.548352\n",
        "1891-08-31  18.976087  12.510870\n",
        "1891-11-30  12.913187   7.578022\n",
        "1892-02-29   2.804396  -1.220879\n",
        "1892-05-31  10.418478   2.928261"
       ]
      }
     ],
     "prompt_number": 39
    },
    {
     "cell_type": "markdown",
     "metadata": {},
     "source": [
      "Now in order to select all winter months we have to choose Februaries (last month of the season):"
     ]
    },
    {
     "cell_type": "code",
     "collapsed": false,
     "input": [
      "m3_mean[m3_mean.index.month==2].plot(figsize=(8,5))"
     ],
     "language": "python",
     "metadata": {},
     "outputs": [
      {
       "metadata": {},
       "output_type": "pyout",
       "prompt_number": 40,
       "text": [
        "<matplotlib.axes._subplots.AxesSubplot at 0xaefd0c8c>"
       ]
      },
      {
       "metadata": {},
       "output_type": "display_data",
       "png": "[encoded data removed]",
       "text": [
        "<matplotlib.figure.Figure at 0xaef04ccc>"
       ]
      }
     ],
     "prompt_number": 40
    },
    {
     "cell_type": "markdown",
     "metadata": {},
     "source": [
      "Result is the same except for the first point."
     ]
    },
    {
     "cell_type": "markdown",
     "metadata": {},
     "source": [
      "##Exercise\n",
      "Calculate 10 day intervals"
     ]
    },
    {
     "cell_type": "heading",
     "level": 2,
     "metadata": {},
     "source": [
      "Multi-year monthly means with *groupby*"
     ]
    },
    {
     "cell_type": "markdown",
     "metadata": {},
     "source": [
      " <img src=\"files/splitApplyCombine.png\">"
     ]
    },
    {
     "cell_type": "markdown",
     "metadata": {},
     "source": [
      "First step will be to add another column to our DataFrame with month numbers:"
     ]
    },
    {
     "cell_type": "code",
     "collapsed": false,
     "input": [
      "tm['mon'] = tm.index.month\n",
      "tm"
     ],
     "language": "python",
     "metadata": {},
     "outputs": [
      {
       "html": [
        "<div style=\"max-height:1000px;max-width:1500px;overflow:auto;\">\n",
        "<table border=\"1\" class=\"dataframe\">\n",
        "  <thead>\n",
        "    <tr style=\"text-align: right;\">\n",
        "      <th></th>\n",
        "      <th>TMAX</th>\n",
        "      <th>TMIN</th>\n",
        "      <th>mon</th>\n",
        "    </tr>\n",
        "    <tr>\n",
        "      <th>Time</th>\n",
        "      <th></th>\n",
        "      <th></th>\n",
        "      <th></th>\n",
        "    </tr>\n",
        "  </thead>\n",
        "  <tbody>\n",
        "    <tr>\n",
        "      <th>1891-01-01</th>\n",
        "      <td> -7.2</td>\n",
        "      <td>-13.2</td>\n",
        "      <td> 1</td>\n",
        "    </tr>\n",
        "    <tr>\n",
        "      <th>1891-01-02</th>\n",
        "      <td> -4.3</td>\n",
        "      <td>-11.9</td>\n",
        "      <td> 1</td>\n",
        "    </tr>\n",
        "    <tr>\n",
        "      <th>1891-01-03</th>\n",
        "      <td> -3.2</td>\n",
        "      <td>-11.6</td>\n",
        "      <td> 1</td>\n",
        "    </tr>\n",
        "    <tr>\n",
        "      <th>1891-01-04</th>\n",
        "      <td>  1.2</td>\n",
        "      <td>-10.8</td>\n",
        "      <td> 1</td>\n",
        "    </tr>\n",
        "    <tr>\n",
        "      <th>1891-01-05</th>\n",
        "      <td> -2.9</td>\n",
        "      <td> -3.7</td>\n",
        "      <td> 1</td>\n",
        "    </tr>\n",
        "    <tr>\n",
        "      <th>1891-01-06</th>\n",
        "      <td> -4.3</td>\n",
        "      <td> -5.8</td>\n",
        "      <td> 1</td>\n",
        "    </tr>\n",
        "    <tr>\n",
        "      <th>1891-01-07</th>\n",
        "      <td> -3.7</td>\n",
        "      <td> -5.8</td>\n",
        "      <td> 1</td>\n",
        "    </tr>\n",
        "    <tr>\n",
        "      <th>...</th>\n",
        "      <td>...</td>\n",
        "      <td>...</td>\n",
        "      <td>...</td>\n",
        "    </tr>\n",
        "    <tr>\n",
        "      <th>2014-08-25</th>\n",
        "      <td> 16.7</td>\n",
        "      <td>  5.6</td>\n",
        "      <td> 8</td>\n",
        "    </tr>\n",
        "    <tr>\n",
        "      <th>2014-08-26</th>\n",
        "      <td> 19.0</td>\n",
        "      <td>  3.8</td>\n",
        "      <td> 8</td>\n",
        "    </tr>\n",
        "    <tr>\n",
        "      <th>2014-08-27</th>\n",
        "      <td> 21.9</td>\n",
        "      <td>  6.6</td>\n",
        "      <td> 8</td>\n",
        "    </tr>\n",
        "    <tr>\n",
        "      <th>2014-08-28</th>\n",
        "      <td> 23.4</td>\n",
        "      <td>  6.7</td>\n",
        "      <td> 8</td>\n",
        "    </tr>\n",
        "    <tr>\n",
        "      <th>2014-08-29</th>\n",
        "      <td> 21.6</td>\n",
        "      <td> 13.2</td>\n",
        "      <td> 8</td>\n",
        "    </tr>\n",
        "    <tr>\n",
        "      <th>2014-08-30</th>\n",
        "      <td> 19.8</td>\n",
        "      <td> 12.8</td>\n",
        "      <td> 8</td>\n",
        "    </tr>\n",
        "    <tr>\n",
        "      <th>2014-08-31</th>\n",
        "      <td> 18.4</td>\n",
        "      <td> 10.3</td>\n",
        "      <td> 8</td>\n",
        "    </tr>\n",
        "  </tbody>\n",
        "</table>\n",
        "<p>45168 rows \u00d7 3 columns</p>\n",
        "</div>"
       ],
       "metadata": {},
       "output_type": "pyout",
       "prompt_number": 41,
       "text": [
        "            TMAX  TMIN  mon\n",
        "Time                       \n",
        "1891-01-01  -7.2 -13.2    1\n",
        "1891-01-02  -4.3 -11.9    1\n",
        "1891-01-03  -3.2 -11.6    1\n",
        "1891-01-04   1.2 -10.8    1\n",
        "1891-01-05  -2.9  -3.7    1\n",
        "1891-01-06  -4.3  -5.8    1\n",
        "1891-01-07  -3.7  -5.8    1\n",
        "...          ...   ...  ...\n",
        "2014-08-25  16.7   5.6    8\n",
        "2014-08-26  19.0   3.8    8\n",
        "2014-08-27  21.9   6.6    8\n",
        "2014-08-28  23.4   6.7    8\n",
        "2014-08-29  21.6  13.2    8\n",
        "2014-08-30  19.8  12.8    8\n",
        "2014-08-31  18.4  10.3    8\n",
        "\n",
        "[45168 rows x 3 columns]"
       ]
      }
     ],
     "prompt_number": 41
    },
    {
     "cell_type": "markdown",
     "metadata": {},
     "source": [
      "Now we can use [*groupby*](http://pandas.pydata.org/pandas-docs/stable/groupby.html) to group our values by months and calculate mean for each of the groups (month in our case):"
     ]
    },
    {
     "cell_type": "code",
     "collapsed": false,
     "input": [
      "monmean = tm.groupby('mon').aggregate(np.mean)\n",
      "monmean.plot(kind='bar')\n"
     ],
     "language": "python",
     "metadata": {},
     "outputs": [
      {
       "metadata": {},
       "output_type": "pyout",
       "prompt_number": 56,
       "text": [
        "<matplotlib.axes._subplots.AxesSubplot at 0xae44dfac>"
       ]
      },
      {
       "metadata": {},
       "output_type": "display_data",
       "png": "[encoded data removed]",
       "text": [
        "<matplotlib.figure.Figure at 0xae3d30ac>"
       ]
      }
     ],
     "prompt_number": 56
    },
    {
     "cell_type": "markdown",
     "metadata": {},
     "source": [
      "##Exercise\n",
      " - Calculate and plot mean temperatures for 1891-1950 and 1951-2010\n",
      " - Calculate and plot differences between this two variables"
     ]
    },
    {
     "cell_type": "code",
     "collapsed": false,
     "input": [],
     "language": "python",
     "metadata": {},
     "outputs": []
    },
    {
     "cell_type": "markdown",
     "metadata": {},
     "source": [
      "Sometimes it is useful to look at the [box plots](http://en.wikipedia.org/wiki/Box_plot) for every month:"
     ]
    },
    {
     "cell_type": "code",
     "collapsed": false,
     "input": [
      "ax = tm.boxplot(column=['TMAX'], by='mon')\n",
      "ax = tm.boxplot(column=['TMIN'], by='mon')"
     ],
     "language": "python",
     "metadata": {},
     "outputs": [
      {
       "metadata": {},
       "output_type": "display_data",
       "png": "[encoded data removed]",
       "text": [
        "<matplotlib.figure.Figure at 0xae61c74c>"
       ]
      },
      {
       "metadata": {},
       "output_type": "display_data",
       "png": "[encoded data removed]",
       "text": [
        "<matplotlib.figure.Figure at 0xae531fcc>"
       ]
      }
     ],
     "prompt_number": 57
    },
    {
     "cell_type": "markdown",
     "metadata": {},
     "source": [
      "While NAO show more or less uniform spread, AO have pronounced seasonal variations, with largest spread during winter months."
     ]
    }
   ],
   "metadata": {}
  }
 ]
}