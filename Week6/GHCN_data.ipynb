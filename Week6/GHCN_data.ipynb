{
 "metadata": {
  "name": "",
  "signature": "sha256:b83d11f306b922e9aee11eb7ccd655e20292e8eb09581e5fe7285cdd3ea30b13"
 },
 "nbformat": 3,
 "nbformat_minor": 0,
 "worksheets": [
  {
   "cells": [
    {
     "cell_type": "markdown",
     "metadata": {},
     "source": [
      "We have been working with data obtained from [GHCN (Global Historical Climatology Network)-Daily](http://www.ncdc.noaa.gov/oa/climate/ghcn-daily/) data. \n",
      "\n",
      "Convinient way to select data from there is to use [KNMI Climatological Service](http://climexp.knmi.nl/selectdailyseries.cgi?id)"
     ]
    },
    {
     "cell_type": "code",
     "collapsed": false,
     "input": [
      "%matplotlib inline\n",
      "import pandas as pd\n",
      "import numpy as np"
     ],
     "language": "python",
     "metadata": {},
     "outputs": []
    },
    {
     "cell_type": "code",
     "collapsed": false,
     "input": [
      "msk = pd.read_table('xgdcnRSM00027612.dat.txt', sep='\\s*', skiprows=5, \\\n",
      "        parse_dates={'dates':[0, 1, 2]}, header=None, index_col=0, squeeze=True )"
     ],
     "language": "python",
     "metadata": {},
     "outputs": []
    },
    {
     "cell_type": "code",
     "collapsed": false,
     "input": [
      "msk.plot()"
     ],
     "language": "python",
     "metadata": {},
     "outputs": []
    },
    {
     "cell_type": "markdown",
     "metadata": {},
     "source": [
      "##Exercise\n",
      "\n",
      "- Select TMAX data set for your home city or nearby place\n",
      "- Open it with pandas\n",
      "- Plot data for 2000-2010\n",
      "- Find maximum and minimum TMAX for all observational period\n",
      "- Find mean temperature\n",
      "- Plot monthly means\n",
      "- Plot maximum/minimum temperatures for each month\n",
      "- Plot seasonal mean for one of the seasons\n",
      "- Plot overall monthly means (use groupby(msk.index.month))\n",
      "- Plot daily season cycle ( use index.dayofyear )\n",
      "- Plot daily seasonal cycle and +- standard deviation"
     ]
    },
    {
     "cell_type": "code",
     "collapsed": false,
     "input": [],
     "language": "python",
     "metadata": {},
     "outputs": []
    }
   ],
   "metadata": {}
  }
 ]
}